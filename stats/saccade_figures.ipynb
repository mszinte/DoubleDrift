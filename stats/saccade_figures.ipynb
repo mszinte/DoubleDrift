{
 "cells": [
  {
   "cell_type": "markdown",
   "id": "cb78db1f-8364-4669-82af-daa47836d04f",
   "metadata": {},
   "source": [
    "# DoubleDrift\n",
    "\n",
    "#### Project description:\n",
    "_Adaptation of experiment 1 (perception) of Lisa & Cavanagh, 2015, Current Biology<br>\n",
    "(http://dx.doi.org/10.1016/j.cub.2015.08.021) for the AMU Neuroscience Master APP 2024 courses._\n",
    "\n",
    "#### Hypothesis: \n",
    "_Participants mislocalize perceptively the drifting gabor but saccade to correctly to its<br>\n",
    " physical position_\n",
    " \n",
    "#### Exercice for APP2024:\n",
    "_Analyse data to reach an adapted version of Figure 1 of [Lisa & Cavanagh, 2015, Current Biology](http://dx.doi.org/10.1016/j.cub.2015.08.021)_\n",
    "\n",
    "<img src=\"img/Lisi_Cavanagh_2015_CB_Figure1.png\" width=700 alt=\"Figure 1\">\n",
    "<!-- ![Lisi_Cavanagh_2015_CB_Figure1.png]()  -->"
   ]
  },
  {
   "cell_type": "markdown",
   "id": "7b983848-2e4a-4784-ad09-bca57c83172b",
   "metadata": {},
   "source": [
    "#### Eye movement data analysis:\n",
    "\n",
    "- [x] Saccade analysis output graph\n",
    "- [x] Saccade parameter graph\n",
    "- [ ] Saccade landing analysis"
   ]
  },
  {
   "cell_type": "code",
   "execution_count": 3,
   "id": "44e0db61-e382-40e9-84e1-e01fe7708f01",
   "metadata": {
    "tags": []
   },
   "outputs": [],
   "source": [
    "# Imports\n",
    "import os\n",
    "import numpy as np\n",
    "import pandas as pd\n",
    "from scipy.stats import norm, linregress\n",
    "\n",
    "# figure imports\n",
    "import plotly.graph_objects as go\n",
    "from plotly.subplots import make_subplots\n",
    "import plotly.express as px\n",
    "from plot_utils import plotly_template\n",
    "import plotly.express as px"
   ]
  },
  {
   "cell_type": "code",
   "execution_count": 4,
   "id": "726cb378-fcc8-4edc-99c8-8e1e0cdd9291",
   "metadata": {
    "tags": []
   },
   "outputs": [],
   "source": [
    "# Define folders\n",
    "base_dir = '..'\n",
    "data_dir = '{}/data'.format(base_dir)\n",
    "subject = 'sub-01'\n",
    "session = 'ses-02'\n",
    "subject_num = subject[4:]\n",
    "fig_dir = '{}/{}/{}/beh/figures'.format(data_dir, subject, session)"
   ]
  },
  {
   "cell_type": "code",
   "execution_count": 5,
   "id": "163b3f55-27c9-4c11-adcc-0755d4c39119",
   "metadata": {},
   "outputs": [],
   "source": [
    "# Save dataframe\n",
    "df_all = pd.read_csv('{}/{}/{}/beh/{}_task-DoubleDriftSaccade_data.csv'.format(data_dir, subject, session, subject))"
   ]
  },
  {
   "cell_type": "markdown",
   "id": "69091f4a-85b7-416a-8d77-9be7d54db203",
   "metadata": {},
   "source": [
    "#### Saccade analysis output graph"
   ]
  },
  {
   "cell_type": "code",
   "execution_count": 16,
   "id": "9fa0e669-f7bf-4def-898d-8061d6f71721",
   "metadata": {
    "tags": []
   },
   "outputs": [
    {
     "data": {
      "application/vnd.plotly.v1+json": {
       "config": {
        "plotlyServerURL": "https://plot.ly"
       },
       "data": [
        {
         "marker": {
          "color": "rgb(29, 105, 150)"
         },
         "name": "Left saccades",
         "orientation": "h",
         "type": "bar",
         "x": [
          0,
          2,
          82,
          60,
          2,
          0,
          0
         ],
         "xaxis": "x",
         "y": [
          "<i>Missing data<i>",
          "<i>Blink<i>",
          "<i>Accurate saccade<i>",
          "<i>Corrective saccade<i>",
          "<i>Innacurate saccade<i>",
          "<i>Early saccade (< 0 ms)<i>",
          "<i>Late saccade (> 600 ms)<i>"
         ],
         "yaxis": "y"
        },
        {
         "marker": {
          "color": "rgb(204, 80, 62)"
         },
         "name": "Right saccades",
         "orientation": "h",
         "type": "bar",
         "x": [
          0,
          2,
          109,
          65,
          1,
          0,
          2
         ],
         "xaxis": "x",
         "y": [
          "<i>Missing data<i>",
          "<i>Blink<i>",
          "<i>Accurate saccade<i>",
          "<i>Corrective saccade<i>",
          "<i>Innacurate saccade<i>",
          "<i>Early saccade (< 0 ms)<i>",
          "<i>Late saccade (> 600 ms)<i>"
         ],
         "yaxis": "y"
        }
       ],
       "layout": {
        "annotations": [
         {
          "font": {
           "size": 16
          },
          "showarrow": false,
          "text": "<b>Trial distribution per saccade direction<b>",
          "x": 0.5,
          "xanchor": "center",
          "xref": "paper",
          "y": 1,
          "yanchor": "bottom",
          "yref": "paper"
         },
         {
          "font": {
           "size": 13
          },
          "showarrow": false,
          "text": "Left saccades",
          "x": 1.15,
          "xanchor": "left",
          "xref": "paper",
          "y": 0.97,
          "yanchor": "middle",
          "yref": "paper"
         },
         {
          "font": {
           "size": 13
          },
          "showarrow": false,
          "text": "Right saccades",
          "x": 1.15,
          "xanchor": "left",
          "xref": "paper",
          "y": 0.89,
          "yanchor": "middle",
          "yref": "paper"
         },
         {
          "font": {
           "size": 13
          },
          "showarrow": false,
          "text": "<i>0 %<i>",
          "x": 0,
          "xanchor": "left",
          "xref": "x",
          "y": 0,
          "yref": "y"
         },
         {
          "font": {
           "size": 13
          },
          "showarrow": false,
          "text": "<i>2 %<i>",
          "x": 4,
          "xanchor": "left",
          "xref": "x",
          "y": 1,
          "yref": "y"
         },
         {
          "font": {
           "size": 13
          },
          "showarrow": false,
          "text": "<i>96 %<i>",
          "x": 191,
          "xanchor": "left",
          "xref": "x",
          "y": 2,
          "yref": "y"
         },
         {
          "font": {
           "size": 13
          },
          "showarrow": false,
          "text": "<i>62 %<i>",
          "x": 125,
          "xanchor": "left",
          "xref": "x",
          "y": 3,
          "yref": "y"
         },
         {
          "font": {
           "size": 13
          },
          "showarrow": false,
          "text": "<i>2 %<i>",
          "x": 3,
          "xanchor": "left",
          "xref": "x",
          "y": 4,
          "yref": "y"
         },
         {
          "font": {
           "size": 13
          },
          "showarrow": false,
          "text": "<i>0 %<i>",
          "x": 0,
          "xanchor": "left",
          "xref": "x",
          "y": 5,
          "yref": "y"
         },
         {
          "font": {
           "size": 13
          },
          "showarrow": false,
          "text": "<i>1 %<i>",
          "x": 2,
          "xanchor": "left",
          "xref": "x",
          "y": 6,
          "yref": "y"
         }
        ],
        "barmode": "stack",
        "height": 300,
        "margin": {
         "b": 0,
         "l": 200,
         "r": 200,
         "t": 50
        },
        "shapes": [
         {
          "fillcolor": "rgb(29, 105, 150)",
          "line": {
           "width": 0
          },
          "type": "rect",
          "x0": 1.0799999999999998,
          "x1": 1.1199999999999999,
          "xref": "paper",
          "y0": 0.95,
          "y1": 0.99,
          "yref": "paper"
         },
         {
          "fillcolor": "rgb(204, 80, 62)",
          "line": {
           "width": 0
          },
          "type": "rect",
          "x0": 1.0799999999999998,
          "x1": 1.1199999999999999,
          "xref": "paper",
          "y0": 0.87,
          "y1": 0.91,
          "yref": "paper"
         }
        ],
        "showlegend": false,
        "template": {
         "data": {
          "barpolar": [
           {
            "marker": {
             "line": {
              "color": "rgba(0, 0, 0, 1)",
              "width": 1.5
             }
            },
            "showlegend": false,
            "thetaunit": "radians",
            "type": "barpolar"
           }
          ],
          "pie": [
           {
            "direction": "clockwise",
            "hole": 0.4,
            "marker": {
             "line": {
              "color": [
               "rgba(0, 0, 0, 1)",
               "rgba(255,255,255,0)"
              ],
              "width": [
               1.5,
               0
              ]
             }
            },
            "rotation": 0,
            "showlegend": false,
            "sort": false,
            "textposition": [
             "inside",
             "none"
            ],
            "type": "pie"
           }
          ],
          "violin": [
           {
            "box": {
             "visible": false
            },
            "hoveron": "violins",
            "line": {
             "color": "rgba(0, 0, 0, 1)",
             "width": 1.5
            },
            "marker": {
             "opacity": 0.5,
             "symbol": "x"
            },
            "meanline": {
             "color": "rgba(0, 0, 0, 1)",
             "visible": true,
             "width": 1.5
            },
            "opacity": 1,
            "points": false,
            "showlegend": false,
            "type": "violin",
            "width": 0.8
           }
          ]
         },
         "layout": {
          "annotationdefaults": {
           "font": {
            "color": "rgba(0, 0, 0, 1)",
            "family": "Helvetica",
            "size": 15
           }
          },
          "font": {
           "family": "Helvetica",
           "size": 13
          },
          "plot_bgcolor": "rgba(255, 255, 255, 1)",
          "polar": {
           "angularaxis": {
            "showticklabels": false,
            "ticks": "",
            "visible": false
           },
           "radialaxis": {
            "showticklabels": false,
            "ticks": "",
            "visible": false
           }
          },
          "xaxis": {
           "color": "rgba(0, 0, 0, 1)",
           "hoverformat": ".1f",
           "linewidth": 2,
           "range": [
            0,
            1
           ],
           "showgrid": false,
           "tickfont": {
            "family": "Helvetica",
            "size": 13
           },
           "ticklen": 8,
           "ticks": "outside",
           "tickwidth": 2,
           "title": {
            "font": {
             "family": "Helvetica",
             "size": 15
            }
           },
           "visible": true,
           "zeroline": false,
           "zerolinecolor": "rgba(0, 0, 0, 1)",
           "zerolinewidth": 2
          },
          "yaxis": {
           "color": "rgba(0, 0, 0, 1)",
           "hoverformat": ".1f",
           "linewidth": 2,
           "showgrid": false,
           "tickfont": {
            "family": "Helvetica",
            "size": 13
           },
           "ticklen": 8,
           "ticks": "outside",
           "tickwidth": 2,
           "title": {
            "font": {
             "family": "Helvetica",
             "size": 15
            }
           },
           "visible": true,
           "zeroline": false,
           "zerolinecolor": "rgba(0, 0, 0, 1)",
           "zerolinewidth": 2
          }
         }
        },
        "width": 800,
        "xaxis": {
         "anchor": "y",
         "domain": [
          0,
          1
         ],
         "linewidth": 2,
         "range": [
          0,
          250
         ],
         "ticklen": 8,
         "type": "linear",
         "visible": true
        },
        "yaxis": {
         "anchor": "x",
         "autorange": true,
         "domain": [
          0,
          1
         ],
         "linewidth": 2,
         "range": [
          6.5,
          -0.5
         ],
         "ticklen": 8,
         "type": "category",
         "visible": true
        }
       }
      },
      "image/png": "[encoded data removed]",
      "text/html": [
       "<div>                            <div id=\"7bdd7c80-3191-4d30-8784-750bd8c8987a\" class=\"plotly-graph-div\" style=\"height:300px; width:800px;\"></div>            <script type=\"text/javascript\">                require([\"plotly\"], function(Plotly) {                    window.PLOTLYENV=window.PLOTLYENV || {};                                    if (document.getElementById(\"7bdd7c80-3191-4d30-8784-750bd8c8987a\")) {                    Plotly.newPlot(                        \"7bdd7c80-3191-4d30-8784-750bd8c8987a\",                        [{\"marker\":{\"color\":\"rgb(29, 105, 150)\"},\"name\":\"Left saccades\",\"orientation\":\"h\",\"x\":[0.0,2.0,82.0,60.0,2.0,0.0,0.0],\"y\":[\"\\u003ci\\u003eMissing data\\u003ci\\u003e\",\"\\u003ci\\u003eBlink\\u003ci\\u003e\",\"\\u003ci\\u003eAccurate saccade\\u003ci\\u003e\",\"\\u003ci\\u003eCorrective saccade\\u003ci\\u003e\",\"\\u003ci\\u003eInnacurate saccade\\u003ci\\u003e\",\"\\u003ci\\u003eEarly saccade (\\u003c 0 ms)\\u003ci\\u003e\",\"\\u003ci\\u003eLate saccade (\\u003e 600 ms)\\u003ci\\u003e\"],\"type\":\"bar\",\"xaxis\":\"x\",\"yaxis\":\"y\"},{\"marker\":{\"color\":\"rgb(204, 80, 62)\"},\"name\":\"Right saccades\",\"orientation\":\"h\",\"x\":[0.0,2.0,109.0,65.0,1.0,0.0,2.0],\"y\":[\"\\u003ci\\u003eMissing data\\u003ci\\u003e\",\"\\u003ci\\u003eBlink\\u003ci\\u003e\",\"\\u003ci\\u003eAccurate saccade\\u003ci\\u003e\",\"\\u003ci\\u003eCorrective saccade\\u003ci\\u003e\",\"\\u003ci\\u003eInnacurate saccade\\u003ci\\u003e\",\"\\u003ci\\u003eEarly saccade (\\u003c 0 ms)\\u003ci\\u003e\",\"\\u003ci\\u003eLate saccade (\\u003e 600 ms)\\u003ci\\u003e\"],\"type\":\"bar\",\"xaxis\":\"x\",\"yaxis\":\"y\"}],                        {\"template\":{\"data\":{\"barpolar\":[{\"marker\":{\"line\":{\"color\":\"rgba(0,0,0,1)\",\"width\":1.5}},\"showlegend\":false,\"thetaunit\":\"radians\",\"type\":\"barpolar\"}],\"pie\":[{\"direction\":\"clockwise\",\"hole\":0.4,\"marker\":{\"line\":{\"color\":[\"rgba(0,0,0,1)\",\"rgba(255,255,255,0)\"],\"width\":[1.5,0]}},\"rotation\":0,\"showlegend\":false,\"sort\":false,\"textposition\":[\"inside\",\"none\"],\"type\":\"pie\"}],\"violin\":[{\"box\":{\"visible\":false},\"hoveron\":\"violins\",\"line\":{\"color\":\"rgba(0, 0, 0, 1)\",\"width\":1.5},\"marker\":{\"opacity\":0.5,\"symbol\":\"x\"},\"meanline\":{\"color\":\"rgba(0, 0, 0, 1)\",\"visible\":true,\"width\":1.5},\"opacity\":1,\"points\":false,\"showlegend\":false,\"width\":0.8,\"type\":\"violin\"}]},\"layout\":{\"annotationdefaults\":{\"font\":{\"color\":\"rgba(0, 0, 0, 1)\",\"family\":\"Helvetica\",\"size\":15}},\"font\":{\"family\":\"Helvetica\",\"size\":13},\"plot_bgcolor\":\"rgba(255, 255, 255, 1)\",\"polar\":{\"angularaxis\":{\"showticklabels\":false,\"ticks\":\"\",\"visible\":false},\"radialaxis\":{\"showticklabels\":false,\"ticks\":\"\",\"visible\":false}},\"xaxis\":{\"color\":\"rgba(0, 0, 0, 1)\",\"hoverformat\":\".1f\",\"linewidth\":2,\"range\":[0,1],\"showgrid\":false,\"tickfont\":{\"family\":\"Helvetica\",\"size\":13},\"ticklen\":8,\"ticks\":\"outside\",\"tickwidth\":2,\"title\":{\"font\":{\"family\":\"Helvetica\",\"size\":15}},\"visible\":true,\"zeroline\":false,\"zerolinecolor\":\"rgba(0, 0, 0, 1)\",\"zerolinewidth\":2},\"yaxis\":{\"color\":\"rgba(0, 0, 0, 1)\",\"hoverformat\":\".1f\",\"linewidth\":2,\"showgrid\":false,\"tickfont\":{\"family\":\"Helvetica\",\"size\":13},\"ticklen\":8,\"ticks\":\"outside\",\"tickwidth\":2,\"title\":{\"font\":{\"family\":\"Helvetica\",\"size\":15}},\"visible\":true,\"zeroline\":false,\"zerolinecolor\":\"rgba(0, 0, 0, 1)\",\"zerolinewidth\":2}}},\"xaxis\":{\"anchor\":\"y\",\"domain\":[0.0,1.0],\"visible\":true,\"ticklen\":8,\"linewidth\":2,\"range\":[0,250]},\"yaxis\":{\"anchor\":\"x\",\"domain\":[0.0,1.0],\"visible\":true,\"ticklen\":8,\"linewidth\":2,\"autorange\":\"reversed\"},\"annotations\":[{\"font\":{\"size\":16},\"showarrow\":false,\"text\":\"\\u003cb\\u003eTrial distribution per saccade direction\\u003cb\\u003e\",\"x\":0.5,\"xanchor\":\"center\",\"xref\":\"paper\",\"y\":1.0,\"yanchor\":\"bottom\",\"yref\":\"paper\"},{\"font\":{\"size\":13},\"showarrow\":false,\"text\":\"Left saccades\",\"x\":1.15,\"xanchor\":\"left\",\"xref\":\"paper\",\"y\":0.97,\"yanchor\":\"middle\",\"yref\":\"paper\"},{\"font\":{\"size\":13},\"showarrow\":false,\"text\":\"Right saccades\",\"x\":1.15,\"xanchor\":\"left\",\"xref\":\"paper\",\"y\":0.89,\"yanchor\":\"middle\",\"yref\":\"paper\"},{\"font\":{\"size\":13},\"showarrow\":false,\"text\":\"\\u003ci\\u003e0 %\\u003ci\\u003e\",\"x\":0.0,\"xanchor\":\"left\",\"xref\":\"x\",\"y\":0,\"yref\":\"y\"},{\"font\":{\"size\":13},\"showarrow\":false,\"text\":\"\\u003ci\\u003e2 %\\u003ci\\u003e\",\"x\":4.0,\"xanchor\":\"left\",\"xref\":\"x\",\"y\":1,\"yref\":\"y\"},{\"font\":{\"size\":13},\"showarrow\":false,\"text\":\"\\u003ci\\u003e96 %\\u003ci\\u003e\",\"x\":191.0,\"xanchor\":\"left\",\"xref\":\"x\",\"y\":2,\"yref\":\"y\"},{\"font\":{\"size\":13},\"showarrow\":false,\"text\":\"\\u003ci\\u003e62 %\\u003ci\\u003e\",\"x\":125.0,\"xanchor\":\"left\",\"xref\":\"x\",\"y\":3,\"yref\":\"y\"},{\"font\":{\"size\":13},\"showarrow\":false,\"text\":\"\\u003ci\\u003e2 %\\u003ci\\u003e\",\"x\":3.0,\"xanchor\":\"left\",\"xref\":\"x\",\"y\":4,\"yref\":\"y\"},{\"font\":{\"size\":13},\"showarrow\":false,\"text\":\"\\u003ci\\u003e0 %\\u003ci\\u003e\",\"x\":0.0,\"xanchor\":\"left\",\"xref\":\"x\",\"y\":5,\"yref\":\"y\"},{\"font\":{\"size\":13},\"showarrow\":false,\"text\":\"\\u003ci\\u003e1 %\\u003ci\\u003e\",\"x\":2.0,\"xanchor\":\"left\",\"xref\":\"x\",\"y\":6,\"yref\":\"y\"}],\"shapes\":[{\"fillcolor\":\"rgb(29, 105, 150)\",\"line\":{\"width\":0},\"type\":\"rect\",\"x0\":1.0799999999999998,\"x1\":1.1199999999999999,\"xref\":\"paper\",\"y0\":0.95,\"y1\":0.99,\"yref\":\"paper\"},{\"fillcolor\":\"rgb(204, 80, 62)\",\"line\":{\"width\":0},\"type\":\"rect\",\"x0\":1.0799999999999998,\"x1\":1.1199999999999999,\"xref\":\"paper\",\"y0\":0.87,\"y1\":0.91,\"yref\":\"paper\"}],\"margin\":{\"l\":200,\"r\":200,\"t\":50,\"b\":0},\"width\":800,\"height\":300,\"barmode\":\"stack\",\"showlegend\":false},                        {\"responsive\": true}                    ).then(function(){\n",
       "                            \n",
       "var gd = document.getElementById('7bdd7c80-3191-4d30-8784-750bd8c8987a');\n",
       "var x = new MutationObserver(function (mutations, observer) {{\n",
       "        var display = window.getComputedStyle(gd).display;\n",
       "        if (!display || display === 'none') {{\n",
       "            console.log([gd, 'removed!']);\n",
       "            Plotly.purge(gd);\n",
       "            observer.disconnect();\n",
       "        }}\n",
       "}});\n",
       "\n",
       "// Listen for the removal of the full notebook cells\n",
       "var notebookContainer = gd.closest('#notebook-container');\n",
       "if (notebookContainer) {{\n",
       "    x.observe(notebookContainer, {childList: true});\n",
       "}}\n",
       "\n",
       "// Listen for the clearing of the current output cell\n",
       "var outputEl = gd.closest('.output');\n",
       "if (outputEl) {{\n",
       "    x.observe(outputEl, {childList: true});\n",
       "}}\n",
       "\n",
       "                        })                };                });            </script>        </div>"
      ]
     },
     "metadata": {},
     "output_type": "display_data"
    }
   ],
   "source": [
    "# general figure settings\n",
    "template_specs = dict(  axes_color=\"rgba(0, 0, 0, 1)\",\n",
    "                        axes_width=2,\n",
    "                        axes_font_size=13,\n",
    "                        bg_col=\"rgba(255, 255, 255, 1)\",\n",
    "                        font='Helvetica',\n",
    "                        title_font_size=15,\n",
    "                        plot_width=1.5)\n",
    "fig_template = plotly_template(template_specs)\n",
    "\n",
    "# figure specific settings\n",
    "x_range = [0,250]\n",
    "colors_panel = px.colors.qualitative.Prism\n",
    "subplot_titles = ('<b>Trial distribution per saccade direction<b>', '<b>Trial distribution per external motion orientation<b>')\n",
    "analysis_crit = ['<i>Missing data<i>', '<i>Blink<i>', '<i>Accurate saccade<i>', '<i>Corrective saccade<i>', \n",
    "                 '<i>Innacurate saccade<i>', '<i>Early saccade (< 0 ms)<i>', '<i>Late saccade (> 600 ms)<i>']\n",
    "analysis_crit_df = ['miss_time_trial', 'blink_trial', 'main_sac_trial', 'cor_sac_trial',\n",
    "                    'innacurate_sac_trial', 'early_sac_trial', 'late_sac_trial']\n",
    "x_label = 'Trials'\n",
    "mos = ['-75 deg', '-60 deg', '-45 deg', '-30 deg', '-15 deg', '+15 deg', '+30 deg', '+45 deg', '+60 deg', '+75 deg']\n",
    "sds = ['Left saccades', 'Right saccades']\n",
    "mo_cols = [colors_panel[0], colors_panel[1], colors_panel[2], colors_panel[3], colors_panel[4], \n",
    "           colors_panel[5], colors_panel[6], colors_panel[7], colors_panel[8], colors_panel[9]]\n",
    "sd_cols = [colors_panel[1], colors_panel[7]]\n",
    "x_legend = 1.15\n",
    "y_legend_step = 0.08\n",
    "y_legend_sd = 0.97\n",
    "y_legend_mo = 0.36\n",
    "rad_leg = 0.04\n",
    "\n",
    "# subplot settings\n",
    "rows, cols = 1, 1\n",
    "fig_height, fig_width = 300,800\n",
    "column_widths,row_heights = [1],[1]\n",
    "sb_specs = [[{}]]\n",
    "fig = make_subplots(rows=rows, cols=cols, specs=sb_specs, print_grid=False, vertical_spacing=0.2, horizontal_spacing=0.05, \n",
    "                    column_widths=column_widths, row_heights=row_heights, shared_yaxes=True, subplot_titles=subplot_titles)\n",
    "\n",
    "# Right / Left saccades\n",
    "# ---------------------\n",
    "for sd_num, sd in enumerate(sds):\n",
    "    # plot\n",
    "    fig.append_trace(go.Bar(y=analysis_crit, x=df_all.loc[(df_all.ext_mot_pos == sd_num + 1)][analysis_crit_df].sum(), \n",
    "                            orientation='h', name=sd, marker_color=sd_cols[sd_num]), row=1, col=1)\n",
    "    # legend\n",
    "    fig.add_annotation(xref='paper', yref='paper', x=x_legend, y=y_legend_sd - y_legend_step * sd_num, \n",
    "                       text=sd, showarrow=False, font_size = template_specs['axes_font_size'],xanchor = 'left', yanchor='middle')\n",
    "    fig.add_shape(type='rect',xref='paper', yref='paper', fillcolor=sd_cols[sd_num],line_width=0,\n",
    "                  x0=x_legend - 0.05 - rad_leg / 2, y0=y_legend_sd - y_legend_step * sd_num - rad_leg / 2, \n",
    "                  x1=x_legend - 0.05 + rad_leg / 2, y1=y_legend_sd - y_legend_step * sd_num + rad_leg / 2)\n",
    "    \n",
    "# annotation value\n",
    "for num_crit, crit_name in enumerate(analysis_crit_df):\n",
    "    fig.add_annotation(x=df_all[crit_name].sum(), y=num_crit, text='<i>{:1.0f} %<i>'.format(df_all[crit_name].mean()*100), \n",
    "                       showarrow=False, font_size = template_specs['axes_font_size'],xanchor = 'left', row=1, col=1)\n",
    "\n",
    "# axes settings\n",
    "for row in np.arange(rows):\n",
    "    for col in np.arange(cols):\n",
    "        fig.update_xaxes(visible=True, ticklen=8, linewidth=template_specs['axes_width'], range=x_range, row=row+1, col=col+1)\n",
    "        fig.update_yaxes(visible=True, ticklen=8, linewidth=template_specs['axes_width'], autorange=\"reversed\", row=row+1, col=col+1)\n",
    "    \n",
    "# Save figure\n",
    "fig.layout.update(template=fig_template, width=fig_width, height=fig_height, margin_l=200, \n",
    "                  margin_r=200, margin_t=50, margin_b=0, barmode='stack', showlegend=False)\n",
    "fig.show()\n",
    "if not os.path.exists(fig_dir):os.mkdir(fig_dir)\n",
    "fig.write_image('{}/{}_trial_dist.pdf'.format(fig_dir, subject))"
   ]
  },
  {
   "cell_type": "markdown",
   "id": "f5ddc0f5-db49-417e-9f43-0fcc543ab698",
   "metadata": {},
   "source": [
    "#### Saccade parameter graph"
   ]
  },
  {
   "cell_type": "code",
   "execution_count": 20,
   "id": "c5034b6c-68c2-472a-af90-62e767faf903",
   "metadata": {
    "tags": []
   },
   "outputs": [
    {
     "data": {
      "application/vnd.plotly.v1+json": {
       "config": {
        "plotlyServerURL": "https://plot.ly"
       },
       "data": [
        {
         "marker": {
          "color": "rgb(29, 105, 150)"
         },
         "name": "Left saccades",
         "type": "histogram",
         "x": [
          281,
          220,
          356,
          47,
          330,
          453,
          295,
          342,
          284,
          427,
          392,
          307,
          268,
          293,
          255,
          311,
          269,
          402,
          468,
          325,
          396,
          527,
          306,
          463,
          405,
          340,
          379,
          311,
          270,
          451,
          396,
          241,
          495,
          276,
          256,
          323,
          221,
          275,
          267,
          259,
          317,
          452,
          245,
          433,
          256,
          384,
          294,
          493,
          263,
          346,
          337,
          399,
          389,
          386,
          313,
          376,
          247,
          350,
          253,
          335,
          334,
          412,
          269,
          300,
          349,
          358,
          293,
          352,
          280,
          298,
          281,
          217,
          343,
          239,
          383,
          260,
          360,
          474,
          289,
          343,
          266,
          284
         ],
         "xaxis": "x",
         "xbins": {
          "size": 20
         },
         "yaxis": "y"
        },
        {
         "marker": {
          "color": "rgb(29, 105, 150)"
         },
         "name": "Left saccades",
         "type": "histogram",
         "x": [
          11.040441581378854,
          11.24873855822677,
          11.771336905549717,
          11.600859019827748,
          9.651067582017536,
          11.180549475425542,
          10.40097558634257,
          11.767169338190715,
          11.150770654575014,
          11.500429366023551,
          12.637098114473956,
          11.628339604434435,
          11.063537595519994,
          11.328956411070982,
          11.47011985969664,
          12.2980871313009,
          11.489115105270288,
          11.410689598239498,
          9.971643149932897,
          10.968927381274506,
          11.799154155614822,
          12.12306837456354,
          11.30089785679666,
          10.650115121268566,
          11.883327407071697,
          10.431021406233516,
          10.46423398592094,
          11.810168355932989,
          10.909450053034462,
          11.15774238852137,
          10.49893711245998,
          12.289172819997006,
          11.233474476191809,
          11.332583081819312,
          11.8466243193865,
          11.472142636613706,
          10.875965420797284,
          11.305370856174946,
          11.80893965161871,
          11.042214278611088,
          11.616502683180864,
          11.099601302643364,
          10.175878929603716,
          11.210902782129397,
          10.91392044916678,
          10.188133556658634,
          11.248051480465769,
          10.531528216151182,
          9.9507255017184,
          10.756308848072656,
          11.635897937451482,
          11.003640085859518,
          10.944522198387508,
          12.160218543590544,
          12.197953023854913,
          11.077933144593386,
          11.155154009770731,
          9.496274177378034,
          10.833533860079422,
          11.000442519864064,
          9.961008479332984,
          10.835617971633924,
          9.012766177322458,
          10.991132048976509,
          9.818722405348671,
          10.260332196384462,
          12.030332221892662,
          10.593849879957531,
          10.41587157296306,
          11.046180790477132,
          10.867846613371642,
          10.598253284842814,
          11.477392984724004,
          9.867853728407804,
          10.97671272072045,
          11.267398243549684,
          9.48214245637464,
          10.760867361101637,
          9.792192316370134,
          11.497499713658568,
          11.577728026098644,
          8.643047188238675
         ],
         "xaxis": "x2",
         "xbins": {
          "size": 0.25
         },
         "yaxis": "y2"
        },
        {
         "marker": {
          "color": "rgb(29, 105, 150)"
         },
         "name": "Left saccades",
         "type": "histogram",
         "x": [
          541.5752360466881,
          560.5550847892571,
          575.0546776480367,
          633.4606442109824,
          459.7529212501304,
          518.1302612139875,
          522.1348300687956,
          609.3869785780718,
          570.2444482950576,
          531.1058415190142,
          516.59783438398,
          560.2209913816204,
          623.4968492996888,
          548.6576972433228,
          577.1864813549945,
          572.87775913902,
          588.7754240705833,
          579.8138089392377,
          527.9671879900521,
          578.6573908433193,
          540.1087163946971,
          645.32022884026,
          577.5983563167338,
          605.3770648033998,
          653.702551867767,
          571.4510928493737,
          507.6926916187471,
          481.7468167438779,
          560.1960377464766,
          562.0926135837036,
          551.0937216330658,
          621.9941858829935,
          562.9227767091481,
          591.9447686239083,
          563.2393124856417,
          591.4632606489361,
          601.8444352284785,
          558.546632945816,
          603.4739491292722,
          566.3849508207111,
          539.4915029967863,
          542.1059694627045,
          525.6785452040735,
          627.0056920785165,
          550.5628863842018,
          530.6443968015589,
          580.4480684021487,
          576.0343226645602,
          570.1157328149503,
          506.0671725479996,
          586.5626103668412,
          550.9608342288932,
          625.1710829659082,
          610.5154476758632,
          642.2396399621049,
          635.3229194460065,
          555.0295707585784,
          414.8723247360593,
          580.9650606580807,
          560.792541230526,
          497.2656214025091,
          597.7012397140838,
          435.3907853298923,
          473.6533324171277,
          522.4206517478955,
          607.5605242929269,
          580.3330868255009,
          602.8934515963456,
          410.3704383613353,
          590.7751942409647,
          534.2301050150475,
          548.1855262845442,
          527.9151760990379,
          426.8232734057984,
          548.0786548411763,
          590.4066197893969,
          408.9042438695523,
          603.8113962482283,
          558.8048967271236,
          625.9603951942246,
          571.1880582460493,
          419.3600113729551
         ],
         "xaxis": "x3",
         "xbins": {
          "size": 25
         },
         "yaxis": "y3"
        },
        {
         "line": {
          "width": 0
         },
         "marker": {
          "color": "rgb(29, 105, 150)"
         },
         "mode": "markers",
         "name": "Left saccades",
         "opacity": 0.5,
         "type": "scatter",
         "x": [
          11.040441581378854,
          11.24873855822677,
          11.771336905549717,
          11.600859019827748,
          9.651067582017536,
          11.180549475425542,
          10.40097558634257,
          11.767169338190715,
          11.150770654575014,
          11.500429366023551,
          12.637098114473956,
          11.628339604434435,
          11.063537595519994,
          11.328956411070982,
          11.47011985969664,
          12.2980871313009,
          11.489115105270288,
          11.410689598239498,
          9.971643149932897,
          10.968927381274506,
          11.799154155614822,
          12.12306837456354,
          11.30089785679666,
          10.650115121268566,
          11.883327407071697,
          10.431021406233516,
          10.46423398592094,
          11.810168355932989,
          10.909450053034462,
          11.15774238852137,
          10.49893711245998,
          12.289172819997006,
          11.233474476191809,
          11.332583081819312,
          11.8466243193865,
          11.472142636613706,
          10.875965420797284,
          11.305370856174946,
          11.80893965161871,
          11.042214278611088,
          11.616502683180864,
          11.099601302643364,
          10.175878929603716,
          11.210902782129397,
          10.91392044916678,
          10.188133556658634,
          11.248051480465769,
          10.531528216151182,
          9.9507255017184,
          10.756308848072656,
          11.635897937451482,
          11.003640085859518,
          10.944522198387508,
          12.160218543590544,
          12.197953023854913,
          11.077933144593386,
          11.155154009770731,
          9.496274177378034,
          10.833533860079422,
          11.000442519864064,
          9.961008479332984,
          10.835617971633924,
          9.012766177322458,
          10.991132048976509,
          9.818722405348671,
          10.260332196384462,
          12.030332221892662,
          10.593849879957531,
          10.41587157296306,
          11.046180790477132,
          10.867846613371642,
          10.598253284842814,
          11.477392984724004,
          9.867853728407804,
          10.97671272072045,
          11.267398243549684,
          9.48214245637464,
          10.760867361101637,
          9.792192316370134,
          11.497499713658568,
          11.577728026098644,
          8.643047188238675
         ],
         "xaxis": "x4",
         "y": [
          541.5752360466881,
          560.5550847892571,
          575.0546776480367,
          633.4606442109824,
          459.7529212501304,
          518.1302612139875,
          522.1348300687956,
          609.3869785780718,
          570.2444482950576,
          531.1058415190142,
          516.59783438398,
          560.2209913816204,
          623.4968492996888,
          548.6576972433228,
          577.1864813549945,
          572.87775913902,
          588.7754240705833,
          579.8138089392377,
          527.9671879900521,
          578.6573908433193,
          540.1087163946971,
          645.32022884026,
          577.5983563167338,
          605.3770648033998,
          653.702551867767,
          571.4510928493737,
          507.6926916187471,
          481.7468167438779,
          560.1960377464766,
          562.0926135837036,
          551.0937216330658,
          621.9941858829935,
          562.9227767091481,
          591.9447686239083,
          563.2393124856417,
          591.4632606489361,
          601.8444352284785,
          558.546632945816,
          603.4739491292722,
          566.3849508207111,
          539.4915029967863,
          542.1059694627045,
          525.6785452040735,
          627.0056920785165,
          550.5628863842018,
          530.6443968015589,
          580.4480684021487,
          576.0343226645602,
          570.1157328149503,
          506.0671725479996,
          586.5626103668412,
          550.9608342288932,
          625.1710829659082,
          610.5154476758632,
          642.2396399621049,
          635.3229194460065,
          555.0295707585784,
          414.8723247360593,
          580.9650606580807,
          560.792541230526,
          497.2656214025091,
          597.7012397140838,
          435.3907853298923,
          473.6533324171277,
          522.4206517478955,
          607.5605242929269,
          580.3330868255009,
          602.8934515963456,
          410.3704383613353,
          590.7751942409647,
          534.2301050150475,
          548.1855262845442,
          527.9151760990379,
          426.8232734057984,
          548.0786548411763,
          590.4066197893969,
          408.9042438695523,
          603.8113962482283,
          558.8048967271236,
          625.9603951942246,
          571.1880582460493,
          419.3600113729551
         ],
         "yaxis": "y4"
        },
        {
         "marker": {
          "color": "rgb(204, 80, 62)"
         },
         "name": "Right saccades",
         "type": "histogram",
         "x": [
          314,
          285,
          408,
          269,
          444,
          290,
          279,
          260,
          376,
          265,
          382,
          339,
          373,
          355,
          275,
          352,
          482,
          464,
          310,
          401,
          283,
          276,
          346,
          471,
          352,
          302,
          343,
          437,
          397,
          340,
          359,
          324,
          322,
          365,
          388,
          458,
          454,
          336,
          264,
          426,
          279,
          384,
          533,
          544,
          340,
          313,
          306,
          361,
          286,
          286,
          301,
          280,
          306,
          342,
          354,
          270,
          388,
          294,
          469,
          243,
          317,
          347,
          501,
          331,
          255,
          323,
          328,
          444,
          374,
          474,
          519,
          458,
          355,
          340,
          368,
          380,
          262,
          532,
          468,
          345,
          358,
          399,
          276,
          287,
          318,
          317,
          324,
          288,
          448,
          357,
          303,
          353,
          343,
          343,
          313,
          495,
          363,
          324,
          323,
          273,
          347,
          331,
          392,
          382,
          180,
          391,
          241,
          239,
          590
         ],
         "xaxis": "x",
         "xbins": {
          "size": 20
         },
         "yaxis": "y"
        },
        {
         "marker": {
          "color": "rgb(204, 80, 62)"
         },
         "name": "Right saccades",
         "type": "histogram",
         "x": [
          10.539069909959029,
          10.619380911044056,
          11.01309230285752,
          10.67545547180864,
          11.43021656465172,
          10.31242944367532,
          9.864298322558552,
          9.859282748456025,
          9.706873085935378,
          10.365092561024422,
          11.382265647868998,
          9.126456017791073,
          12.265632273157916,
          11.873477577654668,
          11.252708406768594,
          11.531132528876572,
          11.60205657332948,
          12.006330587433052,
          11.636127057225783,
          10.34366505693408,
          10.54002375265715,
          10.491767439269225,
          10.757186620572057,
          11.53222926552997,
          10.823723916704337,
          11.706932912395674,
          11.51940947778826,
          11.35614746656419,
          11.006632605781558,
          11.173043442111116,
          10.206996522791226,
          9.886418186779183,
          10.074258094952418,
          10.2025980680547,
          10.71001456206506,
          9.869843103627469,
          11.151637255900845,
          11.110232689033866,
          11.118088822118928,
          11.366233717139345,
          9.843380193914786,
          10.456147863597774,
          11.697055421731616,
          10.48007081579298,
          11.24119384895798,
          10.76036182111494,
          11.690939311224604,
          10.255333299785772,
          10.14215094227065,
          10.335252158474468,
          9.302674903644707,
          10.490446566286842,
          11.313749190520385,
          11.49710108153112,
          10.189557119228352,
          11.277858703347322,
          9.828459571792497,
          10.409101114944956,
          10.707154565474228,
          10.138672226392575,
          10.26654952956311,
          9.18671717669042,
          12.07466563778421,
          9.076778857848142,
          10.267892203179091,
          12.31504215649124,
          10.2334412216529,
          11.278707040864887,
          11.011324710861164,
          11.079157480045057,
          11.06725070140144,
          11.302735186290978,
          11.45330180157345,
          11.892310165865725,
          10.34103976677902,
          11.583617899749914,
          10.87436230859314,
          11.14456010046256,
          10.933985025212754,
          10.4600084236697,
          11.680994955617892,
          11.08508256314383,
          9.692698565910993,
          10.54337516016559,
          10.237656132799197,
          10.638698466217216,
          10.12860156381353,
          10.647720124545256,
          10.547879723881568,
          9.495288045441807,
          10.155484616428945,
          10.135802332718937,
          10.845121061468111,
          10.429031078572816,
          9.394978935926234,
          11.169915825161398,
          11.42955454907309,
          11.053951827134505,
          9.99188385643271,
          10.522919355212773,
          12.780873887517838,
          10.786816766217653,
          10.584197035382976,
          10.879359272496584,
          12.144274804459,
          10.954977047871427,
          11.235879518341342,
          10.698276549126769,
          11.43564961922596
         ],
         "xaxis": "x2",
         "xbins": {
          "size": 0.25
         },
         "yaxis": "y2"
        },
        {
         "marker": {
          "color": "rgb(204, 80, 62)"
         },
         "name": "Right saccades",
         "type": "histogram",
         "x": [
          396.5133483914021,
          370.4598655660285,
          412.1359888786223,
          396.04341755443926,
          435.030192921703,
          418.94709278978553,
          392.7686659436774,
          381.3611674584461,
          384.3400653787433,
          396.8892278901848,
          393.6895765150524,
          397.8474517890396,
          366.46947928272726,
          379.1009883150698,
          441.5232904507838,
          382.1340911634091,
          390.808358234348,
          444.3033782517925,
          392.3112178406925,
          415.3938726053416,
          419.4703188385653,
          384.8588830225574,
          342.1458907390911,
          394.3455105057282,
          393.476046222714,
          457.4758832354207,
          394.7470638318912,
          433.983432528752,
          354.3682183641956,
          405.4616844804026,
          414.2300126723074,
          402.1212719037365,
          417.2323046638111,
          398.6798342337108,
          363.2964604527732,
          398.4038198007374,
          406.8396676934214,
          381.9293511756762,
          403.40424201698806,
          479.2954838646983,
          337.4599336186392,
          367.277821792927,
          426.55181486228736,
          381.0870204299284,
          379.2278336547787,
          421.79668304680223,
          485.8454202486722,
          414.9673826698313,
          417.7397516739946,
          430.47082284631085,
          379.4081531228284,
          434.0309801708017,
          406.8102147185954,
          457.9445525824488,
          445.0795435147002,
          408.2085148632651,
          461.5981914139908,
          389.3817653409244,
          375.3399881287464,
          404.0308129202948,
          415.2764712392775,
          370.56272361232186,
          478.9026204986598,
          343.86149730300906,
          400.522687112728,
          451.80325080227146,
          435.5795661259769,
          390.1085120752294,
          454.2413785830824,
          434.4533120474868,
          466.9708924553978,
          469.2252621417255,
          473.0985725352687,
          454.5391381839757,
          425.5921348991493,
          413.08261463169697,
          445.4678661788582,
          397.5700222906551,
          454.2366157739682,
          440.0852555811979,
          470.3192038694997,
          445.1662820880508,
          345.6239641470028,
          432.5595744623498,
          397.0581737487341,
          394.3687206183735,
          400.00463181316655,
          251.6676438493645,
          385.3364075187292,
          360.6058017105963,
          430.0681851767762,
          401.2533109754253,
          464.766462648458,
          458.0793561345951,
          402.1957587310382,
          426.318440872345,
          484.6488388851955,
          423.470589896194,
          407.8071578703943,
          421.0068452977108,
          493.95442365056175,
          408.3279483944139,
          363.87272844333353,
          386.8957980347836,
          462.0036084438672,
          463.0502812080837,
          384.01777774448,
          445.4353632157287,
          357.95954366530395
         ],
         "xaxis": "x3",
         "xbins": {
          "size": 25
         },
         "yaxis": "y3"
        },
        {
         "line": {
          "width": 0
         },
         "marker": {
          "color": "rgb(204, 80, 62)"
         },
         "mode": "markers",
         "name": "Right saccades",
         "opacity": 0.5,
         "type": "scatter",
         "x": [
          10.539069909959029,
          10.619380911044056,
          11.01309230285752,
          10.67545547180864,
          11.43021656465172,
          10.31242944367532,
          9.864298322558552,
          9.859282748456025,
          9.706873085935378,
          10.365092561024422,
          11.382265647868998,
          9.126456017791073,
          12.265632273157916,
          11.873477577654668,
          11.252708406768594,
          11.531132528876572,
          11.60205657332948,
          12.006330587433052,
          11.636127057225783,
          10.34366505693408,
          10.54002375265715,
          10.491767439269225,
          10.757186620572057,
          11.53222926552997,
          10.823723916704337,
          11.706932912395674,
          11.51940947778826,
          11.35614746656419,
          11.006632605781558,
          11.173043442111116,
          10.206996522791226,
          9.886418186779183,
          10.074258094952418,
          10.2025980680547,
          10.71001456206506,
          9.869843103627469,
          11.151637255900845,
          11.110232689033866,
          11.118088822118928,
          11.366233717139345,
          9.843380193914786,
          10.456147863597774,
          11.697055421731616,
          10.48007081579298,
          11.24119384895798,
          10.76036182111494,
          11.690939311224604,
          10.255333299785772,
          10.14215094227065,
          10.335252158474468,
          9.302674903644707,
          10.490446566286842,
          11.313749190520385,
          11.49710108153112,
          10.189557119228352,
          11.277858703347322,
          9.828459571792497,
          10.409101114944956,
          10.707154565474228,
          10.138672226392575,
          10.26654952956311,
          9.18671717669042,
          12.07466563778421,
          9.076778857848142,
          10.267892203179091,
          12.31504215649124,
          10.2334412216529,
          11.278707040864887,
          11.011324710861164,
          11.079157480045057,
          11.06725070140144,
          11.302735186290978,
          11.45330180157345,
          11.892310165865725,
          10.34103976677902,
          11.583617899749914,
          10.87436230859314,
          11.14456010046256,
          10.933985025212754,
          10.4600084236697,
          11.680994955617892,
          11.08508256314383,
          9.692698565910993,
          10.54337516016559,
          10.237656132799197,
          10.638698466217216,
          10.12860156381353,
          10.647720124545256,
          10.547879723881568,
          9.495288045441807,
          10.155484616428945,
          10.135802332718937,
          10.845121061468111,
          10.429031078572816,
          9.394978935926234,
          11.169915825161398,
          11.42955454907309,
          11.053951827134505,
          9.99188385643271,
          10.522919355212773,
          12.780873887517838,
          10.786816766217653,
          10.584197035382976,
          10.879359272496584,
          12.144274804459,
          10.954977047871427,
          11.235879518341342,
          10.698276549126769,
          11.43564961922596
         ],
         "xaxis": "x4",
         "y": [
          396.5133483914021,
          370.4598655660285,
          412.1359888786223,
          396.04341755443926,
          435.030192921703,
          418.94709278978553,
          392.7686659436774,
          381.3611674584461,
          384.3400653787433,
          396.8892278901848,
          393.6895765150524,
          397.8474517890396,
          366.46947928272726,
          379.1009883150698,
          441.5232904507838,
          382.1340911634091,
          390.808358234348,
          444.3033782517925,
          392.3112178406925,
          415.3938726053416,
          419.4703188385653,
          384.8588830225574,
          342.1458907390911,
          394.3455105057282,
          393.476046222714,
          457.4758832354207,
          394.7470638318912,
          433.983432528752,
          354.3682183641956,
          405.4616844804026,
          414.2300126723074,
          402.1212719037365,
          417.2323046638111,
          398.6798342337108,
          363.2964604527732,
          398.4038198007374,
          406.8396676934214,
          381.9293511756762,
          403.40424201698806,
          479.2954838646983,
          337.4599336186392,
          367.277821792927,
          426.55181486228736,
          381.0870204299284,
          379.2278336547787,
          421.79668304680223,
          485.8454202486722,
          414.9673826698313,
          417.7397516739946,
          430.47082284631085,
          379.4081531228284,
          434.0309801708017,
          406.8102147185954,
          457.9445525824488,
          445.0795435147002,
          408.2085148632651,
          461.5981914139908,
          389.3817653409244,
          375.3399881287464,
          404.0308129202948,
          415.2764712392775,
          370.56272361232186,
          478.9026204986598,
          343.86149730300906,
          400.522687112728,
          451.80325080227146,
          435.5795661259769,
          390.1085120752294,
          454.2413785830824,
          434.4533120474868,
          466.9708924553978,
          469.2252621417255,
          473.0985725352687,
          454.5391381839757,
          425.5921348991493,
          413.08261463169697,
          445.4678661788582,
          397.5700222906551,
          454.2366157739682,
          440.0852555811979,
          470.3192038694997,
          445.1662820880508,
          345.6239641470028,
          432.5595744623498,
          397.0581737487341,
          394.3687206183735,
          400.00463181316655,
          251.6676438493645,
          385.3364075187292,
          360.6058017105963,
          430.0681851767762,
          401.2533109754253,
          464.766462648458,
          458.0793561345951,
          402.1957587310382,
          426.318440872345,
          484.6488388851955,
          423.470589896194,
          407.8071578703943,
          421.0068452977108,
          493.95442365056175,
          408.3279483944139,
          363.87272844333353,
          386.8957980347836,
          462.0036084438672,
          463.0502812080837,
          384.01777774448,
          445.4353632157287,
          357.95954366530395
         ],
         "yaxis": "y4"
        }
       ],
       "layout": {
        "annotations": [
         {
          "font": {
           "size": 16
          },
          "showarrow": false,
          "text": "<b>Latency per sac. direction<b>",
          "x": 0.11,
          "xanchor": "center",
          "xref": "paper",
          "y": 1,
          "yanchor": "bottom",
          "yref": "paper"
         },
         {
          "font": {
           "size": 16
          },
          "showarrow": false,
          "text": "<b>Amplitude per sac. direction<b>",
          "x": 0.37,
          "xanchor": "center",
          "xref": "paper",
          "y": 1,
          "yanchor": "bottom",
          "yref": "paper"
         },
         {
          "font": {
           "size": 16
          },
          "showarrow": false,
          "text": "<b>Velocity per sac. direction<b>",
          "x": 0.63,
          "xanchor": "center",
          "xref": "paper",
          "y": 1,
          "yanchor": "bottom",
          "yref": "paper"
         },
         {
          "font": {
           "size": 16
          },
          "showarrow": false,
          "text": "<b>Main sequence per sac. direction<b>",
          "x": 0.89,
          "xanchor": "center",
          "xref": "paper",
          "y": 1,
          "yanchor": "bottom",
          "yref": "paper"
         },
         {
          "font": {
           "size": 13
          },
          "showarrow": false,
          "text": "Left saccades",
          "x": 1.05,
          "xanchor": "left",
          "xref": "paper",
          "y": 0.97,
          "yanchor": "middle",
          "yref": "paper"
         },
         {
          "font": {
           "size": 13
          },
          "showarrow": false,
          "text": "Right saccades",
          "x": 1.05,
          "xanchor": "left",
          "xref": "paper",
          "y": 0.89,
          "yanchor": "middle",
          "yref": "paper"
         }
        ],
        "barmode": "stack",
        "height": 350,
        "margin": {
         "b": 50,
         "l": 50,
         "r": 200,
         "t": 50
        },
        "shapes": [
         {
          "fillcolor": "rgb(29, 105, 150)",
          "line": {
           "width": 0
          },
          "type": "rect",
          "x0": 1.0333333333333334,
          "x1": 1.0466666666666666,
          "xref": "paper",
          "y0": 0.95,
          "y1": 0.99,
          "yref": "paper"
         },
         {
          "fillcolor": "rgb(204, 80, 62)",
          "line": {
           "width": 0
          },
          "type": "rect",
          "x0": 1.0333333333333334,
          "x1": 1.0466666666666666,
          "xref": "paper",
          "y0": 0.87,
          "y1": 0.91,
          "yref": "paper"
         }
        ],
        "showlegend": false,
        "template": {
         "data": {
          "barpolar": [
           {
            "marker": {
             "line": {
              "color": "rgba(0, 0, 0, 1)",
              "width": 1.5
             }
            },
            "showlegend": false,
            "thetaunit": "radians",
            "type": "barpolar"
           }
          ],
          "pie": [
           {
            "direction": "clockwise",
            "hole": 0.4,
            "marker": {
             "line": {
              "color": [
               "rgba(0, 0, 0, 1)",
               "rgba(255,255,255,0)"
              ],
              "width": [
               1.5,
               0
              ]
             }
            },
            "rotation": 0,
            "showlegend": false,
            "sort": false,
            "textposition": [
             "inside",
             "none"
            ],
            "type": "pie"
           }
          ],
          "violin": [
           {
            "box": {
             "visible": false
            },
            "hoveron": "violins",
            "line": {
             "color": "rgba(0, 0, 0, 1)",
             "width": 1.5
            },
            "marker": {
             "opacity": 0.5,
             "symbol": "x"
            },
            "meanline": {
             "color": "rgba(0, 0, 0, 1)",
             "visible": true,
             "width": 1.5
            },
            "opacity": 1,
            "points": false,
            "showlegend": false,
            "type": "violin",
            "width": 0.8
           }
          ]
         },
         "layout": {
          "annotationdefaults": {
           "font": {
            "color": "rgba(0, 0, 0, 1)",
            "family": "Helvetica",
            "size": 15
           }
          },
          "font": {
           "family": "Helvetica",
           "size": 13
          },
          "plot_bgcolor": "rgba(255, 255, 255, 1)",
          "polar": {
           "angularaxis": {
            "showticklabels": false,
            "ticks": "",
            "visible": false
           },
           "radialaxis": {
            "showticklabels": false,
            "ticks": "",
            "visible": false
           }
          },
          "xaxis": {
           "color": "rgba(0, 0, 0, 1)",
           "hoverformat": ".1f",
           "linewidth": 2,
           "range": [
            0,
            1
           ],
           "showgrid": false,
           "tickfont": {
            "family": "Helvetica",
            "size": 13
           },
           "ticklen": 8,
           "ticks": "outside",
           "tickwidth": 2,
           "title": {
            "font": {
             "family": "Helvetica",
             "size": 15
            }
           },
           "visible": true,
           "zeroline": false,
           "zerolinecolor": "rgba(0, 0, 0, 1)",
           "zerolinewidth": 2
          },
          "yaxis": {
           "color": "rgba(0, 0, 0, 1)",
           "hoverformat": ".1f",
           "linewidth": 2,
           "showgrid": false,
           "tickfont": {
            "family": "Helvetica",
            "size": 13
           },
           "ticklen": 8,
           "ticks": "outside",
           "tickwidth": 2,
           "title": {
            "font": {
             "family": "Helvetica",
             "size": 15
            }
           },
           "visible": true,
           "zeroline": false,
           "zerolinecolor": "rgba(0, 0, 0, 1)",
           "zerolinewidth": 2
          }
         }
        },
        "width": 1600,
        "xaxis": {
         "anchor": "y",
         "domain": [
          0,
          0.22
         ],
         "linewidth": 2,
         "range": [
          0,
          600
         ],
         "ticklen": 8,
         "title": {
          "text": "Latency (msec)"
         },
         "type": "linear",
         "visible": true
        },
        "xaxis2": {
         "anchor": "y2",
         "domain": [
          0.26,
          0.48
         ],
         "linewidth": 2,
         "range": [
          8,
          16
         ],
         "ticklen": 8,
         "title": {
          "text": "Amplitude (dva)"
         },
         "type": "linear",
         "visible": true
        },
        "xaxis3": {
         "anchor": "y3",
         "domain": [
          0.52,
          0.74
         ],
         "linewidth": 2,
         "range": [
          200,
          800
         ],
         "ticklen": 8,
         "title": {
          "text": "Velocity peak (dva/s)"
         },
         "type": "linear",
         "visible": true
        },
        "xaxis4": {
         "anchor": "y4",
         "domain": [
          0.78,
          1
         ],
         "linewidth": 2,
         "range": [
          8,
          16
         ],
         "ticklen": 8,
         "title": {
          "text": "Amplitude (dva)"
         },
         "type": "linear",
         "visible": true
        },
        "yaxis": {
         "anchor": "x",
         "domain": [
          0,
          1
         ],
         "linewidth": 2,
         "range": [
          0,
          60
         ],
         "ticklen": 8,
         "title": {
          "text": "Trials"
         },
         "visible": true
        },
        "yaxis2": {
         "anchor": "x2",
         "domain": [
          0,
          1
         ],
         "linewidth": 2,
         "range": [
          0,
          60
         ],
         "ticklen": 8,
         "title": {
          "text": "Trials"
         },
         "visible": true
        },
        "yaxis3": {
         "anchor": "x3",
         "domain": [
          0,
          1
         ],
         "linewidth": 2,
         "range": [
          0,
          60
         ],
         "ticklen": 8,
         "title": {
          "text": "Trials"
         },
         "visible": true
        },
        "yaxis4": {
         "anchor": "x4",
         "domain": [
          0,
          1
         ],
         "linewidth": 2,
         "range": [
          200,
          800
         ],
         "ticklen": 8,
         "title": {
          "text": "Velocity peak (dva/s)"
         },
         "type": "linear",
         "visible": true
        }
       }
      },
      "image/png": "[encoded data removed]",
      "text/html": [
       "<div>                            <div id=\"c444b99f-481c-476a-ad83-065f39caab06\" class=\"plotly-graph-div\" style=\"height:350px; width:1600px;\"></div>            <script type=\"text/javascript\">                require([\"plotly\"], function(Plotly) {                    window.PLOTLYENV=window.PLOTLYENV || {};                                    if (document.getElementById(\"c444b99f-481c-476a-ad83-065f39caab06\")) {                    Plotly.newPlot(                        \"c444b99f-481c-476a-ad83-065f39caab06\",                        [{\"marker\":{\"color\":\"rgb(29, 105, 150)\"},\"name\":\"Left saccades\",\"x\":[281.0,220.0,356.0,47.0,330.0,453.0,295.0,342.0,284.0,427.0,392.0,307.0,268.0,293.0,255.0,311.0,269.0,402.0,468.0,325.0,396.0,527.0,306.0,463.0,405.0,340.0,379.0,311.0,270.0,451.0,396.0,241.0,495.0,276.0,256.0,323.0,221.0,275.0,267.0,259.0,317.0,452.0,245.0,433.0,256.0,384.0,294.0,493.0,263.0,346.0,337.0,399.0,389.0,386.0,313.0,376.0,247.0,350.0,253.0,335.0,334.0,412.0,269.0,300.0,349.0,358.0,293.0,352.0,280.0,298.0,281.0,217.0,343.0,239.0,383.0,260.0,360.0,474.0,289.0,343.0,266.0,284.0],\"xbins\":{\"size\":20},\"type\":\"histogram\",\"xaxis\":\"x\",\"yaxis\":\"y\"},{\"marker\":{\"color\":\"rgb(29, 105, 150)\"},\"name\":\"Left saccades\",\"x\":[11.040441581378854,11.24873855822677,11.771336905549717,11.600859019827748,9.651067582017536,11.180549475425542,10.40097558634257,11.767169338190715,11.150770654575014,11.500429366023551,12.637098114473956,11.628339604434435,11.063537595519994,11.328956411070982,11.47011985969664,12.2980871313009,11.489115105270288,11.410689598239498,9.971643149932897,10.968927381274506,11.799154155614822,12.12306837456354,11.30089785679666,10.650115121268566,11.883327407071697,10.431021406233516,10.46423398592094,11.810168355932989,10.909450053034462,11.15774238852137,10.49893711245998,12.289172819997006,11.233474476191809,11.332583081819312,11.8466243193865,11.472142636613706,10.875965420797284,11.305370856174946,11.80893965161871,11.042214278611088,11.616502683180864,11.099601302643364,10.175878929603716,11.210902782129397,10.91392044916678,10.188133556658634,11.248051480465769,10.531528216151182,9.9507255017184,10.756308848072656,11.635897937451482,11.003640085859518,10.944522198387508,12.160218543590544,12.197953023854913,11.077933144593386,11.155154009770731,9.496274177378034,10.833533860079422,11.000442519864064,9.961008479332984,10.835617971633924,9.012766177322458,10.991132048976509,9.818722405348671,10.260332196384462,12.030332221892662,10.593849879957531,10.41587157296306,11.046180790477132,10.867846613371642,10.598253284842814,11.477392984724004,9.867853728407804,10.97671272072045,11.267398243549684,9.48214245637464,10.760867361101637,9.792192316370134,11.497499713658568,11.577728026098644,8.643047188238675],\"xbins\":{\"size\":0.25},\"type\":\"histogram\",\"xaxis\":\"x2\",\"yaxis\":\"y2\"},{\"marker\":{\"color\":\"rgb(29, 105, 150)\"},\"name\":\"Left saccades\",\"x\":[541.5752360466881,560.5550847892571,575.0546776480367,633.4606442109824,459.7529212501304,518.1302612139875,522.1348300687956,609.3869785780718,570.2444482950576,531.1058415190142,516.59783438398,560.2209913816204,623.4968492996888,548.6576972433228,577.1864813549945,572.87775913902,588.7754240705833,579.8138089392377,527.9671879900521,578.6573908433193,540.1087163946971,645.32022884026,577.5983563167338,605.3770648033998,653.702551867767,571.4510928493737,507.6926916187471,481.7468167438779,560.1960377464766,562.0926135837036,551.0937216330658,621.9941858829935,562.9227767091481,591.9447686239083,563.2393124856417,591.4632606489361,601.8444352284785,558.546632945816,603.4739491292722,566.3849508207111,539.4915029967863,542.1059694627045,525.6785452040735,627.0056920785165,550.5628863842018,530.6443968015589,580.4480684021487,576.0343226645602,570.1157328149503,506.0671725479996,586.5626103668412,550.9608342288932,625.1710829659082,610.5154476758632,642.2396399621049,635.3229194460065,555.0295707585784,414.8723247360593,580.9650606580807,560.792541230526,497.2656214025091,597.7012397140838,435.3907853298923,473.6533324171277,522.4206517478955,607.5605242929269,580.3330868255009,602.8934515963456,410.3704383613353,590.7751942409647,534.2301050150475,548.1855262845442,527.9151760990379,426.8232734057984,548.0786548411763,590.4066197893969,408.9042438695523,603.8113962482283,558.8048967271236,625.9603951942246,571.1880582460493,419.3600113729551],\"xbins\":{\"size\":25},\"type\":\"histogram\",\"xaxis\":\"x3\",\"yaxis\":\"y3\"},{\"line\":{\"width\":0},\"marker\":{\"color\":\"rgb(29, 105, 150)\"},\"mode\":\"markers\",\"name\":\"Left saccades\",\"opacity\":0.5,\"x\":[11.040441581378854,11.24873855822677,11.771336905549717,11.600859019827748,9.651067582017536,11.180549475425542,10.40097558634257,11.767169338190715,11.150770654575014,11.500429366023551,12.637098114473956,11.628339604434435,11.063537595519994,11.328956411070982,11.47011985969664,12.2980871313009,11.489115105270288,11.410689598239498,9.971643149932897,10.968927381274506,11.799154155614822,12.12306837456354,11.30089785679666,10.650115121268566,11.883327407071697,10.431021406233516,10.46423398592094,11.810168355932989,10.909450053034462,11.15774238852137,10.49893711245998,12.289172819997006,11.233474476191809,11.332583081819312,11.8466243193865,11.472142636613706,10.875965420797284,11.305370856174946,11.80893965161871,11.042214278611088,11.616502683180864,11.099601302643364,10.175878929603716,11.210902782129397,10.91392044916678,10.188133556658634,11.248051480465769,10.531528216151182,9.9507255017184,10.756308848072656,11.635897937451482,11.003640085859518,10.944522198387508,12.160218543590544,12.197953023854913,11.077933144593386,11.155154009770731,9.496274177378034,10.833533860079422,11.000442519864064,9.961008479332984,10.835617971633924,9.012766177322458,10.991132048976509,9.818722405348671,10.260332196384462,12.030332221892662,10.593849879957531,10.41587157296306,11.046180790477132,10.867846613371642,10.598253284842814,11.477392984724004,9.867853728407804,10.97671272072045,11.267398243549684,9.48214245637464,10.760867361101637,9.792192316370134,11.497499713658568,11.577728026098644,8.643047188238675],\"y\":[541.5752360466881,560.5550847892571,575.0546776480367,633.4606442109824,459.7529212501304,518.1302612139875,522.1348300687956,609.3869785780718,570.2444482950576,531.1058415190142,516.59783438398,560.2209913816204,623.4968492996888,548.6576972433228,577.1864813549945,572.87775913902,588.7754240705833,579.8138089392377,527.9671879900521,578.6573908433193,540.1087163946971,645.32022884026,577.5983563167338,605.3770648033998,653.702551867767,571.4510928493737,507.6926916187471,481.7468167438779,560.1960377464766,562.0926135837036,551.0937216330658,621.9941858829935,562.9227767091481,591.9447686239083,563.2393124856417,591.4632606489361,601.8444352284785,558.546632945816,603.4739491292722,566.3849508207111,539.4915029967863,542.1059694627045,525.6785452040735,627.0056920785165,550.5628863842018,530.6443968015589,580.4480684021487,576.0343226645602,570.1157328149503,506.0671725479996,586.5626103668412,550.9608342288932,625.1710829659082,610.5154476758632,642.2396399621049,635.3229194460065,555.0295707585784,414.8723247360593,580.9650606580807,560.792541230526,497.2656214025091,597.7012397140838,435.3907853298923,473.6533324171277,522.4206517478955,607.5605242929269,580.3330868255009,602.8934515963456,410.3704383613353,590.7751942409647,534.2301050150475,548.1855262845442,527.9151760990379,426.8232734057984,548.0786548411763,590.4066197893969,408.9042438695523,603.8113962482283,558.8048967271236,625.9603951942246,571.1880582460493,419.3600113729551],\"type\":\"scatter\",\"xaxis\":\"x4\",\"yaxis\":\"y4\"},{\"marker\":{\"color\":\"rgb(204, 80, 62)\"},\"name\":\"Right saccades\",\"x\":[314.0,285.0,408.0,269.0,444.0,290.0,279.0,260.0,376.0,265.0,382.0,339.0,373.0,355.0,275.0,352.0,482.0,464.0,310.0,401.0,283.0,276.0,346.0,471.0,352.0,302.0,343.0,437.0,397.0,340.0,359.0,324.0,322.0,365.0,388.0,458.0,454.0,336.0,264.0,426.0,279.0,384.0,533.0,544.0,340.0,313.0,306.0,361.0,286.0,286.0,301.0,280.0,306.0,342.0,354.0,270.0,388.0,294.0,469.0,243.0,317.0,347.0,501.0,331.0,255.0,323.0,328.0,444.0,374.0,474.0,519.0,458.0,355.0,340.0,368.0,380.0,262.0,532.0,468.0,345.0,358.0,399.0,276.0,287.0,318.0,317.0,324.0,288.0,448.0,357.0,303.0,353.0,343.0,343.0,313.0,495.0,363.0,324.0,323.0,273.0,347.0,331.0,392.0,382.0,180.0,391.0,241.0,239.0,590.0],\"xbins\":{\"size\":20},\"type\":\"histogram\",\"xaxis\":\"x\",\"yaxis\":\"y\"},{\"marker\":{\"color\":\"rgb(204, 80, 62)\"},\"name\":\"Right saccades\",\"x\":[10.539069909959029,10.619380911044056,11.01309230285752,10.67545547180864,11.43021656465172,10.31242944367532,9.864298322558552,9.859282748456025,9.706873085935378,10.365092561024422,11.382265647868998,9.126456017791073,12.265632273157916,11.873477577654668,11.252708406768594,11.531132528876572,11.60205657332948,12.006330587433052,11.636127057225783,10.34366505693408,10.54002375265715,10.491767439269225,10.757186620572057,11.53222926552997,10.823723916704337,11.706932912395674,11.51940947778826,11.35614746656419,11.006632605781558,11.173043442111116,10.206996522791226,9.886418186779183,10.074258094952418,10.2025980680547,10.71001456206506,9.869843103627469,11.151637255900845,11.110232689033866,11.118088822118928,11.366233717139345,9.843380193914786,10.456147863597774,11.697055421731616,10.48007081579298,11.24119384895798,10.76036182111494,11.690939311224604,10.255333299785772,10.14215094227065,10.335252158474468,9.302674903644707,10.490446566286842,11.313749190520385,11.49710108153112,10.189557119228352,11.277858703347322,9.828459571792497,10.409101114944956,10.707154565474228,10.138672226392575,10.26654952956311,9.18671717669042,12.07466563778421,9.076778857848142,10.267892203179091,12.31504215649124,10.2334412216529,11.278707040864887,11.011324710861164,11.079157480045057,11.06725070140144,11.302735186290978,11.45330180157345,11.892310165865725,10.34103976677902,11.583617899749914,10.87436230859314,11.14456010046256,10.933985025212754,10.4600084236697,11.680994955617892,11.08508256314383,9.692698565910993,10.54337516016559,10.237656132799197,10.638698466217216,10.12860156381353,10.647720124545256,10.547879723881568,9.495288045441807,10.155484616428945,10.135802332718937,10.845121061468111,10.429031078572816,9.394978935926234,11.169915825161398,11.42955454907309,11.053951827134505,9.99188385643271,10.522919355212773,12.780873887517838,10.786816766217653,10.584197035382976,10.879359272496584,12.144274804459,10.954977047871427,11.235879518341342,10.698276549126769,11.43564961922596],\"xbins\":{\"size\":0.25},\"type\":\"histogram\",\"xaxis\":\"x2\",\"yaxis\":\"y2\"},{\"marker\":{\"color\":\"rgb(204, 80, 62)\"},\"name\":\"Right saccades\",\"x\":[396.5133483914021,370.4598655660285,412.1359888786223,396.04341755443926,435.030192921703,418.94709278978553,392.7686659436774,381.3611674584461,384.3400653787433,396.8892278901848,393.6895765150524,397.8474517890396,366.46947928272726,379.1009883150698,441.5232904507838,382.1340911634091,390.808358234348,444.3033782517925,392.3112178406925,415.3938726053416,419.4703188385653,384.8588830225574,342.1458907390911,394.3455105057282,393.476046222714,457.4758832354207,394.7470638318912,433.983432528752,354.3682183641956,405.4616844804026,414.2300126723074,402.1212719037365,417.2323046638111,398.6798342337108,363.2964604527732,398.4038198007374,406.8396676934214,381.9293511756762,403.40424201698806,479.2954838646983,337.4599336186392,367.277821792927,426.55181486228736,381.0870204299284,379.2278336547787,421.79668304680223,485.8454202486722,414.9673826698313,417.7397516739946,430.47082284631085,379.4081531228284,434.0309801708017,406.8102147185954,457.9445525824488,445.0795435147002,408.2085148632651,461.5981914139908,389.3817653409244,375.3399881287464,404.0308129202948,415.2764712392775,370.56272361232186,478.9026204986598,343.86149730300906,400.522687112728,451.80325080227146,435.5795661259769,390.1085120752294,454.2413785830824,434.4533120474868,466.9708924553978,469.2252621417255,473.0985725352687,454.5391381839757,425.5921348991493,413.08261463169697,445.4678661788582,397.5700222906551,454.2366157739682,440.0852555811979,470.3192038694997,445.1662820880508,345.6239641470028,432.5595744623498,397.0581737487341,394.3687206183735,400.00463181316655,251.6676438493645,385.3364075187292,360.6058017105963,430.0681851767762,401.2533109754253,464.766462648458,458.0793561345951,402.1957587310382,426.318440872345,484.6488388851955,423.470589896194,407.8071578703943,421.0068452977108,493.95442365056175,408.3279483944139,363.87272844333353,386.8957980347836,462.0036084438672,463.0502812080837,384.01777774448,445.4353632157287,357.95954366530395],\"xbins\":{\"size\":25},\"type\":\"histogram\",\"xaxis\":\"x3\",\"yaxis\":\"y3\"},{\"line\":{\"width\":0},\"marker\":{\"color\":\"rgb(204, 80, 62)\"},\"mode\":\"markers\",\"name\":\"Right saccades\",\"opacity\":0.5,\"x\":[10.539069909959029,10.619380911044056,11.01309230285752,10.67545547180864,11.43021656465172,10.31242944367532,9.864298322558552,9.859282748456025,9.706873085935378,10.365092561024422,11.382265647868998,9.126456017791073,12.265632273157916,11.873477577654668,11.252708406768594,11.531132528876572,11.60205657332948,12.006330587433052,11.636127057225783,10.34366505693408,10.54002375265715,10.491767439269225,10.757186620572057,11.53222926552997,10.823723916704337,11.706932912395674,11.51940947778826,11.35614746656419,11.006632605781558,11.173043442111116,10.206996522791226,9.886418186779183,10.074258094952418,10.2025980680547,10.71001456206506,9.869843103627469,11.151637255900845,11.110232689033866,11.118088822118928,11.366233717139345,9.843380193914786,10.456147863597774,11.697055421731616,10.48007081579298,11.24119384895798,10.76036182111494,11.690939311224604,10.255333299785772,10.14215094227065,10.335252158474468,9.302674903644707,10.490446566286842,11.313749190520385,11.49710108153112,10.189557119228352,11.277858703347322,9.828459571792497,10.409101114944956,10.707154565474228,10.138672226392575,10.26654952956311,9.18671717669042,12.07466563778421,9.076778857848142,10.267892203179091,12.31504215649124,10.2334412216529,11.278707040864887,11.011324710861164,11.079157480045057,11.06725070140144,11.302735186290978,11.45330180157345,11.892310165865725,10.34103976677902,11.583617899749914,10.87436230859314,11.14456010046256,10.933985025212754,10.4600084236697,11.680994955617892,11.08508256314383,9.692698565910993,10.54337516016559,10.237656132799197,10.638698466217216,10.12860156381353,10.647720124545256,10.547879723881568,9.495288045441807,10.155484616428945,10.135802332718937,10.845121061468111,10.429031078572816,9.394978935926234,11.169915825161398,11.42955454907309,11.053951827134505,9.99188385643271,10.522919355212773,12.780873887517838,10.786816766217653,10.584197035382976,10.879359272496584,12.144274804459,10.954977047871427,11.235879518341342,10.698276549126769,11.43564961922596],\"y\":[396.5133483914021,370.4598655660285,412.1359888786223,396.04341755443926,435.030192921703,418.94709278978553,392.7686659436774,381.3611674584461,384.3400653787433,396.8892278901848,393.6895765150524,397.8474517890396,366.46947928272726,379.1009883150698,441.5232904507838,382.1340911634091,390.808358234348,444.3033782517925,392.3112178406925,415.3938726053416,419.4703188385653,384.8588830225574,342.1458907390911,394.3455105057282,393.476046222714,457.4758832354207,394.7470638318912,433.983432528752,354.3682183641956,405.4616844804026,414.2300126723074,402.1212719037365,417.2323046638111,398.6798342337108,363.2964604527732,398.4038198007374,406.8396676934214,381.9293511756762,403.40424201698806,479.2954838646983,337.4599336186392,367.277821792927,426.55181486228736,381.0870204299284,379.2278336547787,421.79668304680223,485.8454202486722,414.9673826698313,417.7397516739946,430.47082284631085,379.4081531228284,434.0309801708017,406.8102147185954,457.9445525824488,445.0795435147002,408.2085148632651,461.5981914139908,389.3817653409244,375.3399881287464,404.0308129202948,415.2764712392775,370.56272361232186,478.9026204986598,343.86149730300906,400.522687112728,451.80325080227146,435.5795661259769,390.1085120752294,454.2413785830824,434.4533120474868,466.9708924553978,469.2252621417255,473.0985725352687,454.5391381839757,425.5921348991493,413.08261463169697,445.4678661788582,397.5700222906551,454.2366157739682,440.0852555811979,470.3192038694997,445.1662820880508,345.6239641470028,432.5595744623498,397.0581737487341,394.3687206183735,400.00463181316655,251.6676438493645,385.3364075187292,360.6058017105963,430.0681851767762,401.2533109754253,464.766462648458,458.0793561345951,402.1957587310382,426.318440872345,484.6488388851955,423.470589896194,407.8071578703943,421.0068452977108,493.95442365056175,408.3279483944139,363.87272844333353,386.8957980347836,462.0036084438672,463.0502812080837,384.01777774448,445.4353632157287,357.95954366530395],\"type\":\"scatter\",\"xaxis\":\"x4\",\"yaxis\":\"y4\"}],                        {\"template\":{\"data\":{\"barpolar\":[{\"marker\":{\"line\":{\"color\":\"rgba(0,0,0,1)\",\"width\":1.5}},\"showlegend\":false,\"thetaunit\":\"radians\",\"type\":\"barpolar\"}],\"pie\":[{\"direction\":\"clockwise\",\"hole\":0.4,\"marker\":{\"line\":{\"color\":[\"rgba(0,0,0,1)\",\"rgba(255,255,255,0)\"],\"width\":[1.5,0]}},\"rotation\":0,\"showlegend\":false,\"sort\":false,\"textposition\":[\"inside\",\"none\"],\"type\":\"pie\"}],\"violin\":[{\"box\":{\"visible\":false},\"hoveron\":\"violins\",\"line\":{\"color\":\"rgba(0, 0, 0, 1)\",\"width\":1.5},\"marker\":{\"opacity\":0.5,\"symbol\":\"x\"},\"meanline\":{\"color\":\"rgba(0, 0, 0, 1)\",\"visible\":true,\"width\":1.5},\"opacity\":1,\"points\":false,\"showlegend\":false,\"width\":0.8,\"type\":\"violin\"}]},\"layout\":{\"annotationdefaults\":{\"font\":{\"color\":\"rgba(0, 0, 0, 1)\",\"family\":\"Helvetica\",\"size\":15}},\"font\":{\"family\":\"Helvetica\",\"size\":13},\"plot_bgcolor\":\"rgba(255, 255, 255, 1)\",\"polar\":{\"angularaxis\":{\"showticklabels\":false,\"ticks\":\"\",\"visible\":false},\"radialaxis\":{\"showticklabels\":false,\"ticks\":\"\",\"visible\":false}},\"xaxis\":{\"color\":\"rgba(0, 0, 0, 1)\",\"hoverformat\":\".1f\",\"linewidth\":2,\"range\":[0,1],\"showgrid\":false,\"tickfont\":{\"family\":\"Helvetica\",\"size\":13},\"ticklen\":8,\"ticks\":\"outside\",\"tickwidth\":2,\"title\":{\"font\":{\"family\":\"Helvetica\",\"size\":15}},\"visible\":true,\"zeroline\":false,\"zerolinecolor\":\"rgba(0, 0, 0, 1)\",\"zerolinewidth\":2},\"yaxis\":{\"color\":\"rgba(0, 0, 0, 1)\",\"hoverformat\":\".1f\",\"linewidth\":2,\"showgrid\":false,\"tickfont\":{\"family\":\"Helvetica\",\"size\":13},\"ticklen\":8,\"ticks\":\"outside\",\"tickwidth\":2,\"title\":{\"font\":{\"family\":\"Helvetica\",\"size\":15}},\"visible\":true,\"zeroline\":false,\"zerolinecolor\":\"rgba(0, 0, 0, 1)\",\"zerolinewidth\":2}}},\"xaxis\":{\"anchor\":\"y\",\"domain\":[0.0,0.22],\"visible\":true,\"ticklen\":8,\"linewidth\":2,\"range\":[0,600],\"title\":{\"text\":\"Latency (msec)\"}},\"yaxis\":{\"anchor\":\"x\",\"domain\":[0.0,1.0],\"visible\":true,\"ticklen\":8,\"linewidth\":2,\"range\":[0,60],\"title\":{\"text\":\"Trials\"}},\"xaxis2\":{\"anchor\":\"y2\",\"domain\":[0.26,0.48],\"visible\":true,\"ticklen\":8,\"linewidth\":2,\"range\":[8,16],\"title\":{\"text\":\"Amplitude (dva)\"}},\"yaxis2\":{\"anchor\":\"x2\",\"domain\":[0.0,1.0],\"visible\":true,\"ticklen\":8,\"linewidth\":2,\"range\":[0,60],\"title\":{\"text\":\"Trials\"}},\"xaxis3\":{\"anchor\":\"y3\",\"domain\":[0.52,0.74],\"visible\":true,\"ticklen\":8,\"linewidth\":2,\"range\":[200,800],\"title\":{\"text\":\"Velocity peak (dva\\u002fs)\"}},\"yaxis3\":{\"anchor\":\"x3\",\"domain\":[0.0,1.0],\"visible\":true,\"ticklen\":8,\"linewidth\":2,\"range\":[0,60],\"title\":{\"text\":\"Trials\"}},\"xaxis4\":{\"anchor\":\"y4\",\"domain\":[0.78,1.0],\"visible\":true,\"ticklen\":8,\"linewidth\":2,\"range\":[8,16],\"title\":{\"text\":\"Amplitude (dva)\"}},\"yaxis4\":{\"anchor\":\"x4\",\"domain\":[0.0,1.0],\"visible\":true,\"ticklen\":8,\"linewidth\":2,\"range\":[200,800],\"title\":{\"text\":\"Velocity peak (dva\\u002fs)\"}},\"annotations\":[{\"font\":{\"size\":16},\"showarrow\":false,\"text\":\"\\u003cb\\u003eLatency per sac. direction\\u003cb\\u003e\",\"x\":0.11,\"xanchor\":\"center\",\"xref\":\"paper\",\"y\":1.0,\"yanchor\":\"bottom\",\"yref\":\"paper\"},{\"font\":{\"size\":16},\"showarrow\":false,\"text\":\"\\u003cb\\u003eAmplitude per sac. direction\\u003cb\\u003e\",\"x\":0.37,\"xanchor\":\"center\",\"xref\":\"paper\",\"y\":1.0,\"yanchor\":\"bottom\",\"yref\":\"paper\"},{\"font\":{\"size\":16},\"showarrow\":false,\"text\":\"\\u003cb\\u003eVelocity per sac. direction\\u003cb\\u003e\",\"x\":0.63,\"xanchor\":\"center\",\"xref\":\"paper\",\"y\":1.0,\"yanchor\":\"bottom\",\"yref\":\"paper\"},{\"font\":{\"size\":16},\"showarrow\":false,\"text\":\"\\u003cb\\u003eMain sequence per sac. direction\\u003cb\\u003e\",\"x\":0.89,\"xanchor\":\"center\",\"xref\":\"paper\",\"y\":1.0,\"yanchor\":\"bottom\",\"yref\":\"paper\"},{\"font\":{\"size\":13},\"showarrow\":false,\"text\":\"Left saccades\",\"x\":1.05,\"xanchor\":\"left\",\"xref\":\"paper\",\"y\":0.97,\"yanchor\":\"middle\",\"yref\":\"paper\"},{\"font\":{\"size\":13},\"showarrow\":false,\"text\":\"Right saccades\",\"x\":1.05,\"xanchor\":\"left\",\"xref\":\"paper\",\"y\":0.89,\"yanchor\":\"middle\",\"yref\":\"paper\"}],\"shapes\":[{\"fillcolor\":\"rgb(29, 105, 150)\",\"line\":{\"width\":0},\"type\":\"rect\",\"x0\":1.0333333333333334,\"x1\":1.0466666666666666,\"xref\":\"paper\",\"y0\":0.95,\"y1\":0.99,\"yref\":\"paper\"},{\"fillcolor\":\"rgb(204, 80, 62)\",\"line\":{\"width\":0},\"type\":\"rect\",\"x0\":1.0333333333333334,\"x1\":1.0466666666666666,\"xref\":\"paper\",\"y0\":0.87,\"y1\":0.91,\"yref\":\"paper\"}],\"margin\":{\"l\":50,\"r\":200,\"t\":50,\"b\":50},\"width\":1600,\"height\":350,\"barmode\":\"stack\",\"showlegend\":false},                        {\"responsive\": true}                    ).then(function(){\n",
       "                            \n",
       "var gd = document.getElementById('c444b99f-481c-476a-ad83-065f39caab06');\n",
       "var x = new MutationObserver(function (mutations, observer) {{\n",
       "        var display = window.getComputedStyle(gd).display;\n",
       "        if (!display || display === 'none') {{\n",
       "            console.log([gd, 'removed!']);\n",
       "            Plotly.purge(gd);\n",
       "            observer.disconnect();\n",
       "        }}\n",
       "}});\n",
       "\n",
       "// Listen for the removal of the full notebook cells\n",
       "var notebookContainer = gd.closest('#notebook-container');\n",
       "if (notebookContainer) {{\n",
       "    x.observe(notebookContainer, {childList: true});\n",
       "}}\n",
       "\n",
       "// Listen for the clearing of the current output cell\n",
       "var outputEl = gd.closest('.output');\n",
       "if (outputEl) {{\n",
       "    x.observe(outputEl, {childList: true});\n",
       "}}\n",
       "\n",
       "                        })                };                });            </script>        </div>"
      ]
     },
     "metadata": {},
     "output_type": "display_data"
    }
   ],
   "source": [
    "# figure specific settings\n",
    "subplot_titles = ('<b>Latency per sac. direction<b>', '<b>Amplitude per sac. direction<b>', '<b>Velocity per sac. direction<b>', '<b>Main sequence per sac. direction<b>',\n",
    "                  '<b>Latency per ext. mot. ori.<b>', '<b>Amplitude per ext. mot. ori.<b>', '<b>Velocity per ext. mot. ori.<b>', '<b>Main sequence per ext. mot. ori.<b>',)\n",
    "\n",
    "# subplot settings\n",
    "rows, cols = 1, 4\n",
    "leg_mergin = 200\n",
    "fig_height, fig_width = 350, 350 * 4 + leg_mergin\n",
    "column_widths, row_heights = [1,1,1,1],[1]\n",
    "sb_specs = [[{},{},{},{}]]\n",
    "fig = make_subplots(rows=rows, cols=cols, print_grid=False, vertical_spacing=0.2, horizontal_spacing=0.04, \n",
    "                    column_widths=column_widths, row_heights=row_heights, subplot_titles=subplot_titles)\n",
    "\n",
    "x_legend = 1.05\n",
    "y_legend_step = 0.08\n",
    "y_legend_sd = 0.97\n",
    "y_legend_mo = 0.36\n",
    "rad_leg = 0.04\n",
    "\n",
    "# Right / Left saccades\n",
    "# ---------------------\n",
    "for sd_num, sd in enumerate(sds):\n",
    "    # plot\n",
    "    fig.append_trace(go.Histogram(x=df_all.loc[(df_all.main_sac_trial == 1) & (df_all.ext_mot_pos == sd_num+1)]['sac_lat_trial'], name=sd, marker_color=sd_cols[sd_num], xbins_size = 20),row=1, col=1)\n",
    "    fig.append_trace(go.Histogram(x=df_all.loc[(df_all.main_sac_trial == 1) & (df_all.ext_mot_pos == sd_num+1)]['sac_amp_trial'], name=sd, marker_color=sd_cols[sd_num], xbins_size = 0.25),row=1, col=2)\n",
    "    fig.append_trace(go.Histogram(x=df_all.loc[(df_all.main_sac_trial == 1) & (df_all.ext_mot_pos == sd_num+1)]['sac_vpeak_trial'], name=sd, marker_color=sd_cols[sd_num], xbins_size = 25),row=1, col=3)\n",
    "    fig.append_trace(go.Scatter(x=df_all.loc[(df_all.main_sac_trial == 1) & (df_all.ext_mot_pos == sd_num+1)]['sac_amp_trial'],\n",
    "                                y=df_all.loc[(df_all.main_sac_trial == 1) & (df_all.ext_mot_pos == sd_num+1)]['sac_vpeak_trial'],name=sd, mode='markers',marker_color=sd_cols[sd_num],\n",
    "                                line_width=0, opacity=0.5\n",
    "                               ),row=1, col=4)\n",
    "    \n",
    "    # legend\n",
    "    fig.add_annotation(xref='paper', yref='paper', x=x_legend, y=y_legend_sd-y_legend_step*sd_num, \n",
    "                       text=sd, showarrow=False, font_size = template_specs['axes_font_size'],xanchor = 'left', yanchor='middle')\n",
    "    fig.add_shape(type='rect',xref='paper', yref='paper', fillcolor=sd_cols[sd_num],line_width=0,\n",
    "                  x0=x_legend-0.01-rad_leg/6, y0=y_legend_sd-y_legend_step*sd_num-rad_leg/2, \n",
    "                  x1=x_legend-0.01+rad_leg/6, y1=y_legend_sd-y_legend_step*sd_num+rad_leg/2)\n",
    "\n",
    "\n",
    "# axes settings\n",
    "for row in np.arange(rows):\n",
    "    for col in np.arange(cols):\n",
    "        fig.update_xaxes(visible=True, ticklen=8, linewidth=template_specs['axes_width'], row=row+1, col=col+1)\n",
    "        fig.update_yaxes(visible=True, ticklen=8, linewidth=template_specs['axes_width'], range=[0, 60], title='Trials',row=row+1, col=col+1)\n",
    "\n",
    "fig.layout.update(xaxis_range =[0, 600],\n",
    "                  xaxis2_range=[8, 16], \n",
    "                  xaxis3_range=[200, 800], \n",
    "                  xaxis4_range=[8, 16], \n",
    "                  yaxis4_range=[200, 800], \n",
    "                  xaxis_title ='Latency (msec)', \n",
    "                  xaxis2_title='Amplitude (dva)',\n",
    "                  xaxis3_title='Velocity peak (dva/s)',\n",
    "                  xaxis4_title='Amplitude (dva)',\n",
    "                  yaxis4_title='Velocity peak (dva/s)',\n",
    "                 )\n",
    "\n",
    "# Save figure\n",
    "fig.layout.update(template=fig_template, width=fig_width, height=fig_height, margin_l=50, \n",
    "                  margin_r=leg_mergin, margin_t=50, margin_b=50, barmode='stack', showlegend=False)\n",
    "fig.show()\n",
    "if not os.path.exists(fig_dir):os.mkdir(fig_dir)    \n",
    "fig.write_image('{}/{}_saccade_dist.pdf'.format(fig_dir, subject))"
   ]
  },
  {
   "cell_type": "code",
   "execution_count": null,
   "id": "914b1125-a966-449f-9afe-6759cb637bda",
   "metadata": {},
   "outputs": [],
   "source": []
  }
 ],
 "metadata": {
  "kernelspec": {
   "display_name": "mszinte",
   "language": "python",
   "name": "mszinte"
  },
  "language_info": {
   "codemirror_mode": {
    "name": "ipython",
    "version": 3
   },
   "file_extension": ".py",
   "mimetype": "text/x-python",
   "name": "python",
   "nbconvert_exporter": "python",
   "pygments_lexer": "ipython3",
   "version": "3.9.13"
  }
 },
 "nbformat": 4,
 "nbformat_minor": 5
}

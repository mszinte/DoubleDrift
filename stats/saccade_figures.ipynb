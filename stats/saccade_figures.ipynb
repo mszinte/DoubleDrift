{
 "cells": [
  {
   "cell_type": "markdown",
   "id": "cb78db1f-8364-4669-82af-daa47836d04f",
   "metadata": {},
   "source": [
    "# DoubleDrift\n",
    "\n",
    "#### Project description:\n",
    "_Adaptation of experiment 1 (perception) of Lisa & Cavanagh, 2015, Current Biology<br>\n",
    "(http://dx.doi.org/10.1016/j.cub.2015.08.021) for the AMU Neuroscience Master APP 2024 courses._\n",
    "\n",
    "#### Hypothesis: \n",
    "_Participants mislocalize perceptively the drifting gabor but saccade to correctly to its<br>\n",
    " physical position_\n",
    " \n",
    "#### Exercice for APP2024:\n",
    "_Analyse data to reach an adapted version of Figure 1 of [Lisa & Cavanagh, 2015, Current Biology](http://dx.doi.org/10.1016/j.cub.2015.08.021)_\n",
    "\n",
    "<img src=\"img/Lisi_Cavanagh_2015_CB_Figure1.png\" width=700 alt=\"Figure 1\">\n",
    "<!-- ![Lisi_Cavanagh_2015_CB_Figure1.png]()  -->"
   ]
  },
  {
   "cell_type": "markdown",
   "id": "7b983848-2e4a-4784-ad09-bca57c83172b",
   "metadata": {},
   "source": [
    "#### Eye movement data analysis:\n",
    "\n",
    "- [x] Saccade analysis output graph\n",
    "- [x] Saccade parameter graph\n",
    "- [x] Saccade landing analysis"
   ]
  },
  {
   "cell_type": "code",
   "execution_count": null,
   "id": "44e0db61-e382-40e9-84e1-e01fe7708f01",
   "metadata": {
    "tags": []
   },
   "outputs": [],
   "source": [
    "# Imports\n",
    "import os\n",
    "import numpy as np\n",
    "import pandas as pd\n",
    "from scipy.stats import norm, linregress\n",
    "\n",
    "# figure imports\n",
    "import plotly.graph_objects as go\n",
    "from plotly.subplots import make_subplots\n",
    "import plotly.express as px\n",
    "from plot_utils import plotly_template\n",
    "import plotly.express as px"
   ]
  },
  {
   "cell_type": "code",
   "execution_count": null,
   "id": "726cb378-fcc8-4edc-99c8-8e1e0cdd9291",
   "metadata": {
    "tags": []
   },
   "outputs": [],
   "source": [
    "# Define folders\n",
    "base_dir = '..'\n",
    "data_dir = '{}/data'.format(base_dir)\n",
    "subject = 'sub-01'\n",
    "session = 'ses-02'\n",
    "subject_num = subject[4:]\n",
    "fig_dir = '{}/{}/{}/beh/figures'.format(data_dir, subject, session)"
   ]
  },
  {
   "cell_type": "code",
   "execution_count": null,
   "id": "163b3f55-27c9-4c11-adcc-0755d4c39119",
   "metadata": {},
   "outputs": [],
   "source": [
    "# Load dataframe\n",
    "df_all = pd.read_csv('{}/{}/{}/beh/{}_task-DoubleDriftSaccade_data.csv'.format(data_dir, subject, session, subject))"
   ]
  },
  {
   "cell_type": "markdown",
   "id": "69091f4a-85b7-416a-8d77-9be7d54db203",
   "metadata": {},
   "source": [
    "#### Saccade analysis output graph"
   ]
  },
  {
   "cell_type": "code",
   "execution_count": null,
   "id": "9fa0e669-f7bf-4def-898d-8061d6f71721",
   "metadata": {
    "tags": []
   },
   "outputs": [],
   "source": [
    "# general figure settings\n",
    "template_specs = dict(  axes_color=\"rgba(0, 0, 0, 1)\",\n",
    "                        axes_width=2,\n",
    "                        axes_font_size=13,\n",
    "                        bg_col=\"rgba(255, 255, 255, 1)\",\n",
    "                        font='Helvetica',\n",
    "                        title_font_size=15,\n",
    "                        plot_width=1.5)\n",
    "fig_template = plotly_template(template_specs)\n",
    "\n",
    "# figure specific settings\n",
    "x_range = [0,250]\n",
    "colors_panel = px.colors.qualitative.Prism\n",
    "subplot_titles = ('<b>Trial distribution per saccade direction<b>', '<b>Trial distribution per external motion orientation<b>')\n",
    "analysis_crit = ['<i>Missing data<i>', '<i>Blink<i>', '<i>Accurate saccade<i>', '<i>Corrective saccade<i>', \n",
    "                 '<i>Innacurate saccade<i>', '<i>Early saccade (< 0 ms)<i>', '<i>Late saccade (> 500 ms)<i>']\n",
    "analysis_crit_df = ['miss_time_trial', 'blink_trial', 'main_sac_trial', 'cor_sac_trial',\n",
    "                    'innacurate_sac_trial', 'early_sac_trial', 'late_sac_trial']\n",
    "x_label = 'Trials'\n",
    "sds = ['Left saccades', 'Right saccades']\n",
    "sd_cols = [colors_panel[1], colors_panel[7]]\n",
    "x_legend = 1.15\n",
    "y_legend_step = 0.08\n",
    "y_legend_sd = 0.97\n",
    "rad_leg = 0.04\n",
    "\n",
    "# subplot settings\n",
    "rows, cols = 1, 1\n",
    "fig_height, fig_width = 300,800\n",
    "column_widths,row_heights = [1],[1]\n",
    "sb_specs = [[{}]]\n",
    "fig = make_subplots(rows=rows, cols=cols, specs=sb_specs, print_grid=False, vertical_spacing=0.2, horizontal_spacing=0.05, \n",
    "                    column_widths=column_widths, row_heights=row_heights, shared_yaxes=True, subplot_titles=subplot_titles)\n",
    "\n",
    "# Right / Left saccades\n",
    "# ---------------------\n",
    "for sd_num, sd in enumerate(sds):\n",
    "    # plot\n",
    "    fig.append_trace(go.Bar(y=analysis_crit, x=df_all.loc[(df_all.ext_mot_pos == sd_num + 1)][analysis_crit_df].sum(), \n",
    "                            orientation='h', name=sd, marker_color=sd_cols[sd_num]), row=1, col=1)\n",
    "    # legend\n",
    "    fig.add_annotation(xref='paper', yref='paper', x=x_legend, y=y_legend_sd - y_legend_step * sd_num, \n",
    "                       text=sd, showarrow=False, font_size = template_specs['axes_font_size'],xanchor = 'left', yanchor='middle')\n",
    "    fig.add_shape(type='rect',xref='paper', yref='paper', fillcolor=sd_cols[sd_num],line_width=0,\n",
    "                  x0=x_legend - 0.05 - rad_leg / 2, y0=y_legend_sd - y_legend_step * sd_num - rad_leg / 2, \n",
    "                  x1=x_legend - 0.05 + rad_leg / 2, y1=y_legend_sd - y_legend_step * sd_num + rad_leg / 2)\n",
    "    \n",
    "# annotation value\n",
    "for num_crit, crit_name in enumerate(analysis_crit_df):\n",
    "    fig.add_annotation(x=df_all[crit_name].sum(), y=num_crit, text='<i>{:1.0f} %<i>'.format(df_all[crit_name].mean()*100), \n",
    "                       showarrow=False, font_size = template_specs['axes_font_size'],xanchor = 'left', row=1, col=1)\n",
    "\n",
    "# axes settings\n",
    "for row in np.arange(rows):\n",
    "    for col in np.arange(cols):\n",
    "        fig.update_xaxes(visible=True, ticklen=8, linewidth=template_specs['axes_width'], range=x_range, row=row+1, col=col+1)\n",
    "        fig.update_yaxes(visible=True, ticklen=8, linewidth=template_specs['axes_width'], autorange=\"reversed\", row=row+1, col=col+1)\n",
    "    \n",
    "# Save figure\n",
    "fig.layout.update(template=fig_template, width=fig_width, height=fig_height, margin_l=200, \n",
    "                  margin_r=200, margin_t=50, margin_b=50, barmode='stack', showlegend=False)\n",
    "fig.show()\n",
    "if not os.path.exists(fig_dir):os.mkdir(fig_dir)\n",
    "fig.write_image('{}/{}_trial_dist.pdf'.format(fig_dir, subject))"
   ]
  },
  {
   "cell_type": "markdown",
   "id": "f5ddc0f5-db49-417e-9f43-0fcc543ab698",
   "metadata": {},
   "source": [
    "#### Saccade parameter graph"
   ]
  },
  {
   "cell_type": "code",
   "execution_count": null,
   "id": "c5034b6c-68c2-472a-af90-62e767faf903",
   "metadata": {
    "tags": []
   },
   "outputs": [],
   "source": [
    "# figure specific settings\n",
    "subplot_titles = ('<b>Latency per sac. direction<b>', '<b>Amplitude per sac. direction<b>', '<b>Velocity per sac. direction<b>', '<b>Main sequence per sac. direction<b>',\n",
    "                  '<b>Latency per ext. mot. ori.<b>', '<b>Amplitude per ext. mot. ori.<b>', '<b>Velocity per ext. mot. ori.<b>', '<b>Main sequence per ext. mot. ori.<b>',)\n",
    "\n",
    "# subplot settings\n",
    "rows, cols = 1, 4\n",
    "leg_mergin = 200\n",
    "fig_height, fig_width = 350, 350 * 4 + leg_mergin\n",
    "column_widths, row_heights = [1,1,1,1],[1]\n",
    "sb_specs = [[{},{},{},{}]]\n",
    "fig = make_subplots(rows=rows, cols=cols, print_grid=False, vertical_spacing=0.2, horizontal_spacing=0.04, \n",
    "                    column_widths=column_widths, row_heights=row_heights, subplot_titles=subplot_titles)\n",
    "\n",
    "x_legend = 1.05\n",
    "y_legend_step = 0.08\n",
    "y_legend_sd = 0.97\n",
    "y_legend_mo = 0.36\n",
    "rad_leg = 0.04\n",
    "\n",
    "# Right / Left saccades\n",
    "# ---------------------\n",
    "for sd_num, sd in enumerate(sds):\n",
    "    # plot\n",
    "    fig.append_trace(go.Histogram(x=df_all.loc[(df_all.main_sac_trial == 1) & (df_all.ext_mot_pos == sd_num+1)]['sac_lat_trial'], name=sd, marker_color=sd_cols[sd_num], xbins_size = 20),row=1, col=1)\n",
    "    fig.append_trace(go.Histogram(x=df_all.loc[(df_all.main_sac_trial == 1) & (df_all.ext_mot_pos == sd_num+1)]['sac_amp_trial'], name=sd, marker_color=sd_cols[sd_num], xbins_size = 0.25),row=1, col=2)\n",
    "    fig.append_trace(go.Histogram(x=df_all.loc[(df_all.main_sac_trial == 1) & (df_all.ext_mot_pos == sd_num+1)]['sac_vpeak_trial'], name=sd, marker_color=sd_cols[sd_num], xbins_size = 25),row=1, col=3)\n",
    "    fig.append_trace(go.Scatter(x=df_all.loc[(df_all.main_sac_trial == 1) & (df_all.ext_mot_pos == sd_num+1)]['sac_amp_trial'],\n",
    "                                y=df_all.loc[(df_all.main_sac_trial == 1) & (df_all.ext_mot_pos == sd_num+1)]['sac_vpeak_trial'],name=sd, mode='markers',marker_color=sd_cols[sd_num],\n",
    "                                line_width=0, opacity=0.5\n",
    "                               ),row=1, col=4)\n",
    "    \n",
    "    # legend\n",
    "    fig.add_annotation(xref='paper', yref='paper', x=x_legend, y=y_legend_sd-y_legend_step*sd_num, \n",
    "                       text=sd, showarrow=False, font_size = template_specs['axes_font_size'],xanchor = 'left', yanchor='middle')\n",
    "    fig.add_shape(type='rect',xref='paper', yref='paper', fillcolor=sd_cols[sd_num],line_width=0,\n",
    "                  x0=x_legend-0.01-rad_leg/6, y0=y_legend_sd-y_legend_step*sd_num-rad_leg/2, \n",
    "                  x1=x_legend-0.01+rad_leg/6, y1=y_legend_sd-y_legend_step*sd_num+rad_leg/2)\n",
    "\n",
    "\n",
    "# axes settings\n",
    "for row in np.arange(rows):\n",
    "    for col in np.arange(cols):\n",
    "        fig.update_xaxes(visible=True, ticklen=8, linewidth=template_specs['axes_width'], row=row+1, col=col+1)\n",
    "        fig.update_yaxes(visible=True, ticklen=8, linewidth=template_specs['axes_width'], range=[0, 60], title='Trials',row=row+1, col=col+1)\n",
    "\n",
    "fig.layout.update(xaxis_range =[0, 600],\n",
    "                  xaxis2_range=[8, 14], \n",
    "                  xaxis3_range=[200, 800], \n",
    "                  xaxis4_range=[8, 14], \n",
    "                  yaxis4_range=[200, 800], \n",
    "                  xaxis_title ='Latency (msec)', \n",
    "                  xaxis2_title='Amplitude (dva)',\n",
    "                  xaxis3_title='Velocity peak (dva/s)',\n",
    "                  xaxis4_title='Amplitude (dva)',\n",
    "                  yaxis4_title='Velocity peak (dva/s)',\n",
    "                 )\n",
    "\n",
    "# Save figure\n",
    "fig.layout.update(template=fig_template, width=fig_width, height=fig_height, margin_l=50, \n",
    "                  margin_r=leg_mergin, margin_t=50, margin_b=50, barmode='stack', showlegend=False)\n",
    "fig.show()\n",
    "if not os.path.exists(fig_dir):os.mkdir(fig_dir)    \n",
    "fig.write_image('{}/{}_saccade_dist.pdf'.format(fig_dir, subject))"
   ]
  },
  {
   "cell_type": "code",
   "execution_count": null,
   "id": "914b1125-a966-449f-9afe-6759cb637bda",
   "metadata": {},
   "outputs": [],
   "source": [
    "# figure specific settings\n",
    "subplot_titles = ('<b>Sac. onset per direction<b>', '<b>Sac. offset per direction<b>')\n",
    "\n",
    "# subplot settings\n",
    "rows, cols = 1, 2\n",
    "leg_mergin = 200\n",
    "fig_height, fig_width = 350, 300*2+leg_mergin\n",
    "column_widths,row_heights = [1,1],[1]\n",
    "sb_specs = [[{},{}]]\n",
    "fig = make_subplots(rows=rows, cols=cols, print_grid=False, vertical_spacing=0.2, horizontal_spacing=0.15, \n",
    "                    column_widths=column_widths, row_heights=row_heights, subplot_titles=subplot_titles)\n",
    "\n",
    "x_legend = 1.13\n",
    "y_legend_step = 0.08\n",
    "y_legend_sd = 0.97\n",
    "y_legend_ts = 0.36\n",
    "rad_leg = 0.04\n",
    "\n",
    "# Right / Left saccades\n",
    "# ---------------------\n",
    "for sd_num, sd in enumerate(sds):\n",
    "    \n",
    "    # plot\n",
    "    df_cond = df_all.loc[(df_all.main_sac_trial == 1) & (df_all.ext_mot_pos == sd_num+1)]\n",
    "    fig.append_trace(go.Scatter(x=df_cond['sac_x_onset_trial'],\n",
    "                                y=df_cond['sac_y_onset_trial'],\n",
    "                                name=sd, mode='markers', marker_color=sd_cols[sd_num], \n",
    "                                marker_size=8, marker_opacity=0.3,\n",
    "                                marker_line_width=0, marker_symbol='circle'), row=1, col=1)\n",
    "    \n",
    "    fig.append_trace(go.Scatter(x=df_cond['sac_x_offset_trial'],\n",
    "                                y=df_cond['sac_y_offset_trial'],\n",
    "                                name=sd, mode='markers', marker_color=sd_cols[sd_num],\n",
    "                                marker_size=8, marker_opacity=0.3,\n",
    "                                marker_line_width=0, marker_symbol='circle'), row=1, col=2)\n",
    "    \n",
    "    # legend\n",
    "    fig.add_annotation(xref='paper', yref='paper', x=x_legend, y=y_legend_sd - y_legend_step * sd_num, \n",
    "                       text=sd, showarrow=False, font_size = template_specs['axes_font_size'],xanchor = 'left', yanchor='middle')\n",
    "    fig.add_shape(type='circle',xref='paper', yref='paper', fillcolor=sd_cols[sd_num], line_width=0, opacity=0.3,\n",
    "                  x0=x_legend - 0.03-  rad_leg / 4.5, y0=y_legend_sd - y_legend_step * sd_num - rad_leg / 2, \n",
    "                  x1=x_legend - 0.03 + rad_leg / 4.5, y1=y_legend_sd - y_legend_step * sd_num + rad_leg / 2)\n",
    "\n",
    "# ref lines\n",
    "fig.add_hline(y=0, opacity=0.25, row=1, col=1)\n",
    "fig.add_vline(x=0, opacity=0.25, row=1, col=1)\n",
    "fig.add_vline(x=-10, opacity=0.25, row=1, col=2)\n",
    "fig.add_vline(x=10, opacity=0.25, row=1, col=2)\n",
    "fig.add_hline(y=0,  opacity=0.25, row=1, col=2)\n",
    "fig.add_hline(y=0,opacity=0.25, row=1, col=2)\n",
    "        \n",
    "# axes settings\n",
    "for row in np.arange(rows):\n",
    "    for col in np.arange(cols):\n",
    "        fig.update_xaxes(visible=True, ticklen=8, linewidth=template_specs['axes_width'], range=[-20,20], title='X coordinates (dva)', row=row+1, col=col+1)\n",
    "        fig.update_yaxes(visible=True, ticklen=8, linewidth=template_specs['axes_width'], range=[-20,20], title='Y coordinates (dva)',row=row+1, col=col+1)\n",
    "    \n",
    "fig.layout.update(template=fig_template, width=fig_width, height=fig_height, margin_l=50, \n",
    "                  margin_r=leg_mergin, margin_t=50, margin_b=50, showlegend=False)\n",
    "fig.show()\n",
    "if not os.path.exists(fig_dir):os.mkdir(fig_dir)\n",
    "fig.write_image('{}/{}_saccade_landing.pdf'.format(fig_dir, subject))"
   ]
  },
  {
   "cell_type": "code",
   "execution_count": 17,
   "id": "f79cea6f-fb27-4c22-98d9-d988cc486438",
   "metadata": {},
   "outputs": [
    {
     "data": {
      "application/vnd.plotly.v1+json": {
       "config": {
        "plotlyServerURL": "https://plot.ly"
       },
       "data": [
        {
         "line": {
          "dash": "dot",
          "width": 6
         },
         "marker": {
          "color": "rgba(100, 100, 100, 0.8)"
         },
         "mode": "lines",
         "type": "scatter",
         "x": [
          -8.561087264392167,
          -8.880845650082797,
          -9.200604035773427,
          -9.520362421464055,
          -9.840120807154685,
          -10.159879192845315,
          -10.479637578535943,
          -10.799395964226573,
          -11.119154349917203,
          -11.438912735607833
         ],
         "xaxis": "x",
         "y": [
          -1.3890752820871828,
          -1.0803918860678088,
          -0.7717084900484349,
          -0.463025094029061,
          -0.15434169800968706,
          0.15434169800968706,
          0.46302509402906084,
          0.7717084900484346,
          1.0803918860678088,
          1.3890752820871828
         ],
         "yaxis": "y"
        },
        {
         "line": {
          "dash": "dot",
          "width": 6
         },
         "marker": {
          "color": "rgba(100, 100, 100, 0.8)"
         },
         "mode": "lines",
         "type": "scatter",
         "x": [
          -10,
          -10,
          -10,
          -10,
          -10,
          -10,
          -10,
          -10,
          -10,
          -10
         ],
         "xaxis": "x4",
         "y": [
          -2,
          -1.5555555555555556,
          -1.1111111111111112,
          -0.6666666666666667,
          -0.22222222222222232,
          0.22222222222222232,
          0.6666666666666665,
          1.1111111111111107,
          1.5555555555555554,
          2
         ],
         "yaxis": "y4"
        },
        {
         "line": {
          "dash": "dot",
          "width": 6
         },
         "marker": {
          "color": "rgba(100, 100, 100, 0.8)"
         },
         "mode": "lines",
         "type": "scatter",
         "x": [
          11.438912735607833,
          11.119154349917203,
          10.799395964226573,
          10.479637578535945,
          10.159879192845315,
          9.840120807154685,
          9.520362421464057,
          9.200604035773427,
          8.880845650082797,
          8.561087264392167
         ],
         "xaxis": "x2",
         "y": [
          -1.3890752820871828,
          -1.0803918860678088,
          -0.7717084900484349,
          -0.463025094029061,
          -0.15434169800968706,
          0.15434169800968706,
          0.46302509402906084,
          0.7717084900484346,
          1.0803918860678088,
          1.3890752820871828
         ],
         "yaxis": "y2"
        },
        {
         "line": {
          "dash": "dot",
          "width": 6
         },
         "marker": {
          "color": "rgba(100, 100, 100, 0.8)"
         },
         "mode": "lines",
         "type": "scatter",
         "x": [
          10,
          10,
          10,
          10,
          10,
          10,
          10,
          10,
          10,
          10
         ],
         "xaxis": "x5",
         "y": [
          -2,
          -1.5555555555555556,
          -1.1111111111111112,
          -0.6666666666666667,
          -0.22222222222222232,
          0.22222222222222232,
          0.6666666666666665,
          1.1111111111111107,
          1.5555555555555554,
          2
         ],
         "yaxis": "y5"
        },
        {
         "line": {
          "dash": "dot",
          "width": 6
         },
         "marker": {
          "color": "rgba(100, 100, 100, 0.8)"
         },
         "mode": "lines",
         "type": "scatter",
         "x": [
          11.438912735607833,
          11.119154349917203,
          10.799395964226573,
          10.479637578535945,
          10.159879192845315,
          9.840120807154685,
          9.520362421464057,
          9.200604035773427,
          8.880845650082797,
          8.561087264392167
         ],
         "xaxis": "x3",
         "y": [
          -1.3890752820871828,
          -1.0803918860678088,
          -0.7717084900484349,
          -0.463025094029061,
          -0.15434169800968706,
          0.15434169800968706,
          0.46302509402906084,
          0.7717084900484346,
          1.0803918860678088,
          1.3890752820871828
         ],
         "yaxis": "y3"
        },
        {
         "line": {
          "dash": "dot",
          "width": 6
         },
         "marker": {
          "color": "rgba(100, 100, 100, 0.8)"
         },
         "mode": "lines",
         "type": "scatter",
         "x": [
          10,
          10,
          10,
          10,
          10,
          10,
          10,
          10,
          10,
          10
         ],
         "xaxis": "x6",
         "y": [
          -2,
          -1.5555555555555556,
          -1.1111111111111112,
          -0.6666666666666667,
          -0.22222222222222232,
          0.22222222222222232,
          0.6666666666666665,
          1.1111111111111107,
          1.5555555555555554,
          2
         ],
         "yaxis": "y6"
        },
        {
         "line": {
          "width": 12
         },
         "marker": {
          "color": "rgba(155, 155, 155, 0.5)"
         },
         "mode": "lines",
         "type": "scatter",
         "x": [
          -11.438912735607833,
          -11.119154349917203,
          -10.799395964226573,
          -10.479637578535945,
          -10.159879192845315,
          -9.840120807154685,
          -9.520362421464055,
          -9.200604035773427,
          -8.880845650082797,
          -8.561087264392167
         ],
         "xaxis": "x",
         "y": [
          1.3890752820871826,
          1.0803918860678088,
          0.7717084900484348,
          0.4630250940290609,
          0.15434169800968703,
          -0.15434169800968703,
          -0.4630250940290607,
          -0.7717084900484344,
          -1.0803918860678086,
          -1.3890752820871826
         ],
         "yaxis": "y"
        },
        {
         "line": {
          "width": 12
         },
         "marker": {
          "color": "rgba(155, 155, 155, 0.5)"
         },
         "mode": "lines",
         "type": "scatter",
         "x": [
          -11.438912735607833,
          -11.119154349917203,
          -10.799395964226573,
          -10.479637578535945,
          -10.159879192845315,
          -9.840120807154685,
          -9.520362421464055,
          -9.200604035773427,
          -8.880845650082797,
          -8.561087264392167
         ],
         "xaxis": "x4",
         "y": [
          1.3890752820871826,
          1.0803918860678088,
          0.7717084900484348,
          0.4630250940290609,
          0.15434169800968703,
          -0.15434169800968703,
          -0.4630250940290607,
          -0.7717084900484344,
          -1.0803918860678086,
          -1.3890752820871826
         ],
         "yaxis": "y4"
        },
        {
         "line": {
          "width": 12
         },
         "marker": {
          "color": "rgba(155, 155, 155, 0.5)"
         },
         "mode": "lines",
         "type": "scatter",
         "x": [
          8.561087264392167,
          8.880845650082797,
          9.200604035773427,
          9.520362421464055,
          9.840120807154685,
          10.159879192845315,
          10.479637578535945,
          10.799395964226573,
          11.119154349917203,
          11.438912735607833
         ],
         "xaxis": "x2",
         "y": [
          1.3890752820871826,
          1.0803918860678088,
          0.7717084900484348,
          0.4630250940290609,
          0.15434169800968703,
          -0.15434169800968703,
          -0.4630250940290607,
          -0.7717084900484344,
          -1.0803918860678086,
          -1.3890752820871826
         ],
         "yaxis": "y2"
        },
        {
         "line": {
          "width": 12
         },
         "marker": {
          "color": "rgba(155, 155, 155, 0.5)"
         },
         "mode": "lines",
         "type": "scatter",
         "x": [
          8.561087264392167,
          8.880845650082797,
          9.200604035773427,
          9.520362421464055,
          9.840120807154685,
          10.159879192845315,
          10.479637578535945,
          10.799395964226573,
          11.119154349917203,
          11.438912735607833
         ],
         "xaxis": "x5",
         "y": [
          1.3890752820871826,
          1.0803918860678088,
          0.7717084900484348,
          0.4630250940290609,
          0.15434169800968703,
          -0.15434169800968703,
          -0.4630250940290607,
          -0.7717084900484344,
          -1.0803918860678086,
          -1.3890752820871826
         ],
         "yaxis": "y5"
        },
        {
         "line": {
          "width": 12
         },
         "marker": {
          "color": "rgba(155, 155, 155, 0.5)"
         },
         "mode": "lines",
         "type": "scatter",
         "x": [
          8.561087264392167,
          8.880845650082797,
          9.200604035773427,
          9.520362421464055,
          9.840120807154685,
          10.159879192845315,
          10.479637578535945,
          10.799395964226573,
          11.119154349917203,
          11.438912735607833
         ],
         "xaxis": "x3",
         "y": [
          1.3890752820871826,
          1.0803918860678088,
          0.7717084900484348,
          0.4630250940290609,
          0.15434169800968703,
          -0.15434169800968703,
          -0.4630250940290607,
          -0.7717084900484344,
          -1.0803918860678086,
          -1.3890752820871826
         ],
         "yaxis": "y3"
        },
        {
         "line": {
          "width": 12
         },
         "marker": {
          "color": "rgba(155, 155, 155, 0.5)"
         },
         "mode": "lines",
         "type": "scatter",
         "x": [
          8.561087264392167,
          8.880845650082797,
          9.200604035773427,
          9.520362421464055,
          9.840120807154685,
          10.159879192845315,
          10.479637578535945,
          10.799395964226573,
          11.119154349917203,
          11.438912735607833
         ],
         "xaxis": "x6",
         "y": [
          1.3890752820871826,
          1.0803918860678088,
          0.7717084900484348,
          0.4630250940290609,
          0.15434169800968703,
          -0.15434169800968703,
          -0.4630250940290607,
          -0.7717084900484344,
          -1.0803918860678086,
          -1.3890752820871826
         ],
         "yaxis": "y6"
        },
        {
         "marker": {
          "color": "white",
          "line": {
           "color": "rgb(29, 105, 150)",
           "width": 2
          },
          "opacity": 1,
          "size": 8,
          "symbol": "circle"
         },
         "mode": "markers",
         "name": "Left saccades",
         "type": "scatter",
         "x": [
          -10.363827225132743,
          -10.969595349514252,
          -10.111135378962176,
          -10.484980850009046,
          -9.37729056542572,
          -9.657674668710875,
          -10.89690317458847,
          -10.813826403244722,
          -10.813826403244722,
          -10.39498101438665,
          -11.014595267325452,
          -10.301519646624934,
          -10.962672285235609,
          -11.824593787927007,
          -11.118441231505138,
          -10.446903996476491,
          -11.08728744225123,
          -10.478057785730403,
          -12.073824101958254,
          -12.02190111986841,
          -10.658057456975191,
          -10.703057374786392,
          -11.177287277873624,
          -11.87651677001685,
          -10.962672285235609,
          -11.384979206232998,
          -9.723443779358009,
          -10.876133981752536,
          -11.14613348861972,
          -10.602672942746024,
          -10.664980521253838,
          -10.03498167189707,
          -10.61651907130332,
          -9.81690514711973,
          -10.253058196674417,
          -10.124981507519466,
          -10.838057128219983,
          -9.84459740423431,
          -10.651134392696548,
          -10.77228801757285,
          -11.291517838471282,
          -10.921133899563731,
          -10.671903585532482,
          -11.249979452799408
         ],
         "xaxis": "x",
         "y": [
          -0.5123067566197868,
          -0.4430761138333289,
          -0.1488458819908829,
          0.9588444025924432,
          -0.9034598883632762,
          -0.2180765247773407,
          0.1903842676627592,
          0.2007688640807263,
          0.2180765247773407,
          0.0623075785078105,
          0.5711528029882775,
          -0.4465376459726526,
          0.2215380569166644,
          1.0523057703541592,
          0.20423039622005,
          -0.2353841854739552,
          0.6299988493567683,
          0.3911531317434855,
          0.6334603814960881,
          1.007305852542963,
          0.5296144173164012,
          0.6299988493567683,
          1.1388440738372314,
          0.2665379747278644,
          0.5365374815950487,
          0.8653830348307235,
          0.3253840210963513,
          0.1626920105481776,
          0.4776914352265578,
          0.578075867266925,
          -0.1973073319414065,
          0.3599993424895802,
          0.4465376459726526,
          -0.3565378103502565,
          -0.3219224889570276,
          0.1903842676627592,
          0.079615239204425,
          -0.1349997534335921,
          0.927690613338534,
          0.6265373172174447,
          0.7546140063723894,
          0.8549984384127565,
          -0.0069230642786473,
          0.6542295743320262
         ],
         "yaxis": "y"
        },
        {
         "line": {
          "width": 5
         },
         "marker": {
          "color": "rgb(29, 105, 150)"
         },
         "mode": "lines",
         "type": "scatter",
         "x": [
          -8,
          -8.444444444444445,
          -8.88888888888889,
          -9.333333333333334,
          -9.777777777777779,
          -10.222222222222221,
          -10.666666666666666,
          -11.11111111111111,
          -11.555555555555555,
          -12
         ],
         "xaxis": "x",
         "y": [
          -1.0576070477458686,
          -0.8379098381541983,
          -0.618212628562528,
          -0.39851541897085774,
          -0.17881820937918746,
          0.04087900021248281,
          0.2605762098041531,
          0.48027341939582335,
          0.6999706289874936,
          0.9196678385791639
         ],
         "yaxis": "y"
        },
        {
         "mode": "text",
         "text": "-63.7 deg",
         "textfont": {
          "color": "rgb(29, 105, 150)",
          "size": 15
         },
         "type": "scatter",
         "x": [
          -8.8
         ],
         "xaxis": "x",
         "y": [
          -1.8
         ],
         "yaxis": "y"
        },
        {
         "marker": {
          "color": "white",
          "line": {
           "color": "rgb(204, 80, 62)",
           "width": 2
          },
          "opacity": 1,
          "size": 8,
          "symbol": "circle"
         },
         "mode": "markers",
         "name": "Right saccades",
         "type": "scatter",
         "x": [
          9.83421280781634,
          8.32152326293224,
          9.85498200065228,
          8.88921453378119,
          7.407678778150994,
          9.086521865722595,
          7.767678120640578,
          9.02075275507546,
          8.95498364442833,
          8.228061895170521,
          9.17652170134499,
          7.746908927804636,
          8.882291469502544,
          8.85806074452729,
          9.820366679259052,
          8.660753412585883,
          10.128443039658784,
          8.387292373579372,
          9.650751604432228,
          10.626903667721283,
          9.152290976369736,
          8.086139077458277,
          10.1145969111015,
          9.339213711893168,
          10.630365199860606,
          9.917289579160093,
          9.314982986917906,
          10.630365199860606,
          9.346136776171814,
          8.376907777161405,
          11.42651759190487,
          9.363444436868429,
          9.159214040648376,
          8.556907448406196,
          7.823062634869741,
          9.595367090203064,
          10.865749385334569,
          8.726522523233013,
          10.516134639262953,
          10.903826238867117,
          11.502671298969975,
          11.270748645635342,
          10.090366186126236,
          11.059595185136647,
          9.30459839049994,
          8.176138913080678,
          10.543826896377531,
          10.997287606628838,
          10.041904736175711,
          10.571519153492122,
          8.885753001641872,
          9.972674093389257
         ],
         "xaxis": "x2",
         "y": [
          0.0311537892539052,
          0.3011532961210934,
          -0.2838456354244789,
          0.1730766069661447,
          0.4084607924401,
          0.5953835279635394,
          0.1592304784088539,
          0.4292299852760381,
          0.837690777716142,
          0.6507680421927026,
          0.2353841854739552,
          0.6680757028893171,
          0.3253840210963513,
          -0.0415383856718763,
          0.6853833635859315,
          0.7269217492578078,
          0.9069214205026,
          1.0834595596080665,
          0.089999835622396,
          -0.1488458819908829,
          0.3980761960221328,
          1.0938441560260357,
          -0.2111534604986973,
          -0.1211536248763013,
          -0.4119223245794236,
          0.1834612033841118,
          0.7753831992083275,
          -0.2007688640807263,
          0.2630764425885407,
          0.7615370706510368,
          -0.3911531317434855,
          0.3946146638828092,
          0.6196142529387973,
          0.0415383856718763,
          0.6473065100533828,
          0.4742299030872381,
          1.311920680803376,
          0.2076919283593736,
          0.4292299852760381,
          0.5053836923411433,
          -0.3357686175143223,
          0.6369219136354117,
          0.8757676312486907,
          -0.1903842676627592,
          1.4088435807044175,
          0.7753831992083275,
          0.4292299852760381,
          -0.0069230642786473,
          0.418845388858071,
          0.7615370706510368,
          1.1249979452799406,
          0.5815373994062447
         ],
         "yaxis": "y2"
        },
        {
         "line": {
          "width": 5
         },
         "marker": {
          "color": "rgb(204, 80, 62)"
         },
         "mode": "lines",
         "type": "scatter",
         "x": [
          8,
          8.444444444444445,
          8.88888888888889,
          9.333333333333334,
          9.777777777777779,
          10.222222222222221,
          10.666666666666666,
          11.11111111111111,
          11.555555555555555,
          12
         ],
         "xaxis": "x2",
         "y": [
          0.6229581355924869,
          0.558155242926329,
          0.4933523502601711,
          0.428549457594013,
          0.36374656492785507,
          0.2989436722616974,
          0.23414077959553947,
          0.16933788692938134,
          0.10453499426322344,
          0.03973210159706553
         ],
         "yaxis": "y2"
        },
        {
         "mode": "text",
         "text": "-81.7 deg",
         "textfont": {
          "color": "rgb(204, 80, 62)",
          "size": 15
         },
         "type": "scatter",
         "x": [
          11.2
         ],
         "xaxis": "x2",
         "y": [
          -1.8
         ],
         "yaxis": "y2"
        },
        {
         "marker": {
          "color": "white",
          "line": {
           "color": "rgb(115, 175, 72)",
           "width": 2
          },
          "opacity": 1,
          "size": 8,
          "symbol": "circle"
         },
         "mode": "markers",
         "name": "All saccades",
         "type": "scatter",
         "x": [
          9.636172774867257,
          9.030404650485748,
          9.888864621037824,
          9.515019149990954,
          10.62270943457428,
          10.342325331289125,
          9.10309682541153,
          9.186173596755278,
          9.186173596755278,
          9.60501898561335,
          8.985404732674548,
          9.698480353375066,
          9.037327714764391,
          8.175406212072993,
          8.881558768494862,
          9.553096003523509,
          8.91271255774877,
          9.521942214269597,
          7.9261758980417465,
          7.97809888013159,
          9.341942543024809,
          9.296942625213608,
          8.822712722126376,
          8.12348322998315,
          9.037327714764391,
          8.615020793767002,
          10.276556220641991,
          9.123866018247464,
          8.85386651138028,
          9.397327057253976,
          9.335019478746162,
          9.96501832810293,
          9.38348092869668,
          10.18309485288027,
          9.746941803325583,
          9.875018492480534,
          9.161942871780017,
          10.15540259576569,
          9.348865607303452,
          9.22771198242715,
          8.708482161528718,
          9.078866100436269,
          9.328096414467518,
          8.750020547200592,
          9.83421280781634,
          8.32152326293224,
          9.85498200065228,
          8.88921453378119,
          7.407678778150994,
          9.086521865722595,
          7.767678120640578,
          9.02075275507546,
          8.95498364442833,
          8.228061895170521,
          9.17652170134499,
          7.746908927804636,
          8.882291469502544,
          8.85806074452729,
          9.820366679259052,
          8.660753412585883,
          10.128443039658784,
          8.387292373579372,
          9.650751604432228,
          10.626903667721283,
          9.152290976369736,
          8.086139077458277,
          10.1145969111015,
          9.339213711893168,
          10.630365199860606,
          9.917289579160093,
          9.314982986917906,
          10.630365199860606,
          9.346136776171814,
          8.376907777161405,
          11.42651759190487,
          9.363444436868429,
          9.159214040648376,
          8.556907448406196,
          7.823062634869741,
          9.595367090203064,
          10.865749385334569,
          8.726522523233013,
          10.516134639262953,
          10.903826238867117,
          11.502671298969975,
          11.270748645635342,
          10.090366186126236,
          11.059595185136647,
          9.30459839049994,
          8.176138913080678,
          10.543826896377531,
          10.997287606628838,
          10.041904736175711,
          10.571519153492122,
          8.885753001641872,
          9.972674093389257
         ],
         "xaxis": "x3",
         "y": [
          -0.5123067566197868,
          -0.4430761138333289,
          -0.1488458819908829,
          0.9588444025924432,
          -0.9034598883632762,
          -0.2180765247773407,
          0.1903842676627592,
          0.2007688640807263,
          0.2180765247773407,
          0.0623075785078105,
          0.5711528029882775,
          -0.4465376459726526,
          0.2215380569166644,
          1.0523057703541592,
          0.20423039622005,
          -0.2353841854739552,
          0.6299988493567683,
          0.3911531317434855,
          0.6334603814960881,
          1.007305852542963,
          0.5296144173164012,
          0.6299988493567683,
          1.1388440738372314,
          0.2665379747278644,
          0.5365374815950487,
          0.8653830348307235,
          0.3253840210963513,
          0.1626920105481776,
          0.4776914352265578,
          0.578075867266925,
          -0.1973073319414065,
          0.3599993424895802,
          0.4465376459726526,
          -0.3565378103502565,
          -0.3219224889570276,
          0.1903842676627592,
          0.079615239204425,
          -0.1349997534335921,
          0.927690613338534,
          0.6265373172174447,
          0.7546140063723894,
          0.8549984384127565,
          -0.0069230642786473,
          0.6542295743320262,
          0.0311537892539052,
          0.3011532961210934,
          -0.2838456354244789,
          0.1730766069661447,
          0.4084607924401,
          0.5953835279635394,
          0.1592304784088539,
          0.4292299852760381,
          0.837690777716142,
          0.6507680421927026,
          0.2353841854739552,
          0.6680757028893171,
          0.3253840210963513,
          -0.0415383856718763,
          0.6853833635859315,
          0.7269217492578078,
          0.9069214205026,
          1.0834595596080665,
          0.089999835622396,
          -0.1488458819908829,
          0.3980761960221328,
          1.0938441560260357,
          -0.2111534604986973,
          -0.1211536248763013,
          -0.4119223245794236,
          0.1834612033841118,
          0.7753831992083275,
          -0.2007688640807263,
          0.2630764425885407,
          0.7615370706510368,
          -0.3911531317434855,
          0.3946146638828092,
          0.6196142529387973,
          0.0415383856718763,
          0.6473065100533828,
          0.4742299030872381,
          1.311920680803376,
          0.2076919283593736,
          0.4292299852760381,
          0.5053836923411433,
          -0.3357686175143223,
          0.6369219136354117,
          0.8757676312486907,
          -0.1903842676627592,
          1.4088435807044175,
          0.7753831992083275,
          0.4292299852760381,
          -0.0069230642786473,
          0.418845388858071,
          0.7615370706510368,
          1.1249979452799406,
          0.5815373994062447
         ],
         "yaxis": "y3"
        },
        {
         "line": {
          "width": 5
         },
         "marker": {
          "color": "rgb(115, 175, 72)"
         },
         "mode": "lines",
         "type": "scatter",
         "x": [
          8,
          8.444444444444445,
          8.88888888888889,
          9.333333333333334,
          9.777777777777779,
          10.222222222222221,
          10.666666666666666,
          11.11111111111111,
          11.555555555555555,
          12
         ],
         "xaxis": "x3",
         "y": [
          0.6459328157034923,
          0.5523627165227938,
          0.45879261734209553,
          0.36522251816139706,
          0.2716524189806986,
          0.17808231980000055,
          0.08451222061930252,
          -0.009057878561395949,
          -0.10262797774209442,
          -0.1961980769227929
         ],
         "yaxis": "y3"
        },
        {
         "mode": "text",
         "text": "-78.1 deg",
         "textfont": {
          "color": "rgb(115, 175, 72)",
          "size": 15
         },
         "type": "scatter",
         "x": [
          11.2
         ],
         "xaxis": "x3",
         "y": [
          -1.8
         ],
         "yaxis": "y3"
        },
        {
         "marker": {
          "color": "white",
          "line": {
           "color": "rgb(29, 105, 150)",
           "width": 2
          },
          "opacity": 1,
          "size": 8,
          "symbol": "circle"
         },
         "mode": "markers",
         "name": "Left saccades",
         "type": "scatter",
         "x": [
          -10.183827553887957,
          -11.128825827923103,
          -10.824210999662691,
          -11.13228736006243,
          -10.588826814188732,
          -11.634209520264248,
          -10.55074996065618,
          -10.450365528615816,
          -9.719982247218686,
          -11.184210342152271,
          -11.689594034493416,
          -10.966133817374928,
          -10.796518742548107,
          -10.086904653986911,
          -12.136131680466068,
          -10.94190309239967,
          -10.09382771826556,
          -9.792674422144469,
          -10.118058443240818,
          -10.38113488582936,
          -11.33651775628248,
          -8.989598965821559,
          -10.356904160854102,
          -9.668059265128845,
          -11.063056717275972,
          -10.703057374786392,
          -11.949208944942631,
          -10.259981260953058,
          -10.388057950108006,
          -10.78613414613014,
          -9.54344410811322,
          -10.47459625359108,
          -10.664980521253838,
          -10.879595513891855,
          -9.30113685836062,
          -10.166519893191342,
          -10.588826814188732,
          -12.599976987135337,
          -9.948443368413995,
          -10.831134063941336,
          -9.85152046851296,
          -10.889980110309828,
          -11.232671792102792
         ],
         "xaxis": "x4",
         "y": [
          -0.4049992603007802,
          -0.1315382212942684,
          -0.4119223245794236,
          0.2976917639817697,
          0.3634608746289039,
          -0.1038459641796868,
          -0.4015377281614565,
          0.0034615321393236,
          -0.9830751275677012,
          1.0280750453788992,
          0.7096140885611933,
          1.166536330951815,
          -0.0553845142291671,
          0.996921256124994,
          0.5399990137343723,
          0.7719216670690039,
          -0.6265373172174447,
          0.7338448135364551,
          0.7961523920442657,
          -0.0588460463684907,
          0.3530762782109368,
          -0.5123067566197868,
          0.20423039622005,
          -0.463845306669267,
          1.0938441560260357,
          0.5053836923411433,
          0.8515369062734328,
          -0.1938457998020828,
          0.0034615321393236,
          0.6749987671679644,
          0.5642297387096302,
          0.2284611211953118,
          0.7165371528398408,
          -0.1211536248763013,
          -0.5019221602018197,
          0.1938457998020828,
          0.5261528851770815,
          0.463845306669267,
          0.214614992638021,
          -0.1523074141302065,
          -0.4846144995052052,
          0.4049992603007802,
          1.2046131844843675
         ],
         "yaxis": "y4"
        },
        {
         "line": {
          "width": 5
         },
         "marker": {
          "color": "rgb(29, 105, 150)"
         },
         "mode": "lines",
         "type": "scatter",
         "x": [
          -8,
          -8.444444444444445,
          -8.88888888888889,
          -9.333333333333334,
          -9.777777777777779,
          -10.222222222222221,
          -10.666666666666666,
          -11.11111111111111,
          -11.555555555555555,
          -12
         ],
         "xaxis": "x4",
         "y": [
          -0.6423734600777977,
          -0.4942202206219086,
          -0.3460669811660195,
          -0.19791374171013087,
          -0.04976050225424178,
          0.09839273720164643,
          0.24654597665753553,
          0.3946992161134246,
          0.5428524555693137,
          0.6910056950252024
         ],
         "yaxis": "y4"
        },
        {
         "mode": "text",
         "text": "-71.6 deg",
         "textfont": {
          "color": "rgb(29, 105, 150)",
          "size": 15
         },
         "type": "scatter",
         "x": [
          -8.8
         ],
         "xaxis": "x4",
         "y": [
          -1.8
         ],
         "yaxis": "y4"
        },
        {
         "marker": {
          "color": "white",
          "line": {
           "color": "rgb(204, 80, 62)",
           "width": 2
          },
          "opacity": 1,
          "size": 8,
          "symbol": "circle"
         },
         "mode": "markers",
         "name": "Right saccades",
         "type": "scatter",
         "x": [
          9.411905886818952,
          8.948060580149683,
          9.633443943735614,
          9.803059018562438,
          9.51921338313796,
          9.92767417557806,
          8.688445669700466,
          10.398442546525978,
          10.256519728813734,
          9.70959765080072,
          8.612291962635359,
          10.654595924835869,
          9.193829362041605,
          9.221521619156194,
          10.827672531802012,
          9.98652022194655,
          9.941520304135354,
          10.208058278863218,
          10.246135132395768,
          10.131904571798112,
          10.263442793092382,
          11.007672203046804,
          9.152290976369736,
          9.162675572787704,
          9.356521372589782,
          10.000366350503844,
          10.249596664535089,
          8.231523427309842,
          9.39459822612234,
          9.681905393686137,
          10.038443204036394,
          9.602290154481713,
          10.502288510705664,
          10.443442464337174,
          10.529980767820248,
          10.20459674672389
         ],
         "xaxis": "x5",
         "y": [
          -1.0973056881653591,
          -0.294230231842446,
          0.2388457176132789,
          -0.7511524742330696,
          0.4049992603007802,
          -0.782306263486975,
          1.429612773540356,
          -0.623075785078121,
          -0.3461532139322894,
          -0.1280766891549486,
          -0.623075785078121,
          -0.7303832813971315,
          0.3980761960221328,
          -0.1003844320403631,
          0.7407678778150986,
          1.4642280949335846,
          -1.1284594774192644,
          -1.585381719809884,
          -0.65769110647135,
          -0.5296144173164012,
          0.7373063456757749,
          0.1003844320403631,
          0.9034598883632762,
          1.034998109657545,
          0.5192298208984342,
          0.3669224067682275,
          -0.1523074141302065,
          0.0623075785078105,
          0.7788447313476512,
          0.1384612855729158,
          0.4673068388085907,
          1.9765348515533732,
          1.0246135132395775,
          0.5746143351276013,
          -0.1765381391054684,
          -0.543460545873696
         ],
         "yaxis": "y5"
        },
        {
         "line": {
          "width": 5
         },
         "marker": {
          "color": "rgb(204, 80, 62)"
         },
         "mode": "lines",
         "type": "scatter",
         "x": [
          8,
          8.444444444444445,
          8.88888888888889,
          9.333333333333334,
          9.777777777777779,
          10.222222222222221,
          10.666666666666666,
          11.11111111111111,
          11.555555555555555,
          12
         ],
         "xaxis": "x5",
         "y": [
          0.4607213316670964,
          0.36879196874563136,
          0.2768626058241661,
          0.18493324290270108,
          0.09300387998123583,
          0.0010745170597714626,
          -0.09085484586169379,
          -0.18278420878315904,
          -0.27471357170462385,
          -0.3666429346260891
         ],
         "yaxis": "y5"
        },
        {
         "mode": "text",
         "text": "-78.3 deg",
         "textfont": {
          "color": "rgb(204, 80, 62)",
          "size": 15
         },
         "type": "scatter",
         "x": [
          11.2
         ],
         "xaxis": "x5",
         "y": [
          -1.8
         ],
         "yaxis": "y5"
        },
        {
         "marker": {
          "color": "white",
          "line": {
           "color": "rgb(115, 175, 72)",
           "width": 2
          },
          "opacity": 1,
          "size": 8,
          "symbol": "circle"
         },
         "mode": "markers",
         "name": "All saccades",
         "type": "scatter",
         "x": [
          9.816172446112043,
          8.871174172076897,
          9.175789000337309,
          8.86771263993757,
          9.411173185811268,
          8.365790479735752,
          9.44925003934382,
          9.549634471384184,
          10.280017752781314,
          8.815789657847729,
          8.310405965506584,
          9.033866182625072,
          9.203481257451893,
          9.913095346013089,
          7.863868319533932,
          9.05809690760033,
          9.90617228173444,
          10.207325577855531,
          9.881941556759182,
          9.61886511417064,
          8.66348224371752,
          11.010401034178441,
          9.643095839145898,
          10.331940734871155,
          8.936943282724028,
          9.296942625213608,
          8.050791055057369,
          9.740018739046942,
          9.611942049891994,
          9.21386585386986,
          10.45655589188678,
          9.52540374640892,
          9.335019478746162,
          9.120404486108145,
          10.69886314163938,
          9.833480106808658,
          9.411173185811268,
          7.400023012864663,
          10.051556631586005,
          9.168865936058664,
          10.14847953148704,
          9.110019889690172,
          8.767328207897208,
          9.411905886818952,
          8.948060580149683,
          9.633443943735614,
          9.803059018562438,
          9.51921338313796,
          9.92767417557806,
          8.688445669700466,
          10.398442546525978,
          10.256519728813734,
          9.70959765080072,
          8.612291962635359,
          10.654595924835869,
          9.193829362041605,
          9.221521619156194,
          10.827672531802012,
          9.98652022194655,
          9.941520304135354,
          10.208058278863218,
          10.246135132395768,
          10.131904571798112,
          10.263442793092382,
          11.007672203046804,
          9.152290976369736,
          9.162675572787704,
          9.356521372589782,
          10.000366350503844,
          10.249596664535089,
          8.231523427309842,
          9.39459822612234,
          9.681905393686137,
          10.038443204036394,
          9.602290154481713,
          10.502288510705664,
          10.443442464337174,
          10.529980767820248,
          10.20459674672389
         ],
         "xaxis": "x6",
         "y": [
          -0.4049992603007802,
          -0.1315382212942684,
          -0.4119223245794236,
          0.2976917639817697,
          0.3634608746289039,
          -0.1038459641796868,
          -0.4015377281614565,
          0.0034615321393236,
          -0.9830751275677012,
          1.0280750453788992,
          0.7096140885611933,
          1.166536330951815,
          -0.0553845142291671,
          0.996921256124994,
          0.5399990137343723,
          0.7719216670690039,
          -0.6265373172174447,
          0.7338448135364551,
          0.7961523920442657,
          -0.0588460463684907,
          0.3530762782109368,
          -0.5123067566197868,
          0.20423039622005,
          -0.463845306669267,
          1.0938441560260357,
          0.5053836923411433,
          0.8515369062734328,
          -0.1938457998020828,
          0.0034615321393236,
          0.6749987671679644,
          0.5642297387096302,
          0.2284611211953118,
          0.7165371528398408,
          -0.1211536248763013,
          -0.5019221602018197,
          0.1938457998020828,
          0.5261528851770815,
          0.463845306669267,
          0.214614992638021,
          -0.1523074141302065,
          -0.4846144995052052,
          0.4049992603007802,
          1.2046131844843675,
          -1.0973056881653591,
          -0.294230231842446,
          0.2388457176132789,
          -0.7511524742330696,
          0.4049992603007802,
          -0.782306263486975,
          1.429612773540356,
          -0.623075785078121,
          -0.3461532139322894,
          -0.1280766891549486,
          -0.623075785078121,
          -0.7303832813971315,
          0.3980761960221328,
          -0.1003844320403631,
          0.7407678778150986,
          1.4642280949335846,
          -1.1284594774192644,
          -1.585381719809884,
          -0.65769110647135,
          -0.5296144173164012,
          0.7373063456757749,
          0.1003844320403631,
          0.9034598883632762,
          1.034998109657545,
          0.5192298208984342,
          0.3669224067682275,
          -0.1523074141302065,
          0.0623075785078105,
          0.7788447313476512,
          0.1384612855729158,
          0.4673068388085907,
          1.9765348515533732,
          1.0246135132395775,
          0.5746143351276013,
          -0.1765381391054684,
          -0.543460545873696
         ],
         "yaxis": "y6"
        },
        {
         "line": {
          "width": 5
         },
         "marker": {
          "color": "rgb(115, 175, 72)"
         },
         "mode": "lines",
         "type": "scatter",
         "x": [
          8,
          8.444444444444445,
          8.88888888888889,
          9.333333333333334,
          9.777777777777779,
          10.222222222222221,
          10.666666666666666,
          11.11111111111111,
          11.555555555555555,
          12
         ],
         "xaxis": "x6",
         "y": [
          0.6210447233909693,
          0.4924813288043044,
          0.36391793421763907,
          0.2353545396309742,
          0.10679114504430887,
          -0.02177224954235557,
          -0.1503356441290209,
          -0.2788990387156858,
          -0.4074624333023511,
          -0.536025827889016
         ],
         "yaxis": "y6"
        },
        {
         "mode": "text",
         "text": "-73.9 deg",
         "textfont": {
          "color": "rgb(115, 175, 72)",
          "size": 15
         },
         "type": "scatter",
         "x": [
          11.2
         ],
         "xaxis": "x6",
         "y": [
          -1.8
         ],
         "yaxis": "y6"
        }
       ],
       "layout": {
        "annotations": [
         {
          "font": {
           "size": 16
          },
          "showarrow": false,
          "text": "<b>Control leftward trials<b>",
          "x": 0.11666666666666665,
          "xanchor": "center",
          "xref": "paper",
          "y": 1,
          "yanchor": "bottom",
          "yref": "paper"
         },
         {
          "font": {
           "size": 16
          },
          "showarrow": false,
          "text": "<b>Control rightward trials<b>",
          "x": 0.49999999999999994,
          "xanchor": "center",
          "xref": "paper",
          "y": 1,
          "yanchor": "bottom",
          "yref": "paper"
         },
         {
          "font": {
           "size": 16
          },
          "showarrow": false,
          "text": "<b>Control all trials<b>",
          "x": 0.8833333333333333,
          "xanchor": "center",
          "xref": "paper",
          "y": 1,
          "yanchor": "bottom",
          "yref": "paper"
         },
         {
          "font": {
           "size": 16
          },
          "showarrow": false,
          "text": "<b>Double drift leftward trials<b>",
          "x": 0.11666666666666665,
          "xanchor": "center",
          "xref": "paper",
          "y": 0.4,
          "yanchor": "bottom",
          "yref": "paper"
         },
         {
          "font": {
           "size": 16
          },
          "showarrow": false,
          "text": "<b>Double drift rightward trials<b>",
          "x": 0.49999999999999994,
          "xanchor": "center",
          "xref": "paper",
          "y": 0.4,
          "yanchor": "bottom",
          "yref": "paper"
         },
         {
          "font": {
           "size": 16
          },
          "showarrow": false,
          "text": "<b>Double drift all trials<b>",
          "x": 0.8833333333333333,
          "xanchor": "center",
          "xref": "paper",
          "y": 0.4,
          "yanchor": "bottom",
          "yref": "paper"
         },
         {
          "font": {
           "size": 13
          },
          "showarrow": false,
          "text": "Left saccades",
          "x": 1.05,
          "xanchor": "left",
          "xref": "paper",
          "y": 0.97,
          "yanchor": "middle",
          "yref": "paper"
         },
         {
          "font": {
           "size": 13
          },
          "showarrow": false,
          "text": "Right saccades",
          "x": 1.05,
          "xanchor": "left",
          "xref": "paper",
          "y": 0.9299999999999999,
          "yanchor": "middle",
          "yref": "paper"
         },
         {
          "font": {
           "size": 13
          },
          "showarrow": false,
          "text": "All saccades",
          "x": 1.05,
          "xanchor": "left",
          "xref": "paper",
          "y": 0.89,
          "yanchor": "middle",
          "yref": "paper"
         },
         {
          "font": {
           "size": 13
          },
          "showarrow": false,
          "text": "Left saccades",
          "x": 1.05,
          "xanchor": "left",
          "xref": "paper",
          "y": 0.97,
          "yanchor": "middle",
          "yref": "paper"
         },
         {
          "font": {
           "size": 13
          },
          "showarrow": false,
          "text": "Right saccades",
          "x": 1.05,
          "xanchor": "left",
          "xref": "paper",
          "y": 0.9299999999999999,
          "yanchor": "middle",
          "yref": "paper"
         },
         {
          "font": {
           "size": 13
          },
          "showarrow": false,
          "text": "All saccades",
          "x": 1.05,
          "xanchor": "left",
          "xref": "paper",
          "y": 0.89,
          "yanchor": "middle",
          "yref": "paper"
         }
        ],
        "height": 700,
        "margin": {
         "b": 50,
         "l": 50,
         "r": 200,
         "t": 50
        },
        "shapes": [
         {
          "line": {
           "color": "rgb(29, 105, 150)",
           "width": 2
          },
          "type": "circle",
          "x0": 1.0142857142857142,
          "x1": 1.0257142857142858,
          "xref": "paper",
          "y0": 0.96,
          "y1": 0.98,
          "yref": "paper"
         },
         {
          "line": {
           "color": "rgb(204, 80, 62)",
           "width": 2
          },
          "type": "circle",
          "x0": 1.0142857142857142,
          "x1": 1.0257142857142858,
          "xref": "paper",
          "y0": 0.9199999999999999,
          "y1": 0.94,
          "yref": "paper"
         },
         {
          "line": {
           "color": "rgb(115, 175, 72)",
           "width": 2
          },
          "type": "circle",
          "x0": 1.0142857142857142,
          "x1": 1.0257142857142858,
          "xref": "paper",
          "y0": 0.88,
          "y1": 0.9,
          "yref": "paper"
         },
         {
          "line": {
           "color": "rgb(29, 105, 150)",
           "width": 2
          },
          "type": "circle",
          "x0": 1.0142857142857142,
          "x1": 1.0257142857142858,
          "xref": "paper",
          "y0": 0.96,
          "y1": 0.98,
          "yref": "paper"
         },
         {
          "line": {
           "color": "rgb(204, 80, 62)",
           "width": 2
          },
          "type": "circle",
          "x0": 1.0142857142857142,
          "x1": 1.0257142857142858,
          "xref": "paper",
          "y0": 0.9199999999999999,
          "y1": 0.94,
          "yref": "paper"
         },
         {
          "line": {
           "color": "rgb(115, 175, 72)",
           "width": 2
          },
          "type": "circle",
          "x0": 1.0142857142857142,
          "x1": 1.0257142857142858,
          "xref": "paper",
          "y0": 0.88,
          "y1": 0.9,
          "yref": "paper"
         }
        ],
        "showlegend": false,
        "template": {
         "data": {
          "barpolar": [
           {
            "marker": {
             "line": {
              "color": "rgba(0, 0, 0, 1)",
              "width": 1.5
             }
            },
            "showlegend": false,
            "thetaunit": "radians",
            "type": "barpolar"
           }
          ],
          "pie": [
           {
            "direction": "clockwise",
            "hole": 0.4,
            "marker": {
             "line": {
              "color": [
               "rgba(0, 0, 0, 1)",
               "rgba(255,255,255,0)"
              ],
              "width": [
               1.5,
               0
              ]
             }
            },
            "rotation": 0,
            "showlegend": false,
            "sort": false,
            "textposition": [
             "inside",
             "none"
            ],
            "type": "pie"
           }
          ],
          "violin": [
           {
            "box": {
             "visible": false
            },
            "hoveron": "violins",
            "line": {
             "color": "rgba(0, 0, 0, 1)",
             "width": 1.5
            },
            "marker": {
             "opacity": 0.5,
             "symbol": "x"
            },
            "meanline": {
             "color": "rgba(0, 0, 0, 1)",
             "visible": true,
             "width": 1.5
            },
            "opacity": 1,
            "points": false,
            "showlegend": false,
            "type": "violin",
            "width": 0.8
           }
          ]
         },
         "layout": {
          "annotationdefaults": {
           "font": {
            "color": "rgba(0, 0, 0, 1)",
            "family": "Helvetica",
            "size": 15
           }
          },
          "font": {
           "family": "Helvetica",
           "size": 13
          },
          "plot_bgcolor": "rgba(255, 255, 255, 1)",
          "polar": {
           "angularaxis": {
            "showticklabels": false,
            "ticks": "",
            "visible": false
           },
           "radialaxis": {
            "showticklabels": false,
            "ticks": "",
            "visible": false
           }
          },
          "xaxis": {
           "color": "rgba(0, 0, 0, 1)",
           "hoverformat": ".1f",
           "linewidth": 2,
           "range": [
            0,
            1
           ],
           "showgrid": false,
           "tickfont": {
            "family": "Helvetica",
            "size": 13
           },
           "ticklen": 8,
           "ticks": "outside",
           "tickwidth": 2,
           "title": {
            "font": {
             "family": "Helvetica",
             "size": 15
            }
           },
           "visible": true,
           "zeroline": false,
           "zerolinecolor": "rgba(0, 0, 0, 1)",
           "zerolinewidth": 2
          },
          "yaxis": {
           "color": "rgba(0, 0, 0, 1)",
           "hoverformat": ".1f",
           "linewidth": 2,
           "showgrid": false,
           "tickfont": {
            "family": "Helvetica",
            "size": 13
           },
           "ticklen": 8,
           "ticks": "outside",
           "tickwidth": 2,
           "title": {
            "font": {
             "family": "Helvetica",
             "size": 15
            }
           },
           "visible": true,
           "zeroline": false,
           "zerolinecolor": "rgba(0, 0, 0, 1)",
           "zerolinewidth": 2
          }
         }
        },
        "width": 1250,
        "xaxis": {
         "anchor": "y",
         "domain": [
          0,
          0.2333333333333333
         ],
         "linewidth": 2,
         "range": [
          -12,
          -8
         ],
         "ticklen": 8,
         "title": {
          "text": "X coordinates (dva)"
         },
         "type": "linear",
         "visible": true
        },
        "xaxis2": {
         "anchor": "y2",
         "domain": [
          0.3833333333333333,
          0.6166666666666666
         ],
         "linewidth": 2,
         "range": [
          8,
          12
         ],
         "ticklen": 8,
         "title": {
          "text": "X coordinates (dva)"
         },
         "type": "linear",
         "visible": true
        },
        "xaxis3": {
         "anchor": "y3",
         "domain": [
          0.7666666666666666,
          0.9999999999999999
         ],
         "linewidth": 2,
         "range": [
          8,
          12
         ],
         "ticklen": 8,
         "title": {
          "text": "X coordinates (dva)"
         },
         "type": "linear",
         "visible": true
        },
        "xaxis4": {
         "anchor": "y4",
         "domain": [
          0,
          0.2333333333333333
         ],
         "linewidth": 2,
         "range": [
          -12,
          -8
         ],
         "ticklen": 8,
         "title": {
          "text": "X coordinates (dva)"
         },
         "type": "linear",
         "visible": true
        },
        "xaxis5": {
         "anchor": "y5",
         "domain": [
          0.3833333333333333,
          0.6166666666666666
         ],
         "linewidth": 2,
         "range": [
          8,
          12
         ],
         "ticklen": 8,
         "title": {
          "text": "X coordinates (dva)"
         },
         "type": "linear",
         "visible": true
        },
        "xaxis6": {
         "anchor": "y6",
         "domain": [
          0.7666666666666666,
          0.9999999999999999
         ],
         "linewidth": 2,
         "range": [
          8,
          12
         ],
         "ticklen": 8,
         "title": {
          "text": "X coordinates (dva)"
         },
         "type": "linear",
         "visible": true
        },
        "yaxis": {
         "anchor": "x",
         "domain": [
          0.6000000000000001,
          1
         ],
         "linewidth": 2,
         "range": [
          -2,
          2
         ],
         "ticklen": 8,
         "title": {
          "text": "Y coordinates (dva)"
         },
         "type": "linear",
         "visible": true
        },
        "yaxis2": {
         "anchor": "x2",
         "domain": [
          0.6000000000000001,
          1
         ],
         "linewidth": 2,
         "range": [
          -2,
          2
         ],
         "ticklen": 8,
         "title": {
          "text": "Y coordinates (dva)"
         },
         "type": "linear",
         "visible": true
        },
        "yaxis3": {
         "anchor": "x3",
         "domain": [
          0.6000000000000001,
          1
         ],
         "linewidth": 2,
         "range": [
          -2,
          2
         ],
         "ticklen": 8,
         "title": {
          "text": "Y coordinates (dva)"
         },
         "type": "linear",
         "visible": true
        },
        "yaxis4": {
         "anchor": "x4",
         "domain": [
          0,
          0.4
         ],
         "linewidth": 2,
         "range": [
          -2,
          2
         ],
         "ticklen": 8,
         "title": {
          "text": "Y coordinates (dva)"
         },
         "type": "linear",
         "visible": true
        },
        "yaxis5": {
         "anchor": "x5",
         "domain": [
          0,
          0.4
         ],
         "linewidth": 2,
         "range": [
          -2,
          2
         ],
         "ticklen": 8,
         "title": {
          "text": "Y coordinates (dva)"
         },
         "type": "linear",
         "visible": true
        },
        "yaxis6": {
         "anchor": "x6",
         "domain": [
          0,
          0.4
         ],
         "linewidth": 2,
         "range": [
          -2,
          2
         ],
         "ticklen": 8,
         "title": {
          "text": "Y coordinates (dva)"
         },
         "type": "linear",
         "visible": true
        }
       }
      },
      "image/png": "[encoded data removed]",
      "text/html": [
       "<div>                            <div id=\"749f688e-fcb0-4d00-bd38-bb25809f93bf\" class=\"plotly-graph-div\" style=\"height:700px; width:1250px;\"></div>            <script type=\"text/javascript\">                require([\"plotly\"], function(Plotly) {                    window.PLOTLYENV=window.PLOTLYENV || {};                                    if (document.getElementById(\"749f688e-fcb0-4d00-bd38-bb25809f93bf\")) {                    Plotly.newPlot(                        \"749f688e-fcb0-4d00-bd38-bb25809f93bf\",                        [{\"line\":{\"dash\":\"dot\",\"width\":6},\"marker\":{\"color\":\"rgba(100, 100, 100, 0.8)\"},\"mode\":\"lines\",\"x\":[-8.561087264392167,-8.880845650082797,-9.200604035773427,-9.520362421464055,-9.840120807154685,-10.159879192845315,-10.479637578535943,-10.799395964226573,-11.119154349917203,-11.438912735607833],\"y\":[-1.3890752820871828,-1.0803918860678088,-0.7717084900484349,-0.463025094029061,-0.15434169800968706,0.15434169800968706,0.46302509402906084,0.7717084900484346,1.0803918860678088,1.3890752820871828],\"type\":\"scatter\",\"xaxis\":\"x\",\"yaxis\":\"y\"},{\"line\":{\"dash\":\"dot\",\"width\":6},\"marker\":{\"color\":\"rgba(100, 100, 100, 0.8)\"},\"mode\":\"lines\",\"x\":[-10.0,-10.0,-10.0,-10.0,-10.0,-10.0,-10.0,-10.0,-10.0,-10.0],\"y\":[-2.0,-1.5555555555555556,-1.1111111111111112,-0.6666666666666667,-0.22222222222222232,0.22222222222222232,0.6666666666666665,1.1111111111111107,1.5555555555555554,2.0],\"type\":\"scatter\",\"xaxis\":\"x4\",\"yaxis\":\"y4\"},{\"line\":{\"dash\":\"dot\",\"width\":6},\"marker\":{\"color\":\"rgba(100, 100, 100, 0.8)\"},\"mode\":\"lines\",\"x\":[11.438912735607833,11.119154349917203,10.799395964226573,10.479637578535945,10.159879192845315,9.840120807154685,9.520362421464057,9.200604035773427,8.880845650082797,8.561087264392167],\"y\":[-1.3890752820871828,-1.0803918860678088,-0.7717084900484349,-0.463025094029061,-0.15434169800968706,0.15434169800968706,0.46302509402906084,0.7717084900484346,1.0803918860678088,1.3890752820871828],\"type\":\"scatter\",\"xaxis\":\"x2\",\"yaxis\":\"y2\"},{\"line\":{\"dash\":\"dot\",\"width\":6},\"marker\":{\"color\":\"rgba(100, 100, 100, 0.8)\"},\"mode\":\"lines\",\"x\":[10.0,10.0,10.0,10.0,10.0,10.0,10.0,10.0,10.0,10.0],\"y\":[-2.0,-1.5555555555555556,-1.1111111111111112,-0.6666666666666667,-0.22222222222222232,0.22222222222222232,0.6666666666666665,1.1111111111111107,1.5555555555555554,2.0],\"type\":\"scatter\",\"xaxis\":\"x5\",\"yaxis\":\"y5\"},{\"line\":{\"dash\":\"dot\",\"width\":6},\"marker\":{\"color\":\"rgba(100, 100, 100, 0.8)\"},\"mode\":\"lines\",\"x\":[11.438912735607833,11.119154349917203,10.799395964226573,10.479637578535945,10.159879192845315,9.840120807154685,9.520362421464057,9.200604035773427,8.880845650082797,8.561087264392167],\"y\":[-1.3890752820871828,-1.0803918860678088,-0.7717084900484349,-0.463025094029061,-0.15434169800968706,0.15434169800968706,0.46302509402906084,0.7717084900484346,1.0803918860678088,1.3890752820871828],\"type\":\"scatter\",\"xaxis\":\"x3\",\"yaxis\":\"y3\"},{\"line\":{\"dash\":\"dot\",\"width\":6},\"marker\":{\"color\":\"rgba(100, 100, 100, 0.8)\"},\"mode\":\"lines\",\"x\":[10.0,10.0,10.0,10.0,10.0,10.0,10.0,10.0,10.0,10.0],\"y\":[-2.0,-1.5555555555555556,-1.1111111111111112,-0.6666666666666667,-0.22222222222222232,0.22222222222222232,0.6666666666666665,1.1111111111111107,1.5555555555555554,2.0],\"type\":\"scatter\",\"xaxis\":\"x6\",\"yaxis\":\"y6\"},{\"line\":{\"width\":12},\"marker\":{\"color\":\"rgba(155, 155, 155, 0.5)\"},\"mode\":\"lines\",\"x\":[-11.438912735607833,-11.119154349917203,-10.799395964226573,-10.479637578535945,-10.159879192845315,-9.840120807154685,-9.520362421464055,-9.200604035773427,-8.880845650082797,-8.561087264392167],\"y\":[1.3890752820871826,1.0803918860678088,0.7717084900484348,0.4630250940290609,0.15434169800968703,-0.15434169800968703,-0.4630250940290607,-0.7717084900484344,-1.0803918860678086,-1.3890752820871826],\"type\":\"scatter\",\"xaxis\":\"x\",\"yaxis\":\"y\"},{\"line\":{\"width\":12},\"marker\":{\"color\":\"rgba(155, 155, 155, 0.5)\"},\"mode\":\"lines\",\"x\":[-11.438912735607833,-11.119154349917203,-10.799395964226573,-10.479637578535945,-10.159879192845315,-9.840120807154685,-9.520362421464055,-9.200604035773427,-8.880845650082797,-8.561087264392167],\"y\":[1.3890752820871826,1.0803918860678088,0.7717084900484348,0.4630250940290609,0.15434169800968703,-0.15434169800968703,-0.4630250940290607,-0.7717084900484344,-1.0803918860678086,-1.3890752820871826],\"type\":\"scatter\",\"xaxis\":\"x4\",\"yaxis\":\"y4\"},{\"line\":{\"width\":12},\"marker\":{\"color\":\"rgba(155, 155, 155, 0.5)\"},\"mode\":\"lines\",\"x\":[8.561087264392167,8.880845650082797,9.200604035773427,9.520362421464055,9.840120807154685,10.159879192845315,10.479637578535945,10.799395964226573,11.119154349917203,11.438912735607833],\"y\":[1.3890752820871826,1.0803918860678088,0.7717084900484348,0.4630250940290609,0.15434169800968703,-0.15434169800968703,-0.4630250940290607,-0.7717084900484344,-1.0803918860678086,-1.3890752820871826],\"type\":\"scatter\",\"xaxis\":\"x2\",\"yaxis\":\"y2\"},{\"line\":{\"width\":12},\"marker\":{\"color\":\"rgba(155, 155, 155, 0.5)\"},\"mode\":\"lines\",\"x\":[8.561087264392167,8.880845650082797,9.200604035773427,9.520362421464055,9.840120807154685,10.159879192845315,10.479637578535945,10.799395964226573,11.119154349917203,11.438912735607833],\"y\":[1.3890752820871826,1.0803918860678088,0.7717084900484348,0.4630250940290609,0.15434169800968703,-0.15434169800968703,-0.4630250940290607,-0.7717084900484344,-1.0803918860678086,-1.3890752820871826],\"type\":\"scatter\",\"xaxis\":\"x5\",\"yaxis\":\"y5\"},{\"line\":{\"width\":12},\"marker\":{\"color\":\"rgba(155, 155, 155, 0.5)\"},\"mode\":\"lines\",\"x\":[8.561087264392167,8.880845650082797,9.200604035773427,9.520362421464055,9.840120807154685,10.159879192845315,10.479637578535945,10.799395964226573,11.119154349917203,11.438912735607833],\"y\":[1.3890752820871826,1.0803918860678088,0.7717084900484348,0.4630250940290609,0.15434169800968703,-0.15434169800968703,-0.4630250940290607,-0.7717084900484344,-1.0803918860678086,-1.3890752820871826],\"type\":\"scatter\",\"xaxis\":\"x3\",\"yaxis\":\"y3\"},{\"line\":{\"width\":12},\"marker\":{\"color\":\"rgba(155, 155, 155, 0.5)\"},\"mode\":\"lines\",\"x\":[8.561087264392167,8.880845650082797,9.200604035773427,9.520362421464055,9.840120807154685,10.159879192845315,10.479637578535945,10.799395964226573,11.119154349917203,11.438912735607833],\"y\":[1.3890752820871826,1.0803918860678088,0.7717084900484348,0.4630250940290609,0.15434169800968703,-0.15434169800968703,-0.4630250940290607,-0.7717084900484344,-1.0803918860678086,-1.3890752820871826],\"type\":\"scatter\",\"xaxis\":\"x6\",\"yaxis\":\"y6\"},{\"marker\":{\"color\":\"white\",\"line\":{\"color\":\"rgb(29, 105, 150)\",\"width\":2},\"opacity\":1,\"size\":8,\"symbol\":\"circle\"},\"mode\":\"markers\",\"name\":\"Left saccades\",\"x\":[-10.363827225132743,-10.969595349514252,-10.111135378962176,-10.484980850009046,-9.37729056542572,-9.657674668710875,-10.89690317458847,-10.813826403244722,-10.813826403244722,-10.39498101438665,-11.014595267325452,-10.301519646624934,-10.962672285235609,-11.824593787927007,-11.118441231505138,-10.446903996476491,-11.08728744225123,-10.478057785730403,-12.073824101958254,-12.02190111986841,-10.658057456975191,-10.703057374786392,-11.177287277873624,-11.87651677001685,-10.962672285235609,-11.384979206232998,-9.723443779358009,-10.876133981752536,-11.14613348861972,-10.602672942746024,-10.664980521253838,-10.03498167189707,-10.61651907130332,-9.81690514711973,-10.253058196674417,-10.124981507519466,-10.838057128219983,-9.84459740423431,-10.651134392696548,-10.77228801757285,-11.291517838471282,-10.921133899563731,-10.671903585532482,-11.249979452799408],\"y\":[-0.5123067566197868,-0.4430761138333289,-0.1488458819908829,0.9588444025924432,-0.9034598883632762,-0.2180765247773407,0.1903842676627592,0.2007688640807263,0.2180765247773407,0.0623075785078105,0.5711528029882775,-0.4465376459726526,0.2215380569166644,1.0523057703541592,0.20423039622005,-0.2353841854739552,0.6299988493567683,0.3911531317434855,0.6334603814960881,1.007305852542963,0.5296144173164012,0.6299988493567683,1.1388440738372314,0.2665379747278644,0.5365374815950487,0.8653830348307235,0.3253840210963513,0.1626920105481776,0.4776914352265578,0.578075867266925,-0.1973073319414065,0.3599993424895802,0.4465376459726526,-0.3565378103502565,-0.3219224889570276,0.1903842676627592,0.079615239204425,-0.1349997534335921,0.927690613338534,0.6265373172174447,0.7546140063723894,0.8549984384127565,-0.0069230642786473,0.6542295743320262],\"type\":\"scatter\",\"xaxis\":\"x\",\"yaxis\":\"y\"},{\"line\":{\"width\":5},\"marker\":{\"color\":\"rgb(29, 105, 150)\"},\"mode\":\"lines\",\"x\":[-8.0,-8.444444444444445,-8.88888888888889,-9.333333333333334,-9.777777777777779,-10.222222222222221,-10.666666666666666,-11.11111111111111,-11.555555555555555,-12.0],\"y\":[-1.0576070477458686,-0.8379098381541983,-0.618212628562528,-0.39851541897085774,-0.17881820937918746,0.04087900021248281,0.2605762098041531,0.48027341939582335,0.6999706289874936,0.9196678385791639],\"type\":\"scatter\",\"xaxis\":\"x\",\"yaxis\":\"y\"},{\"mode\":\"text\",\"text\":\"-63.7 deg\",\"textfont\":{\"color\":\"rgb(29, 105, 150)\",\"size\":15},\"x\":[-8.8],\"y\":[-1.8],\"type\":\"scatter\",\"xaxis\":\"x\",\"yaxis\":\"y\"},{\"marker\":{\"color\":\"white\",\"line\":{\"color\":\"rgb(204, 80, 62)\",\"width\":2},\"opacity\":1,\"size\":8,\"symbol\":\"circle\"},\"mode\":\"markers\",\"name\":\"Right saccades\",\"x\":[9.83421280781634,8.32152326293224,9.85498200065228,8.88921453378119,7.407678778150994,9.086521865722595,7.767678120640578,9.02075275507546,8.95498364442833,8.228061895170521,9.17652170134499,7.746908927804636,8.882291469502544,8.85806074452729,9.820366679259052,8.660753412585883,10.128443039658784,8.387292373579372,9.650751604432228,10.626903667721283,9.152290976369736,8.086139077458277,10.1145969111015,9.339213711893168,10.630365199860606,9.917289579160093,9.314982986917906,10.630365199860606,9.346136776171814,8.376907777161405,11.42651759190487,9.363444436868429,9.159214040648376,8.556907448406196,7.823062634869741,9.595367090203064,10.865749385334569,8.726522523233013,10.516134639262953,10.903826238867117,11.502671298969975,11.270748645635342,10.090366186126236,11.059595185136647,9.30459839049994,8.176138913080678,10.543826896377531,10.997287606628838,10.041904736175711,10.571519153492122,8.885753001641872,9.972674093389257],\"y\":[0.0311537892539052,0.3011532961210934,-0.2838456354244789,0.1730766069661447,0.4084607924401,0.5953835279635394,0.1592304784088539,0.4292299852760381,0.837690777716142,0.6507680421927026,0.2353841854739552,0.6680757028893171,0.3253840210963513,-0.0415383856718763,0.6853833635859315,0.7269217492578078,0.9069214205026,1.0834595596080665,0.089999835622396,-0.1488458819908829,0.3980761960221328,1.0938441560260357,-0.2111534604986973,-0.1211536248763013,-0.4119223245794236,0.1834612033841118,0.7753831992083275,-0.2007688640807263,0.2630764425885407,0.7615370706510368,-0.3911531317434855,0.3946146638828092,0.6196142529387973,0.0415383856718763,0.6473065100533828,0.4742299030872381,1.311920680803376,0.2076919283593736,0.4292299852760381,0.5053836923411433,-0.3357686175143223,0.6369219136354117,0.8757676312486907,-0.1903842676627592,1.4088435807044175,0.7753831992083275,0.4292299852760381,-0.0069230642786473,0.418845388858071,0.7615370706510368,1.1249979452799406,0.5815373994062447],\"type\":\"scatter\",\"xaxis\":\"x2\",\"yaxis\":\"y2\"},{\"line\":{\"width\":5},\"marker\":{\"color\":\"rgb(204, 80, 62)\"},\"mode\":\"lines\",\"x\":[8.0,8.444444444444445,8.88888888888889,9.333333333333334,9.777777777777779,10.222222222222221,10.666666666666666,11.11111111111111,11.555555555555555,12.0],\"y\":[0.6229581355924869,0.558155242926329,0.4933523502601711,0.428549457594013,0.36374656492785507,0.2989436722616974,0.23414077959553947,0.16933788692938134,0.10453499426322344,0.03973210159706553],\"type\":\"scatter\",\"xaxis\":\"x2\",\"yaxis\":\"y2\"},{\"mode\":\"text\",\"text\":\"-81.7 deg\",\"textfont\":{\"color\":\"rgb(204, 80, 62)\",\"size\":15},\"x\":[11.2],\"y\":[-1.8],\"type\":\"scatter\",\"xaxis\":\"x2\",\"yaxis\":\"y2\"},{\"marker\":{\"color\":\"white\",\"line\":{\"color\":\"rgb(115, 175, 72)\",\"width\":2},\"opacity\":1,\"size\":8,\"symbol\":\"circle\"},\"mode\":\"markers\",\"name\":\"All saccades\",\"x\":[9.636172774867257,9.030404650485748,9.888864621037824,9.515019149990954,10.62270943457428,10.342325331289125,9.10309682541153,9.186173596755278,9.186173596755278,9.60501898561335,8.985404732674548,9.698480353375066,9.037327714764391,8.175406212072993,8.881558768494862,9.553096003523509,8.91271255774877,9.521942214269597,7.9261758980417465,7.97809888013159,9.341942543024809,9.296942625213608,8.822712722126376,8.12348322998315,9.037327714764391,8.615020793767002,10.276556220641991,9.123866018247464,8.85386651138028,9.397327057253976,9.335019478746162,9.96501832810293,9.38348092869668,10.18309485288027,9.746941803325583,9.875018492480534,9.161942871780017,10.15540259576569,9.348865607303452,9.22771198242715,8.708482161528718,9.078866100436269,9.328096414467518,8.750020547200592,9.83421280781634,8.32152326293224,9.85498200065228,8.88921453378119,7.407678778150994,9.086521865722595,7.767678120640578,9.02075275507546,8.95498364442833,8.228061895170521,9.17652170134499,7.746908927804636,8.882291469502544,8.85806074452729,9.820366679259052,8.660753412585883,10.128443039658784,8.387292373579372,9.650751604432228,10.626903667721283,9.152290976369736,8.086139077458277,10.1145969111015,9.339213711893168,10.630365199860606,9.917289579160093,9.314982986917906,10.630365199860606,9.346136776171814,8.376907777161405,11.42651759190487,9.363444436868429,9.159214040648376,8.556907448406196,7.823062634869741,9.595367090203064,10.865749385334569,8.726522523233013,10.516134639262953,10.903826238867117,11.502671298969975,11.270748645635342,10.090366186126236,11.059595185136647,9.30459839049994,8.176138913080678,10.543826896377531,10.997287606628838,10.041904736175711,10.571519153492122,8.885753001641872,9.972674093389257],\"y\":[-0.5123067566197868,-0.4430761138333289,-0.1488458819908829,0.9588444025924432,-0.9034598883632762,-0.2180765247773407,0.1903842676627592,0.2007688640807263,0.2180765247773407,0.0623075785078105,0.5711528029882775,-0.4465376459726526,0.2215380569166644,1.0523057703541592,0.20423039622005,-0.2353841854739552,0.6299988493567683,0.3911531317434855,0.6334603814960881,1.007305852542963,0.5296144173164012,0.6299988493567683,1.1388440738372314,0.2665379747278644,0.5365374815950487,0.8653830348307235,0.3253840210963513,0.1626920105481776,0.4776914352265578,0.578075867266925,-0.1973073319414065,0.3599993424895802,0.4465376459726526,-0.3565378103502565,-0.3219224889570276,0.1903842676627592,0.079615239204425,-0.1349997534335921,0.927690613338534,0.6265373172174447,0.7546140063723894,0.8549984384127565,-0.0069230642786473,0.6542295743320262,0.0311537892539052,0.3011532961210934,-0.2838456354244789,0.1730766069661447,0.4084607924401,0.5953835279635394,0.1592304784088539,0.4292299852760381,0.837690777716142,0.6507680421927026,0.2353841854739552,0.6680757028893171,0.3253840210963513,-0.0415383856718763,0.6853833635859315,0.7269217492578078,0.9069214205026,1.0834595596080665,0.089999835622396,-0.1488458819908829,0.3980761960221328,1.0938441560260357,-0.2111534604986973,-0.1211536248763013,-0.4119223245794236,0.1834612033841118,0.7753831992083275,-0.2007688640807263,0.2630764425885407,0.7615370706510368,-0.3911531317434855,0.3946146638828092,0.6196142529387973,0.0415383856718763,0.6473065100533828,0.4742299030872381,1.311920680803376,0.2076919283593736,0.4292299852760381,0.5053836923411433,-0.3357686175143223,0.6369219136354117,0.8757676312486907,-0.1903842676627592,1.4088435807044175,0.7753831992083275,0.4292299852760381,-0.0069230642786473,0.418845388858071,0.7615370706510368,1.1249979452799406,0.5815373994062447],\"type\":\"scatter\",\"xaxis\":\"x3\",\"yaxis\":\"y3\"},{\"line\":{\"width\":5},\"marker\":{\"color\":\"rgb(115, 175, 72)\"},\"mode\":\"lines\",\"x\":[8.0,8.444444444444445,8.88888888888889,9.333333333333334,9.777777777777779,10.222222222222221,10.666666666666666,11.11111111111111,11.555555555555555,12.0],\"y\":[0.6459328157034923,0.5523627165227938,0.45879261734209553,0.36522251816139706,0.2716524189806986,0.17808231980000055,0.08451222061930252,-0.009057878561395949,-0.10262797774209442,-0.1961980769227929],\"type\":\"scatter\",\"xaxis\":\"x3\",\"yaxis\":\"y3\"},{\"mode\":\"text\",\"text\":\"-78.1 deg\",\"textfont\":{\"color\":\"rgb(115, 175, 72)\",\"size\":15},\"x\":[11.2],\"y\":[-1.8],\"type\":\"scatter\",\"xaxis\":\"x3\",\"yaxis\":\"y3\"},{\"marker\":{\"color\":\"white\",\"line\":{\"color\":\"rgb(29, 105, 150)\",\"width\":2},\"opacity\":1,\"size\":8,\"symbol\":\"circle\"},\"mode\":\"markers\",\"name\":\"Left saccades\",\"x\":[-10.183827553887957,-11.128825827923103,-10.824210999662691,-11.13228736006243,-10.588826814188732,-11.634209520264248,-10.55074996065618,-10.450365528615816,-9.719982247218686,-11.184210342152271,-11.689594034493416,-10.966133817374928,-10.796518742548107,-10.086904653986911,-12.136131680466068,-10.94190309239967,-10.09382771826556,-9.792674422144469,-10.118058443240818,-10.38113488582936,-11.33651775628248,-8.989598965821559,-10.356904160854102,-9.668059265128845,-11.063056717275972,-10.703057374786392,-11.949208944942631,-10.259981260953058,-10.388057950108006,-10.78613414613014,-9.54344410811322,-10.47459625359108,-10.664980521253838,-10.879595513891855,-9.30113685836062,-10.166519893191342,-10.588826814188732,-12.599976987135337,-9.948443368413995,-10.831134063941336,-9.85152046851296,-10.889980110309828,-11.232671792102792],\"y\":[-0.4049992603007802,-0.1315382212942684,-0.4119223245794236,0.2976917639817697,0.3634608746289039,-0.1038459641796868,-0.4015377281614565,0.0034615321393236,-0.9830751275677012,1.0280750453788992,0.7096140885611933,1.166536330951815,-0.0553845142291671,0.996921256124994,0.5399990137343723,0.7719216670690039,-0.6265373172174447,0.7338448135364551,0.7961523920442657,-0.0588460463684907,0.3530762782109368,-0.5123067566197868,0.20423039622005,-0.463845306669267,1.0938441560260357,0.5053836923411433,0.8515369062734328,-0.1938457998020828,0.0034615321393236,0.6749987671679644,0.5642297387096302,0.2284611211953118,0.7165371528398408,-0.1211536248763013,-0.5019221602018197,0.1938457998020828,0.5261528851770815,0.463845306669267,0.214614992638021,-0.1523074141302065,-0.4846144995052052,0.4049992603007802,1.2046131844843675],\"type\":\"scatter\",\"xaxis\":\"x4\",\"yaxis\":\"y4\"},{\"line\":{\"width\":5},\"marker\":{\"color\":\"rgb(29, 105, 150)\"},\"mode\":\"lines\",\"x\":[-8.0,-8.444444444444445,-8.88888888888889,-9.333333333333334,-9.777777777777779,-10.222222222222221,-10.666666666666666,-11.11111111111111,-11.555555555555555,-12.0],\"y\":[-0.6423734600777977,-0.4942202206219086,-0.3460669811660195,-0.19791374171013087,-0.04976050225424178,0.09839273720164643,0.24654597665753553,0.3946992161134246,0.5428524555693137,0.6910056950252024],\"type\":\"scatter\",\"xaxis\":\"x4\",\"yaxis\":\"y4\"},{\"mode\":\"text\",\"text\":\"-71.6 deg\",\"textfont\":{\"color\":\"rgb(29, 105, 150)\",\"size\":15},\"x\":[-8.8],\"y\":[-1.8],\"type\":\"scatter\",\"xaxis\":\"x4\",\"yaxis\":\"y4\"},{\"marker\":{\"color\":\"white\",\"line\":{\"color\":\"rgb(204, 80, 62)\",\"width\":2},\"opacity\":1,\"size\":8,\"symbol\":\"circle\"},\"mode\":\"markers\",\"name\":\"Right saccades\",\"x\":[9.411905886818952,8.948060580149683,9.633443943735614,9.803059018562438,9.51921338313796,9.92767417557806,8.688445669700466,10.398442546525978,10.256519728813734,9.70959765080072,8.612291962635359,10.654595924835869,9.193829362041605,9.221521619156194,10.827672531802012,9.98652022194655,9.941520304135354,10.208058278863218,10.246135132395768,10.131904571798112,10.263442793092382,11.007672203046804,9.152290976369736,9.162675572787704,9.356521372589782,10.000366350503844,10.249596664535089,8.231523427309842,9.39459822612234,9.681905393686137,10.038443204036394,9.602290154481713,10.502288510705664,10.443442464337174,10.529980767820248,10.20459674672389],\"y\":[-1.0973056881653591,-0.294230231842446,0.2388457176132789,-0.7511524742330696,0.4049992603007802,-0.782306263486975,1.429612773540356,-0.623075785078121,-0.3461532139322894,-0.1280766891549486,-0.623075785078121,-0.7303832813971315,0.3980761960221328,-0.1003844320403631,0.7407678778150986,1.4642280949335846,-1.1284594774192644,-1.585381719809884,-0.65769110647135,-0.5296144173164012,0.7373063456757749,0.1003844320403631,0.9034598883632762,1.034998109657545,0.5192298208984342,0.3669224067682275,-0.1523074141302065,0.0623075785078105,0.7788447313476512,0.1384612855729158,0.4673068388085907,1.9765348515533732,1.0246135132395775,0.5746143351276013,-0.1765381391054684,-0.543460545873696],\"type\":\"scatter\",\"xaxis\":\"x5\",\"yaxis\":\"y5\"},{\"line\":{\"width\":5},\"marker\":{\"color\":\"rgb(204, 80, 62)\"},\"mode\":\"lines\",\"x\":[8.0,8.444444444444445,8.88888888888889,9.333333333333334,9.777777777777779,10.222222222222221,10.666666666666666,11.11111111111111,11.555555555555555,12.0],\"y\":[0.4607213316670964,0.36879196874563136,0.2768626058241661,0.18493324290270108,0.09300387998123583,0.0010745170597714626,-0.09085484586169379,-0.18278420878315904,-0.27471357170462385,-0.3666429346260891],\"type\":\"scatter\",\"xaxis\":\"x5\",\"yaxis\":\"y5\"},{\"mode\":\"text\",\"text\":\"-78.3 deg\",\"textfont\":{\"color\":\"rgb(204, 80, 62)\",\"size\":15},\"x\":[11.2],\"y\":[-1.8],\"type\":\"scatter\",\"xaxis\":\"x5\",\"yaxis\":\"y5\"},{\"marker\":{\"color\":\"white\",\"line\":{\"color\":\"rgb(115, 175, 72)\",\"width\":2},\"opacity\":1,\"size\":8,\"symbol\":\"circle\"},\"mode\":\"markers\",\"name\":\"All saccades\",\"x\":[9.816172446112043,8.871174172076897,9.175789000337309,8.86771263993757,9.411173185811268,8.365790479735752,9.44925003934382,9.549634471384184,10.280017752781314,8.815789657847729,8.310405965506584,9.033866182625072,9.203481257451893,9.913095346013089,7.863868319533932,9.05809690760033,9.90617228173444,10.207325577855531,9.881941556759182,9.61886511417064,8.66348224371752,11.010401034178441,9.643095839145898,10.331940734871155,8.936943282724028,9.296942625213608,8.050791055057369,9.740018739046942,9.611942049891994,9.21386585386986,10.45655589188678,9.52540374640892,9.335019478746162,9.120404486108145,10.69886314163938,9.833480106808658,9.411173185811268,7.400023012864663,10.051556631586005,9.168865936058664,10.14847953148704,9.110019889690172,8.767328207897208,9.411905886818952,8.948060580149683,9.633443943735614,9.803059018562438,9.51921338313796,9.92767417557806,8.688445669700466,10.398442546525978,10.256519728813734,9.70959765080072,8.612291962635359,10.654595924835869,9.193829362041605,9.221521619156194,10.827672531802012,9.98652022194655,9.941520304135354,10.208058278863218,10.246135132395768,10.131904571798112,10.263442793092382,11.007672203046804,9.152290976369736,9.162675572787704,9.356521372589782,10.000366350503844,10.249596664535089,8.231523427309842,9.39459822612234,9.681905393686137,10.038443204036394,9.602290154481713,10.502288510705664,10.443442464337174,10.529980767820248,10.20459674672389],\"y\":[-0.4049992603007802,-0.1315382212942684,-0.4119223245794236,0.2976917639817697,0.3634608746289039,-0.1038459641796868,-0.4015377281614565,0.0034615321393236,-0.9830751275677012,1.0280750453788992,0.7096140885611933,1.166536330951815,-0.0553845142291671,0.996921256124994,0.5399990137343723,0.7719216670690039,-0.6265373172174447,0.7338448135364551,0.7961523920442657,-0.0588460463684907,0.3530762782109368,-0.5123067566197868,0.20423039622005,-0.463845306669267,1.0938441560260357,0.5053836923411433,0.8515369062734328,-0.1938457998020828,0.0034615321393236,0.6749987671679644,0.5642297387096302,0.2284611211953118,0.7165371528398408,-0.1211536248763013,-0.5019221602018197,0.1938457998020828,0.5261528851770815,0.463845306669267,0.214614992638021,-0.1523074141302065,-0.4846144995052052,0.4049992603007802,1.2046131844843675,-1.0973056881653591,-0.294230231842446,0.2388457176132789,-0.7511524742330696,0.4049992603007802,-0.782306263486975,1.429612773540356,-0.623075785078121,-0.3461532139322894,-0.1280766891549486,-0.623075785078121,-0.7303832813971315,0.3980761960221328,-0.1003844320403631,0.7407678778150986,1.4642280949335846,-1.1284594774192644,-1.585381719809884,-0.65769110647135,-0.5296144173164012,0.7373063456757749,0.1003844320403631,0.9034598883632762,1.034998109657545,0.5192298208984342,0.3669224067682275,-0.1523074141302065,0.0623075785078105,0.7788447313476512,0.1384612855729158,0.4673068388085907,1.9765348515533732,1.0246135132395775,0.5746143351276013,-0.1765381391054684,-0.543460545873696],\"type\":\"scatter\",\"xaxis\":\"x6\",\"yaxis\":\"y6\"},{\"line\":{\"width\":5},\"marker\":{\"color\":\"rgb(115, 175, 72)\"},\"mode\":\"lines\",\"x\":[8.0,8.444444444444445,8.88888888888889,9.333333333333334,9.777777777777779,10.222222222222221,10.666666666666666,11.11111111111111,11.555555555555555,12.0],\"y\":[0.6210447233909693,0.4924813288043044,0.36391793421763907,0.2353545396309742,0.10679114504430887,-0.02177224954235557,-0.1503356441290209,-0.2788990387156858,-0.4074624333023511,-0.536025827889016],\"type\":\"scatter\",\"xaxis\":\"x6\",\"yaxis\":\"y6\"},{\"mode\":\"text\",\"text\":\"-73.9 deg\",\"textfont\":{\"color\":\"rgb(115, 175, 72)\",\"size\":15},\"x\":[11.2],\"y\":[-1.8],\"type\":\"scatter\",\"xaxis\":\"x6\",\"yaxis\":\"y6\"}],                        {\"template\":{\"data\":{\"barpolar\":[{\"marker\":{\"line\":{\"color\":\"rgba(0,0,0,1)\",\"width\":1.5}},\"showlegend\":false,\"thetaunit\":\"radians\",\"type\":\"barpolar\"}],\"pie\":[{\"direction\":\"clockwise\",\"hole\":0.4,\"marker\":{\"line\":{\"color\":[\"rgba(0,0,0,1)\",\"rgba(255,255,255,0)\"],\"width\":[1.5,0]}},\"rotation\":0,\"showlegend\":false,\"sort\":false,\"textposition\":[\"inside\",\"none\"],\"type\":\"pie\"}],\"violin\":[{\"box\":{\"visible\":false},\"hoveron\":\"violins\",\"line\":{\"color\":\"rgba(0, 0, 0, 1)\",\"width\":1.5},\"marker\":{\"opacity\":0.5,\"symbol\":\"x\"},\"meanline\":{\"color\":\"rgba(0, 0, 0, 1)\",\"visible\":true,\"width\":1.5},\"opacity\":1,\"points\":false,\"showlegend\":false,\"width\":0.8,\"type\":\"violin\"}]},\"layout\":{\"annotationdefaults\":{\"font\":{\"color\":\"rgba(0, 0, 0, 1)\",\"family\":\"Helvetica\",\"size\":15}},\"font\":{\"family\":\"Helvetica\",\"size\":13},\"plot_bgcolor\":\"rgba(255, 255, 255, 1)\",\"polar\":{\"angularaxis\":{\"showticklabels\":false,\"ticks\":\"\",\"visible\":false},\"radialaxis\":{\"showticklabels\":false,\"ticks\":\"\",\"visible\":false}},\"xaxis\":{\"color\":\"rgba(0, 0, 0, 1)\",\"hoverformat\":\".1f\",\"linewidth\":2,\"range\":[0,1],\"showgrid\":false,\"tickfont\":{\"family\":\"Helvetica\",\"size\":13},\"ticklen\":8,\"ticks\":\"outside\",\"tickwidth\":2,\"title\":{\"font\":{\"family\":\"Helvetica\",\"size\":15}},\"visible\":true,\"zeroline\":false,\"zerolinecolor\":\"rgba(0, 0, 0, 1)\",\"zerolinewidth\":2},\"yaxis\":{\"color\":\"rgba(0, 0, 0, 1)\",\"hoverformat\":\".1f\",\"linewidth\":2,\"showgrid\":false,\"tickfont\":{\"family\":\"Helvetica\",\"size\":13},\"ticklen\":8,\"ticks\":\"outside\",\"tickwidth\":2,\"title\":{\"font\":{\"family\":\"Helvetica\",\"size\":15}},\"visible\":true,\"zeroline\":false,\"zerolinecolor\":\"rgba(0, 0, 0, 1)\",\"zerolinewidth\":2}}},\"xaxis\":{\"anchor\":\"y\",\"domain\":[0.0,0.2333333333333333],\"visible\":true,\"ticklen\":8,\"linewidth\":2,\"range\":[-12,-8],\"title\":{\"text\":\"X coordinates (dva)\"}},\"yaxis\":{\"anchor\":\"x\",\"domain\":[0.6000000000000001,1.0],\"visible\":true,\"ticklen\":8,\"linewidth\":2,\"range\":[-2,2],\"title\":{\"text\":\"Y coordinates (dva)\"}},\"xaxis2\":{\"anchor\":\"y2\",\"domain\":[0.3833333333333333,0.6166666666666666],\"visible\":true,\"ticklen\":8,\"linewidth\":2,\"range\":[8,12],\"title\":{\"text\":\"X coordinates (dva)\"}},\"yaxis2\":{\"anchor\":\"x2\",\"domain\":[0.6000000000000001,1.0],\"visible\":true,\"ticklen\":8,\"linewidth\":2,\"range\":[-2,2],\"title\":{\"text\":\"Y coordinates (dva)\"}},\"xaxis3\":{\"anchor\":\"y3\",\"domain\":[0.7666666666666666,0.9999999999999999],\"visible\":true,\"ticklen\":8,\"linewidth\":2,\"range\":[8,12],\"title\":{\"text\":\"X coordinates (dva)\"}},\"yaxis3\":{\"anchor\":\"x3\",\"domain\":[0.6000000000000001,1.0],\"visible\":true,\"ticklen\":8,\"linewidth\":2,\"range\":[-2,2],\"title\":{\"text\":\"Y coordinates (dva)\"}},\"xaxis4\":{\"anchor\":\"y4\",\"domain\":[0.0,0.2333333333333333],\"visible\":true,\"ticklen\":8,\"linewidth\":2,\"range\":[-12,-8],\"title\":{\"text\":\"X coordinates (dva)\"}},\"yaxis4\":{\"anchor\":\"x4\",\"domain\":[0.0,0.4],\"visible\":true,\"ticklen\":8,\"linewidth\":2,\"range\":[-2,2],\"title\":{\"text\":\"Y coordinates (dva)\"}},\"xaxis5\":{\"anchor\":\"y5\",\"domain\":[0.3833333333333333,0.6166666666666666],\"visible\":true,\"ticklen\":8,\"linewidth\":2,\"range\":[8,12],\"title\":{\"text\":\"X coordinates (dva)\"}},\"yaxis5\":{\"anchor\":\"x5\",\"domain\":[0.0,0.4],\"visible\":true,\"ticklen\":8,\"linewidth\":2,\"range\":[-2,2],\"title\":{\"text\":\"Y coordinates (dva)\"}},\"xaxis6\":{\"anchor\":\"y6\",\"domain\":[0.7666666666666666,0.9999999999999999],\"visible\":true,\"ticklen\":8,\"linewidth\":2,\"range\":[8,12],\"title\":{\"text\":\"X coordinates (dva)\"}},\"yaxis6\":{\"anchor\":\"x6\",\"domain\":[0.0,0.4],\"visible\":true,\"ticklen\":8,\"linewidth\":2,\"range\":[-2,2],\"title\":{\"text\":\"Y coordinates (dva)\"}},\"annotations\":[{\"font\":{\"size\":16},\"showarrow\":false,\"text\":\"\\u003cb\\u003eControl leftward trials\\u003cb\\u003e\",\"x\":0.11666666666666665,\"xanchor\":\"center\",\"xref\":\"paper\",\"y\":1.0,\"yanchor\":\"bottom\",\"yref\":\"paper\"},{\"font\":{\"size\":16},\"showarrow\":false,\"text\":\"\\u003cb\\u003eControl rightward trials\\u003cb\\u003e\",\"x\":0.49999999999999994,\"xanchor\":\"center\",\"xref\":\"paper\",\"y\":1.0,\"yanchor\":\"bottom\",\"yref\":\"paper\"},{\"font\":{\"size\":16},\"showarrow\":false,\"text\":\"\\u003cb\\u003eControl all trials\\u003cb\\u003e\",\"x\":0.8833333333333333,\"xanchor\":\"center\",\"xref\":\"paper\",\"y\":1.0,\"yanchor\":\"bottom\",\"yref\":\"paper\"},{\"font\":{\"size\":16},\"showarrow\":false,\"text\":\"\\u003cb\\u003eDouble drift leftward trials\\u003cb\\u003e\",\"x\":0.11666666666666665,\"xanchor\":\"center\",\"xref\":\"paper\",\"y\":0.4,\"yanchor\":\"bottom\",\"yref\":\"paper\"},{\"font\":{\"size\":16},\"showarrow\":false,\"text\":\"\\u003cb\\u003eDouble drift rightward trials\\u003cb\\u003e\",\"x\":0.49999999999999994,\"xanchor\":\"center\",\"xref\":\"paper\",\"y\":0.4,\"yanchor\":\"bottom\",\"yref\":\"paper\"},{\"font\":{\"size\":16},\"showarrow\":false,\"text\":\"\\u003cb\\u003eDouble drift all trials\\u003cb\\u003e\",\"x\":0.8833333333333333,\"xanchor\":\"center\",\"xref\":\"paper\",\"y\":0.4,\"yanchor\":\"bottom\",\"yref\":\"paper\"},{\"font\":{\"size\":13},\"showarrow\":false,\"text\":\"Left saccades\",\"x\":1.05,\"xanchor\":\"left\",\"xref\":\"paper\",\"y\":0.97,\"yanchor\":\"middle\",\"yref\":\"paper\"},{\"font\":{\"size\":13},\"showarrow\":false,\"text\":\"Right saccades\",\"x\":1.05,\"xanchor\":\"left\",\"xref\":\"paper\",\"y\":0.9299999999999999,\"yanchor\":\"middle\",\"yref\":\"paper\"},{\"font\":{\"size\":13},\"showarrow\":false,\"text\":\"All saccades\",\"x\":1.05,\"xanchor\":\"left\",\"xref\":\"paper\",\"y\":0.89,\"yanchor\":\"middle\",\"yref\":\"paper\"},{\"font\":{\"size\":13},\"showarrow\":false,\"text\":\"Left saccades\",\"x\":1.05,\"xanchor\":\"left\",\"xref\":\"paper\",\"y\":0.97,\"yanchor\":\"middle\",\"yref\":\"paper\"},{\"font\":{\"size\":13},\"showarrow\":false,\"text\":\"Right saccades\",\"x\":1.05,\"xanchor\":\"left\",\"xref\":\"paper\",\"y\":0.9299999999999999,\"yanchor\":\"middle\",\"yref\":\"paper\"},{\"font\":{\"size\":13},\"showarrow\":false,\"text\":\"All saccades\",\"x\":1.05,\"xanchor\":\"left\",\"xref\":\"paper\",\"y\":0.89,\"yanchor\":\"middle\",\"yref\":\"paper\"}],\"shapes\":[{\"line\":{\"color\":\"rgb(29, 105, 150)\",\"width\":2},\"type\":\"circle\",\"x0\":1.0142857142857142,\"x1\":1.0257142857142858,\"xref\":\"paper\",\"y0\":0.96,\"y1\":0.98,\"yref\":\"paper\"},{\"line\":{\"color\":\"rgb(204, 80, 62)\",\"width\":2},\"type\":\"circle\",\"x0\":1.0142857142857142,\"x1\":1.0257142857142858,\"xref\":\"paper\",\"y0\":0.9199999999999999,\"y1\":0.94,\"yref\":\"paper\"},{\"line\":{\"color\":\"rgb(115, 175, 72)\",\"width\":2},\"type\":\"circle\",\"x0\":1.0142857142857142,\"x1\":1.0257142857142858,\"xref\":\"paper\",\"y0\":0.88,\"y1\":0.9,\"yref\":\"paper\"},{\"line\":{\"color\":\"rgb(29, 105, 150)\",\"width\":2},\"type\":\"circle\",\"x0\":1.0142857142857142,\"x1\":1.0257142857142858,\"xref\":\"paper\",\"y0\":0.96,\"y1\":0.98,\"yref\":\"paper\"},{\"line\":{\"color\":\"rgb(204, 80, 62)\",\"width\":2},\"type\":\"circle\",\"x0\":1.0142857142857142,\"x1\":1.0257142857142858,\"xref\":\"paper\",\"y0\":0.9199999999999999,\"y1\":0.94,\"yref\":\"paper\"},{\"line\":{\"color\":\"rgb(115, 175, 72)\",\"width\":2},\"type\":\"circle\",\"x0\":1.0142857142857142,\"x1\":1.0257142857142858,\"xref\":\"paper\",\"y0\":0.88,\"y1\":0.9,\"yref\":\"paper\"}],\"margin\":{\"l\":50,\"r\":200,\"t\":50,\"b\":50},\"width\":1250,\"height\":700,\"showlegend\":false},                        {\"responsive\": true}                    ).then(function(){\n",
       "                            \n",
       "var gd = document.getElementById('749f688e-fcb0-4d00-bd38-bb25809f93bf');\n",
       "var x = new MutationObserver(function (mutations, observer) {{\n",
       "        var display = window.getComputedStyle(gd).display;\n",
       "        if (!display || display === 'none') {{\n",
       "            console.log([gd, 'removed!']);\n",
       "            Plotly.purge(gd);\n",
       "            observer.disconnect();\n",
       "        }}\n",
       "}});\n",
       "\n",
       "// Listen for the removal of the full notebook cells\n",
       "var notebookContainer = gd.closest('#notebook-container');\n",
       "if (notebookContainer) {{\n",
       "    x.observe(notebookContainer, {childList: true});\n",
       "}}\n",
       "\n",
       "// Listen for the clearing of the current output cell\n",
       "var outputEl = gd.closest('.output');\n",
       "if (outputEl) {{\n",
       "    x.observe(outputEl, {childList: true});\n",
       "}}\n",
       "\n",
       "                        })                };                });            </script>        </div>"
      ]
     },
     "metadata": {},
     "output_type": "display_data"
    }
   ],
   "source": [
    "# figure specific settings\n",
    "subplot_titles = ('<b>Control leftward trials<b>', '<b>Control rightward trials<b>', '<b>Control all trials<b>', \n",
    "                  '<b>Double drift leftward trials<b>', '<b>Double drift rightward trials<b>', '<b>Double drift all trials<b>',\n",
    "                 )\n",
    "\n",
    "# subplot settings\n",
    "rows, cols = 2, 3\n",
    "leg_mergin = 200\n",
    "fig_height, fig_width = 350*rows, 350*cols+leg_mergin\n",
    "column_widths,row_heights = [1,1,1],[1,1]\n",
    "sb_specs = [[{},{},{}], [{},{},{}]]\n",
    "fig = make_subplots(rows=rows, cols=cols, print_grid=False, vertical_spacing=0.2, horizontal_spacing=0.15, \n",
    "                    column_widths=column_widths, row_heights=row_heights, subplot_titles=subplot_titles)\n",
    "\n",
    "sds = ['Left saccades', 'Right saccades', 'All saccades']\n",
    "sd_cols = [colors_panel[1], colors_panel[7], colors_panel[4]]\n",
    "\n",
    "x_legend = 1.05\n",
    "y_legend_step = 0.04\n",
    "y_legend_sd = 0.97\n",
    "rad_leg = 0.02\n",
    "\n",
    "# Perceived path\n",
    "gabor_path, gabor_steps = 4, 10\n",
    "df_cond = df_all.loc[(df_all.main_sac_trial == 1)]\n",
    "for col in np.arange(cols):\n",
    "    if col == 0: ctr_ext_motion = [-10, 0]\n",
    "    elif col == 1: ctr_ext_motion = [10, 0]\n",
    "    for row in np.arange(rows):\n",
    "        if row == 0: ext_motion_ori = df_cond.ext_mot_ori.mean()\n",
    "        if row == 1: ext_motion_ori = 0\n",
    "        amp_from_ctr = np.linspace(-gabor_path/2, gabor_path/2, gabor_steps);\n",
    "        gabor_ctrs = [ctr_ext_motion[0] + amp_from_ctr * np.cos(np.deg2rad(ext_motion_ori+90)), \n",
    "                      ctr_ext_motion[1] + amp_from_ctr * np.sin(np.deg2rad(ext_motion_ori+90))]\n",
    "        fig.append_trace(go.Scatter(x=gabor_ctrs[0], y=gabor_ctrs[1], mode='lines', marker_color='rgba(100, 100, 100, 0.8)', \n",
    "                                    line_width=6, line_dash='dot'), row=row+1, col=col+1)\n",
    "     \n",
    "# # Show gabor path\n",
    "for col in np.arange(cols):\n",
    "    if col == 0: ctr_ext_motion = [-10, 0]\n",
    "    elif col == 1: ctr_ext_motion = [10, 0]\n",
    "    for row in np.arange(rows):\n",
    "        if row == 0: ext_motion_ori = -df_cond.ext_mot_ori.mean()\n",
    "        if row == 1: ext_motion_ori = -df_cond.ext_mot_ori.mean()\n",
    "        amp_from_ctr = np.linspace(-gabor_path/2, gabor_path/2, gabor_steps);\n",
    "        gabor_ctrs = [ctr_ext_motion[0] + amp_from_ctr * np.cos(np.deg2rad(ext_motion_ori+90)), \n",
    "                      ctr_ext_motion[1] + amp_from_ctr * -np.sin(np.deg2rad(ext_motion_ori+90))]\n",
    "\n",
    "        fig.append_trace(go.Scatter(x=gabor_ctrs[0], y=gabor_ctrs[1], mode='lines', marker_color='rgba(155, 155, 155, 0.5)', \n",
    "                                    line_width=12), row=row+1, col=col+1)\n",
    "\n",
    "# Right / Left saccades\n",
    "# ---------------------\n",
    "ang_reg_all = np.zeros((2,3))\n",
    "for row in np.arange(rows):\n",
    "    if row == 0: trial_type = 1\n",
    "    if row == 1: trial_type = 2\n",
    "        \n",
    "    for sd_num, sd in enumerate(sds):\n",
    "        \n",
    "        # plot\n",
    "        if sd_num == 2:\n",
    "            df_cond_left = df_all.loc[(df_all.main_sac_trial == 1) & (df_all.ext_mot_pos == 1) & (df_all.trial_type == trial_type)]\n",
    "            df_cond_right = df_all.loc[(df_all.main_sac_trial == 1) & (df_all.ext_mot_pos == 2) & (df_all.trial_type == trial_type)]\n",
    "            x = np.hstack((df_cond_left['sac_x_offset_trial']+20 , \n",
    "                           df_cond_right['sac_x_offset_trial']))\n",
    "            y = np.hstack((df_cond_left['sac_y_offset_trial'],\n",
    "                           df_cond_right['sac_y_offset_trial']))\n",
    "        else:\n",
    "            df_cond = df_all.loc[(df_all.main_sac_trial == 1) & (df_all.ext_mot_pos == sd_num+1) & (df_all.trial_type == trial_type)]\n",
    "            x = df_cond['sac_x_offset_trial'] \n",
    "            y = df_cond['sac_y_offset_trial']\n",
    "            \n",
    "        fig.append_trace(go.Scatter(x=x, y=y,\n",
    "                                    name=sd, mode='markers', marker_line_color=sd_cols[sd_num], \n",
    "                                    marker_size=8, marker_opacity=1, marker_color='white',\n",
    "                                    marker_line_width=2, marker_symbol='circle'), row=row+1, col=sd_num+1)\n",
    "    \n",
    "        # Regression line\n",
    "        if sd_num == 0:  x_reg, x_text = np.linspace(-8,-12,10), [-8.8] \n",
    "        else: x_reg, x_text = np.linspace(8,12,10), [11.2] \n",
    "        a,b = np.polyfit(x, y, 1)\n",
    "        y_reg = a*x_reg+b\n",
    "        fig.append_trace(go.Scatter(x=x_reg, y=y_reg, mode='lines', marker_color=sd_cols[sd_num], \n",
    "                                    line_width=5), row=row+1, col=sd_num+1)\n",
    "    \n",
    "        ang_reg = np.rad2deg(np.arctan((x_reg[-1]-x_reg[0])/(y_reg[-1]-y_reg[0])))\n",
    "        ang_reg_all[row, sd_num] = ang_reg\n",
    "        fig.append_trace(go.Scatter(x=x_text, y=[-1.8], mode=\"text\", text=\"{:2.1f} deg\".format(ang_reg),\n",
    "                         textfont_color=sd_cols[sd_num], textfont_size=15), row=row+1, col=sd_num+1)\n",
    "        \n",
    "        # legend\n",
    "        fig.add_annotation(xref='paper', yref='paper', x=x_legend, y=y_legend_sd - y_legend_step * sd_num, \n",
    "                           text=sd, showarrow=False, font_size = template_specs['axes_font_size'],xanchor = 'left', yanchor='middle')\n",
    "        fig.add_shape(type='circle',xref='paper', yref='paper', line_color=sd_cols[sd_num], line_width=2, \n",
    "                      x0=x_legend - 0.03-  rad_leg / 3.5, y0=y_legend_sd - y_legend_step * sd_num - rad_leg / 2, \n",
    "                      x1=x_legend - 0.03 + rad_leg / 3.5, y1=y_legend_sd - y_legend_step * sd_num + rad_leg / 2)\n",
    "\n",
    "# axes settings\n",
    "for row in np.arange(rows):\n",
    "    for col in np.arange(cols):\n",
    "        if col==0: x_range = [-12,-8]\n",
    "        else: x_range = [8,12]\n",
    "        fig.update_xaxes(visible=True, ticklen=8, linewidth=template_specs['axes_width'], range=x_range, title='X coordinates (dva)', row=row+1, col=col+1)\n",
    "        fig.update_yaxes(visible=True, ticklen=8, linewidth=template_specs['axes_width'], range=[-2,2], title='Y coordinates (dva)',row=row+1, col=col+1)\n",
    "    \n",
    "fig.layout.update(template=fig_template, width=fig_width, height=fig_height, margin_l=50, \n",
    "                  margin_r=leg_mergin, margin_t=50, margin_b=50, showlegend=False)\n",
    "fig.show()\n",
    "if not os.path.exists(fig_dir):os.mkdir(fig_dir)\n",
    "fig.write_image('{}/{}_saccade_correlation.pdf'.format(fig_dir, subject))"
   ]
  },
  {
   "cell_type": "code",
   "execution_count": null,
   "id": "f372aa1f-32e2-46af-9ef6-c2f237ee7c35",
   "metadata": {},
   "outputs": [],
   "source": [
    "# figure specific settings\n",
    "subplot_titles = ('<b>Leftward trials<b>', '<b>Rightward trials<b>', '<b>All trials<b>')\n",
    "\n",
    "# subplot settings\n",
    "rows, cols = 1, 3\n",
    "leg_mergin = 200\n",
    "fig_height, fig_width = 350*rows, 350*cols+leg_mergin\n",
    "column_widths,row_heights = [1,1,1],[1]\n",
    "sb_specs = [[{},{},{}]]\n",
    "fig = make_subplots(rows=rows, cols=cols, print_grid=False, vertical_spacing=0.2, horizontal_spacing=0.15, \n",
    "                    column_widths=column_widths, row_heights=row_heights, subplot_titles=subplot_titles)\n",
    "\n",
    "x_legend = 1.05\n",
    "y_legend_step = 0.08\n",
    "y_legend_sd = 0.97\n",
    "rad_leg = 0.04\n",
    "x_txt = ['Control', 'Double drift', 'Difference']\n",
    "x = [1,2,3]\n",
    "y = [-69.1, -72.3, -72.3 -(-69.1)]\n",
    "\n",
    "for sd_num, sd in enumerate(sds):\n",
    "\n",
    "    # plot data\n",
    "    y = [ang_reg_all[0, sd_num], \n",
    "         ang_reg_all[1, sd_num], \n",
    "         ang_reg_all[1, sd_num] - ang_reg_all[0, sd_num]]\n",
    "    \n",
    "    fig.append_trace(go.Bar(x=x, y=y, width=[0.8,0.8,0.8], name=sd, \n",
    "                          marker_color=sd_cols[sd_num]), row=1, col=sd_num+1)\n",
    "\n",
    "    # legend\n",
    "    fig.add_annotation(xref='paper', yref='paper', x=x_legend, y=y_legend_sd - y_legend_step * sd_num, \n",
    "                       text=sd, showarrow=False, font_size = template_specs['axes_font_size'],xanchor = 'left', yanchor='middle')\n",
    "    fig.add_shape(type='rect',xref='paper', yref='paper', fillcolor = sd_cols[sd_num], line_width=0,\n",
    "                  x0=x_legend - 0.03 - rad_leg / 3.5, y0=y_legend_sd - y_legend_step * sd_num - rad_leg / 2, \n",
    "                  x1=x_legend - 0.03 + rad_leg / 3.5, y1=y_legend_sd - y_legend_step * sd_num + rad_leg / 2)\n",
    "    \n",
    "# axes settings\n",
    "for row in np.arange(rows):\n",
    "    for col in np.arange(cols):\n",
    "        fig.update_xaxes(visible=True, ticklen=8, linewidth=template_specs['axes_width'], range=[0.5,3.5], row=row+1, col=col+1)\n",
    "        fig.update_yaxes(visible=True, ticklen=8, linewidth=template_specs['axes_width'], range=[-200,200], zeroline=True, title='Path orientation (deg)', row=row+1, col=col+1)\n",
    "    \n",
    "fig.layout.update(template=fig_template, width=fig_width, height=fig_height, margin_l=50, bargap=0, \n",
    "                  xaxis_tickvals=x, xaxis_ticktext=x_txt,\n",
    "                  xaxis2_tickvals=x, xaxis2_ticktext=x_txt,\n",
    "                  xaxis3_tickvals=x, xaxis3_ticktext=x_txt,\n",
    "                  margin_r=leg_mergin, margin_t=50, margin_b=50, showlegend=False)\n",
    "fig.show()\n",
    "if not os.path.exists(fig_dir):os.mkdir(fig_dir)\n",
    "fig.write_image('{}/{}_main_output.pdf'.format(fig_dir, subject))"
   ]
  },
  {
   "cell_type": "code",
   "execution_count": null,
   "id": "e3e54849-2896-4752-abf9-640df8f09f50",
   "metadata": {},
   "outputs": [],
   "source": []
  },
  {
   "cell_type": "code",
   "execution_count": null,
   "id": "33620564-00bc-4fec-ae8a-1c9ec16002c9",
   "metadata": {},
   "outputs": [],
   "source": []
  }
 ],
 "metadata": {
  "kernelspec": {
   "display_name": "mszinte",
   "language": "python",
   "name": "mszinte"
  },
  "language_info": {
   "codemirror_mode": {
    "name": "ipython",
    "version": 3
   },
   "file_extension": ".py",
   "mimetype": "text/x-python",
   "name": "python",
   "nbconvert_exporter": "python",
   "pygments_lexer": "ipython3",
   "version": "3.9.13"
  }
 },
 "nbformat": 4,
 "nbformat_minor": 5
}

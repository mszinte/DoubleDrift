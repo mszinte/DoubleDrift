{
 "cells": [
  {
   "cell_type": "markdown",
   "id": "cb78db1f-8364-4669-82af-daa47836d04f",
   "metadata": {},
   "source": [
    "# DoubleDrift\n",
    "\n",
    "#### Project description:\n",
    "_Adaptation of experiment 1 (perception) of Lisa & Cavanagh, 2015, Current Biology<br>\n",
    "(http://dx.doi.org/10.1016/j.cub.2015.08.021) for the AMU Neuroscience Master APP 2024 courses._\n",
    "\n",
    "#### Hypothesis: \n",
    "_Participants mislocalize perceptively the drifting gabor but saccade to correctly to its<br>\n",
    " physical position_\n",
    " \n",
    "#### Exercice for APP2024:\n",
    "_Analyse data to reach an adapted version of Figure 1 of [Lisa & Cavanagh, 2015, Current Biology](http://dx.doi.org/10.1016/j.cub.2015.08.021)_\n",
    "\n",
    "<img src=\"img/Lisi_Cavanagh_2015_CB_Figure1.png\" width=700 alt=\"Figure 1\">\n",
    "<!-- ![Lisi_Cavanagh_2015_CB_Figure1.png]()  -->"
   ]
  },
  {
   "cell_type": "markdown",
   "id": "7b983848-2e4a-4784-ad09-bca57c83172b",
   "metadata": {},
   "source": [
    "#### Eye movement data analysis:\n",
    "\n",
    "- [x] Saccade analysis output graph\n",
    "- [x] Saccade parameter graph\n",
    "- [x] Saccade landing analysis"
   ]
  },
  {
   "cell_type": "code",
   "execution_count": 9,
   "id": "44e0db61-e382-40e9-84e1-e01fe7708f01",
   "metadata": {
    "tags": []
   },
   "outputs": [],
   "source": [
    "# Imports\n",
    "import os\n",
    "import numpy as np\n",
    "import pandas as pd\n",
    "from scipy.stats import norm, linregress\n",
    "\n",
    "# figure imports\n",
    "import plotly.graph_objects as go\n",
    "from plotly.subplots import make_subplots\n",
    "import plotly.express as px\n",
    "from plot_utils import plotly_template\n",
    "import plotly.express as px"
   ]
  },
  {
   "cell_type": "code",
   "execution_count": 10,
   "id": "726cb378-fcc8-4edc-99c8-8e1e0cdd9291",
   "metadata": {
    "tags": []
   },
   "outputs": [],
   "source": [
    "# Define folders\n",
    "base_dir = '..'\n",
    "data_dir = '{}/data'.format(base_dir)\n",
    "subject = 'sub-01'\n",
    "session = 'ses-02'\n",
    "subject_num = subject[4:]\n",
    "fig_dir = '{}/{}/{}/beh/figures'.format(data_dir, subject, session)"
   ]
  },
  {
   "cell_type": "code",
   "execution_count": 11,
   "id": "163b3f55-27c9-4c11-adcc-0755d4c39119",
   "metadata": {},
   "outputs": [],
   "source": [
    "# Load dataframe\n",
    "df_all = pd.read_csv('{}/{}/{}/beh/{}_task-DoubleDriftSaccade_data.csv'.format(data_dir, subject, session, subject))"
   ]
  },
  {
   "cell_type": "markdown",
   "id": "69091f4a-85b7-416a-8d77-9be7d54db203",
   "metadata": {},
   "source": [
    "#### Saccade analysis output graph"
   ]
  },
  {
   "cell_type": "code",
   "execution_count": 13,
   "id": "9fa0e669-f7bf-4def-898d-8061d6f71721",
   "metadata": {
    "tags": []
   },
   "outputs": [
    {
     "data": {
      "application/vnd.plotly.v1+json": {
       "config": {
        "plotlyServerURL": "https://plot.ly"
       },
       "data": [
        {
         "marker": {
          "color": "rgb(29, 105, 150)"
         },
         "name": "Left saccades",
         "orientation": "h",
         "type": "bar",
         "x": [
          0,
          0,
          87,
          43,
          0,
          2,
          7
         ],
         "xaxis": "x",
         "y": [
          "<i>Missing data<i>",
          "<i>Blink<i>",
          "<i>Accurate saccade<i>",
          "<i>Corrective saccade<i>",
          "<i>Innacurate saccade<i>",
          "<i>Early saccade (< 0 ms)<i>",
          "<i>Late saccade (> 500 ms)<i>"
         ],
         "yaxis": "y"
        },
        {
         "marker": {
          "color": "rgb(204, 80, 62)"
         },
         "name": "Right saccades",
         "orientation": "h",
         "type": "bar",
         "x": [
          0,
          2,
          88,
          58,
          5,
          1,
          8
         ],
         "xaxis": "x",
         "y": [
          "<i>Missing data<i>",
          "<i>Blink<i>",
          "<i>Accurate saccade<i>",
          "<i>Corrective saccade<i>",
          "<i>Innacurate saccade<i>",
          "<i>Early saccade (< 0 ms)<i>",
          "<i>Late saccade (> 500 ms)<i>"
         ],
         "yaxis": "y"
        }
       ],
       "layout": {
        "annotations": [
         {
          "font": {
           "size": 16
          },
          "showarrow": false,
          "text": "<b>Trial distribution per saccade direction<b>",
          "x": 0.5,
          "xanchor": "center",
          "xref": "paper",
          "y": 1,
          "yanchor": "bottom",
          "yref": "paper"
         },
         {
          "font": {
           "size": 13
          },
          "showarrow": false,
          "text": "Left saccades",
          "x": 1.15,
          "xanchor": "left",
          "xref": "paper",
          "y": 0.97,
          "yanchor": "middle",
          "yref": "paper"
         },
         {
          "font": {
           "size": 13
          },
          "showarrow": false,
          "text": "Right saccades",
          "x": 1.15,
          "xanchor": "left",
          "xref": "paper",
          "y": 0.89,
          "yanchor": "middle",
          "yref": "paper"
         },
         {
          "font": {
           "size": 13
          },
          "showarrow": false,
          "text": "<i>0 %<i>",
          "x": 0,
          "xanchor": "left",
          "xref": "x",
          "y": 0,
          "yref": "y"
         },
         {
          "font": {
           "size": 13
          },
          "showarrow": false,
          "text": "<i>1 %<i>",
          "x": 2,
          "xanchor": "left",
          "xref": "x",
          "y": 1,
          "yref": "y"
         },
         {
          "font": {
           "size": 13
          },
          "showarrow": false,
          "text": "<i>88 %<i>",
          "x": 175,
          "xanchor": "left",
          "xref": "x",
          "y": 2,
          "yref": "y"
         },
         {
          "font": {
           "size": 13
          },
          "showarrow": false,
          "text": "<i>50 %<i>",
          "x": 101,
          "xanchor": "left",
          "xref": "x",
          "y": 3,
          "yref": "y"
         },
         {
          "font": {
           "size": 13
          },
          "showarrow": false,
          "text": "<i>2 %<i>",
          "x": 5,
          "xanchor": "left",
          "xref": "x",
          "y": 4,
          "yref": "y"
         },
         {
          "font": {
           "size": 13
          },
          "showarrow": false,
          "text": "<i>2 %<i>",
          "x": 3,
          "xanchor": "left",
          "xref": "x",
          "y": 5,
          "yref": "y"
         },
         {
          "font": {
           "size": 13
          },
          "showarrow": false,
          "text": "<i>8 %<i>",
          "x": 15,
          "xanchor": "left",
          "xref": "x",
          "y": 6,
          "yref": "y"
         }
        ],
        "barmode": "stack",
        "height": 300,
        "margin": {
         "b": 50,
         "l": 200,
         "r": 200,
         "t": 50
        },
        "shapes": [
         {
          "fillcolor": "rgb(29, 105, 150)",
          "line": {
           "width": 0
          },
          "type": "rect",
          "x0": 1.0799999999999998,
          "x1": 1.1199999999999999,
          "xref": "paper",
          "y0": 0.95,
          "y1": 0.99,
          "yref": "paper"
         },
         {
          "fillcolor": "rgb(204, 80, 62)",
          "line": {
           "width": 0
          },
          "type": "rect",
          "x0": 1.0799999999999998,
          "x1": 1.1199999999999999,
          "xref": "paper",
          "y0": 0.87,
          "y1": 0.91,
          "yref": "paper"
         }
        ],
        "showlegend": false,
        "template": {
         "data": {
          "barpolar": [
           {
            "marker": {
             "line": {
              "color": "rgba(0, 0, 0, 1)",
              "width": 1.5
             }
            },
            "showlegend": false,
            "thetaunit": "radians",
            "type": "barpolar"
           }
          ],
          "pie": [
           {
            "direction": "clockwise",
            "hole": 0.4,
            "marker": {
             "line": {
              "color": [
               "rgba(0, 0, 0, 1)",
               "rgba(255,255,255,0)"
              ],
              "width": [
               1.5,
               0
              ]
             }
            },
            "rotation": 0,
            "showlegend": false,
            "sort": false,
            "textposition": [
             "inside",
             "none"
            ],
            "type": "pie"
           }
          ],
          "violin": [
           {
            "box": {
             "visible": false
            },
            "hoveron": "violins",
            "line": {
             "color": "rgba(0, 0, 0, 1)",
             "width": 1.5
            },
            "marker": {
             "opacity": 0.5,
             "symbol": "x"
            },
            "meanline": {
             "color": "rgba(0, 0, 0, 1)",
             "visible": true,
             "width": 1.5
            },
            "opacity": 1,
            "points": false,
            "showlegend": false,
            "type": "violin",
            "width": 0.8
           }
          ]
         },
         "layout": {
          "annotationdefaults": {
           "font": {
            "color": "rgba(0, 0, 0, 1)",
            "family": "Helvetica",
            "size": 15
           }
          },
          "font": {
           "family": "Helvetica",
           "size": 13
          },
          "plot_bgcolor": "rgba(255, 255, 255, 1)",
          "polar": {
           "angularaxis": {
            "showticklabels": false,
            "ticks": "",
            "visible": false
           },
           "radialaxis": {
            "showticklabels": false,
            "ticks": "",
            "visible": false
           }
          },
          "xaxis": {
           "color": "rgba(0, 0, 0, 1)",
           "hoverformat": ".1f",
           "linewidth": 2,
           "range": [
            0,
            1
           ],
           "showgrid": false,
           "tickfont": {
            "family": "Helvetica",
            "size": 13
           },
           "ticklen": 8,
           "ticks": "outside",
           "tickwidth": 2,
           "title": {
            "font": {
             "family": "Helvetica",
             "size": 15
            }
           },
           "visible": true,
           "zeroline": false,
           "zerolinecolor": "rgba(0, 0, 0, 1)",
           "zerolinewidth": 2
          },
          "yaxis": {
           "color": "rgba(0, 0, 0, 1)",
           "hoverformat": ".1f",
           "linewidth": 2,
           "showgrid": false,
           "tickfont": {
            "family": "Helvetica",
            "size": 13
           },
           "ticklen": 8,
           "ticks": "outside",
           "tickwidth": 2,
           "title": {
            "font": {
             "family": "Helvetica",
             "size": 15
            }
           },
           "visible": true,
           "zeroline": false,
           "zerolinecolor": "rgba(0, 0, 0, 1)",
           "zerolinewidth": 2
          }
         }
        },
        "width": 800,
        "xaxis": {
         "anchor": "y",
         "domain": [
          0,
          1
         ],
         "linewidth": 2,
         "range": [
          0,
          250
         ],
         "ticklen": 8,
         "type": "linear",
         "visible": true
        },
        "yaxis": {
         "anchor": "x",
         "autorange": true,
         "domain": [
          0,
          1
         ],
         "linewidth": 2,
         "range": [
          6.5,
          -0.5
         ],
         "ticklen": 8,
         "type": "category",
         "visible": true
        }
       }
      },
      "image/png": "[encoded data removed]",
      "text/html": [
       "<div>                            <div id=\"6b669417-a656-4284-b440-142299e4243d\" class=\"plotly-graph-div\" style=\"height:300px; width:800px;\"></div>            <script type=\"text/javascript\">                require([\"plotly\"], function(Plotly) {                    window.PLOTLYENV=window.PLOTLYENV || {};                                    if (document.getElementById(\"6b669417-a656-4284-b440-142299e4243d\")) {                    Plotly.newPlot(                        \"6b669417-a656-4284-b440-142299e4243d\",                        [{\"marker\":{\"color\":\"rgb(29, 105, 150)\"},\"name\":\"Left saccades\",\"orientation\":\"h\",\"x\":[0.0,0.0,87.0,43.0,0.0,2.0,7.0],\"y\":[\"\\u003ci\\u003eMissing data\\u003ci\\u003e\",\"\\u003ci\\u003eBlink\\u003ci\\u003e\",\"\\u003ci\\u003eAccurate saccade\\u003ci\\u003e\",\"\\u003ci\\u003eCorrective saccade\\u003ci\\u003e\",\"\\u003ci\\u003eInnacurate saccade\\u003ci\\u003e\",\"\\u003ci\\u003eEarly saccade (\\u003c 0 ms)\\u003ci\\u003e\",\"\\u003ci\\u003eLate saccade (\\u003e 500 ms)\\u003ci\\u003e\"],\"type\":\"bar\",\"xaxis\":\"x\",\"yaxis\":\"y\"},{\"marker\":{\"color\":\"rgb(204, 80, 62)\"},\"name\":\"Right saccades\",\"orientation\":\"h\",\"x\":[0.0,2.0,88.0,58.0,5.0,1.0,8.0],\"y\":[\"\\u003ci\\u003eMissing data\\u003ci\\u003e\",\"\\u003ci\\u003eBlink\\u003ci\\u003e\",\"\\u003ci\\u003eAccurate saccade\\u003ci\\u003e\",\"\\u003ci\\u003eCorrective saccade\\u003ci\\u003e\",\"\\u003ci\\u003eInnacurate saccade\\u003ci\\u003e\",\"\\u003ci\\u003eEarly saccade (\\u003c 0 ms)\\u003ci\\u003e\",\"\\u003ci\\u003eLate saccade (\\u003e 500 ms)\\u003ci\\u003e\"],\"type\":\"bar\",\"xaxis\":\"x\",\"yaxis\":\"y\"}],                        {\"template\":{\"data\":{\"barpolar\":[{\"marker\":{\"line\":{\"color\":\"rgba(0,0,0,1)\",\"width\":1.5}},\"showlegend\":false,\"thetaunit\":\"radians\",\"type\":\"barpolar\"}],\"pie\":[{\"direction\":\"clockwise\",\"hole\":0.4,\"marker\":{\"line\":{\"color\":[\"rgba(0,0,0,1)\",\"rgba(255,255,255,0)\"],\"width\":[1.5,0]}},\"rotation\":0,\"showlegend\":false,\"sort\":false,\"textposition\":[\"inside\",\"none\"],\"type\":\"pie\"}],\"violin\":[{\"box\":{\"visible\":false},\"hoveron\":\"violins\",\"line\":{\"color\":\"rgba(0, 0, 0, 1)\",\"width\":1.5},\"marker\":{\"opacity\":0.5,\"symbol\":\"x\"},\"meanline\":{\"color\":\"rgba(0, 0, 0, 1)\",\"visible\":true,\"width\":1.5},\"opacity\":1,\"points\":false,\"showlegend\":false,\"width\":0.8,\"type\":\"violin\"}]},\"layout\":{\"annotationdefaults\":{\"font\":{\"color\":\"rgba(0, 0, 0, 1)\",\"family\":\"Helvetica\",\"size\":15}},\"font\":{\"family\":\"Helvetica\",\"size\":13},\"plot_bgcolor\":\"rgba(255, 255, 255, 1)\",\"polar\":{\"angularaxis\":{\"showticklabels\":false,\"ticks\":\"\",\"visible\":false},\"radialaxis\":{\"showticklabels\":false,\"ticks\":\"\",\"visible\":false}},\"xaxis\":{\"color\":\"rgba(0, 0, 0, 1)\",\"hoverformat\":\".1f\",\"linewidth\":2,\"range\":[0,1],\"showgrid\":false,\"tickfont\":{\"family\":\"Helvetica\",\"size\":13},\"ticklen\":8,\"ticks\":\"outside\",\"tickwidth\":2,\"title\":{\"font\":{\"family\":\"Helvetica\",\"size\":15}},\"visible\":true,\"zeroline\":false,\"zerolinecolor\":\"rgba(0, 0, 0, 1)\",\"zerolinewidth\":2},\"yaxis\":{\"color\":\"rgba(0, 0, 0, 1)\",\"hoverformat\":\".1f\",\"linewidth\":2,\"showgrid\":false,\"tickfont\":{\"family\":\"Helvetica\",\"size\":13},\"ticklen\":8,\"ticks\":\"outside\",\"tickwidth\":2,\"title\":{\"font\":{\"family\":\"Helvetica\",\"size\":15}},\"visible\":true,\"zeroline\":false,\"zerolinecolor\":\"rgba(0, 0, 0, 1)\",\"zerolinewidth\":2}}},\"xaxis\":{\"anchor\":\"y\",\"domain\":[0.0,1.0],\"visible\":true,\"ticklen\":8,\"linewidth\":2,\"range\":[0,250]},\"yaxis\":{\"anchor\":\"x\",\"domain\":[0.0,1.0],\"visible\":true,\"ticklen\":8,\"linewidth\":2,\"autorange\":\"reversed\"},\"annotations\":[{\"font\":{\"size\":16},\"showarrow\":false,\"text\":\"\\u003cb\\u003eTrial distribution per saccade direction\\u003cb\\u003e\",\"x\":0.5,\"xanchor\":\"center\",\"xref\":\"paper\",\"y\":1.0,\"yanchor\":\"bottom\",\"yref\":\"paper\"},{\"font\":{\"size\":13},\"showarrow\":false,\"text\":\"Left saccades\",\"x\":1.15,\"xanchor\":\"left\",\"xref\":\"paper\",\"y\":0.97,\"yanchor\":\"middle\",\"yref\":\"paper\"},{\"font\":{\"size\":13},\"showarrow\":false,\"text\":\"Right saccades\",\"x\":1.15,\"xanchor\":\"left\",\"xref\":\"paper\",\"y\":0.89,\"yanchor\":\"middle\",\"yref\":\"paper\"},{\"font\":{\"size\":13},\"showarrow\":false,\"text\":\"\\u003ci\\u003e0 %\\u003ci\\u003e\",\"x\":0.0,\"xanchor\":\"left\",\"xref\":\"x\",\"y\":0,\"yref\":\"y\"},{\"font\":{\"size\":13},\"showarrow\":false,\"text\":\"\\u003ci\\u003e1 %\\u003ci\\u003e\",\"x\":2.0,\"xanchor\":\"left\",\"xref\":\"x\",\"y\":1,\"yref\":\"y\"},{\"font\":{\"size\":13},\"showarrow\":false,\"text\":\"\\u003ci\\u003e88 %\\u003ci\\u003e\",\"x\":175.0,\"xanchor\":\"left\",\"xref\":\"x\",\"y\":2,\"yref\":\"y\"},{\"font\":{\"size\":13},\"showarrow\":false,\"text\":\"\\u003ci\\u003e50 %\\u003ci\\u003e\",\"x\":101.0,\"xanchor\":\"left\",\"xref\":\"x\",\"y\":3,\"yref\":\"y\"},{\"font\":{\"size\":13},\"showarrow\":false,\"text\":\"\\u003ci\\u003e2 %\\u003ci\\u003e\",\"x\":5.0,\"xanchor\":\"left\",\"xref\":\"x\",\"y\":4,\"yref\":\"y\"},{\"font\":{\"size\":13},\"showarrow\":false,\"text\":\"\\u003ci\\u003e2 %\\u003ci\\u003e\",\"x\":3.0,\"xanchor\":\"left\",\"xref\":\"x\",\"y\":5,\"yref\":\"y\"},{\"font\":{\"size\":13},\"showarrow\":false,\"text\":\"\\u003ci\\u003e8 %\\u003ci\\u003e\",\"x\":15.0,\"xanchor\":\"left\",\"xref\":\"x\",\"y\":6,\"yref\":\"y\"}],\"shapes\":[{\"fillcolor\":\"rgb(29, 105, 150)\",\"line\":{\"width\":0},\"type\":\"rect\",\"x0\":1.0799999999999998,\"x1\":1.1199999999999999,\"xref\":\"paper\",\"y0\":0.95,\"y1\":0.99,\"yref\":\"paper\"},{\"fillcolor\":\"rgb(204, 80, 62)\",\"line\":{\"width\":0},\"type\":\"rect\",\"x0\":1.0799999999999998,\"x1\":1.1199999999999999,\"xref\":\"paper\",\"y0\":0.87,\"y1\":0.91,\"yref\":\"paper\"}],\"margin\":{\"l\":200,\"r\":200,\"t\":50,\"b\":50},\"width\":800,\"height\":300,\"barmode\":\"stack\",\"showlegend\":false},                        {\"responsive\": true}                    ).then(function(){\n",
       "                            \n",
       "var gd = document.getElementById('6b669417-a656-4284-b440-142299e4243d');\n",
       "var x = new MutationObserver(function (mutations, observer) {{\n",
       "        var display = window.getComputedStyle(gd).display;\n",
       "        if (!display || display === 'none') {{\n",
       "            console.log([gd, 'removed!']);\n",
       "            Plotly.purge(gd);\n",
       "            observer.disconnect();\n",
       "        }}\n",
       "}});\n",
       "\n",
       "// Listen for the removal of the full notebook cells\n",
       "var notebookContainer = gd.closest('#notebook-container');\n",
       "if (notebookContainer) {{\n",
       "    x.observe(notebookContainer, {childList: true});\n",
       "}}\n",
       "\n",
       "// Listen for the clearing of the current output cell\n",
       "var outputEl = gd.closest('.output');\n",
       "if (outputEl) {{\n",
       "    x.observe(outputEl, {childList: true});\n",
       "}}\n",
       "\n",
       "                        })                };                });            </script>        </div>"
      ]
     },
     "metadata": {},
     "output_type": "display_data"
    }
   ],
   "source": [
    "# general figure settings\n",
    "template_specs = dict(  axes_color=\"rgba(0, 0, 0, 1)\",\n",
    "                        axes_width=2,\n",
    "                        axes_font_size=13,\n",
    "                        bg_col=\"rgba(255, 255, 255, 1)\",\n",
    "                        font='Helvetica',\n",
    "                        title_font_size=15,\n",
    "                        plot_width=1.5)\n",
    "fig_template = plotly_template(template_specs)\n",
    "\n",
    "# figure specific settings\n",
    "x_range = [0,250]\n",
    "colors_panel = px.colors.qualitative.Prism\n",
    "subplot_titles = ('<b>Trial distribution per saccade direction<b>', '<b>Trial distribution per external motion orientation<b>')\n",
    "analysis_crit = ['<i>Missing data<i>', '<i>Blink<i>', '<i>Accurate saccade<i>', '<i>Corrective saccade<i>', \n",
    "                 '<i>Innacurate saccade<i>', '<i>Early saccade (< 0 ms)<i>', '<i>Late saccade (> 500 ms)<i>']\n",
    "analysis_crit_df = ['miss_time_trial', 'blink_trial', 'main_sac_trial', 'cor_sac_trial',\n",
    "                    'innacurate_sac_trial', 'early_sac_trial', 'late_sac_trial']\n",
    "x_label = 'Trials'\n",
    "sds = ['Left saccades', 'Right saccades']\n",
    "sd_cols = [colors_panel[1], colors_panel[7]]\n",
    "x_legend = 1.15\n",
    "y_legend_step = 0.08\n",
    "y_legend_sd = 0.97\n",
    "rad_leg = 0.04\n",
    "\n",
    "# subplot settings\n",
    "rows, cols = 1, 1\n",
    "fig_height, fig_width = 300,800\n",
    "column_widths,row_heights = [1],[1]\n",
    "sb_specs = [[{}]]\n",
    "fig = make_subplots(rows=rows, cols=cols, specs=sb_specs, print_grid=False, vertical_spacing=0.2, horizontal_spacing=0.05, \n",
    "                    column_widths=column_widths, row_heights=row_heights, shared_yaxes=True, subplot_titles=subplot_titles)\n",
    "\n",
    "# Right / Left saccades\n",
    "# ---------------------\n",
    "for sd_num, sd in enumerate(sds):\n",
    "    # plot\n",
    "    fig.append_trace(go.Bar(y=analysis_crit, x=df_all.loc[(df_all.ext_mot_pos == sd_num + 1)][analysis_crit_df].sum(), \n",
    "                            orientation='h', name=sd, marker_color=sd_cols[sd_num]), row=1, col=1)\n",
    "    # legend\n",
    "    fig.add_annotation(xref='paper', yref='paper', x=x_legend, y=y_legend_sd - y_legend_step * sd_num, \n",
    "                       text=sd, showarrow=False, font_size = template_specs['axes_font_size'],xanchor = 'left', yanchor='middle')\n",
    "    fig.add_shape(type='rect',xref='paper', yref='paper', fillcolor=sd_cols[sd_num],line_width=0,\n",
    "                  x0=x_legend - 0.05 - rad_leg / 2, y0=y_legend_sd - y_legend_step * sd_num - rad_leg / 2, \n",
    "                  x1=x_legend - 0.05 + rad_leg / 2, y1=y_legend_sd - y_legend_step * sd_num + rad_leg / 2)\n",
    "    \n",
    "# annotation value\n",
    "for num_crit, crit_name in enumerate(analysis_crit_df):\n",
    "    fig.add_annotation(x=df_all[crit_name].sum(), y=num_crit, text='<i>{:1.0f} %<i>'.format(df_all[crit_name].mean()*100), \n",
    "                       showarrow=False, font_size = template_specs['axes_font_size'],xanchor = 'left', row=1, col=1)\n",
    "\n",
    "# axes settings\n",
    "for row in np.arange(rows):\n",
    "    for col in np.arange(cols):\n",
    "        fig.update_xaxes(visible=True, ticklen=8, linewidth=template_specs['axes_width'], range=x_range, row=row+1, col=col+1)\n",
    "        fig.update_yaxes(visible=True, ticklen=8, linewidth=template_specs['axes_width'], autorange=\"reversed\", row=row+1, col=col+1)\n",
    "    \n",
    "# Save figure\n",
    "fig.layout.update(template=fig_template, width=fig_width, height=fig_height, margin_l=200, \n",
    "                  margin_r=200, margin_t=50, margin_b=50, barmode='stack', showlegend=False)\n",
    "fig.show()\n",
    "if not os.path.exists(fig_dir):os.mkdir(fig_dir)\n",
    "fig.write_image('{}/{}_trial_dist.pdf'.format(fig_dir, subject))"
   ]
  },
  {
   "cell_type": "markdown",
   "id": "f5ddc0f5-db49-417e-9f43-0fcc543ab698",
   "metadata": {},
   "source": [
    "#### Saccade parameter graph"
   ]
  },
  {
   "cell_type": "code",
   "execution_count": null,
   "id": "c5034b6c-68c2-472a-af90-62e767faf903",
   "metadata": {
    "tags": []
   },
   "outputs": [],
   "source": [
    "# figure specific settings\n",
    "subplot_titles = ('<b>Latency per sac. direction<b>', '<b>Amplitude per sac. direction<b>', '<b>Velocity per sac. direction<b>', '<b>Main sequence per sac. direction<b>',\n",
    "                  '<b>Latency per ext. mot. ori.<b>', '<b>Amplitude per ext. mot. ori.<b>', '<b>Velocity per ext. mot. ori.<b>', '<b>Main sequence per ext. mot. ori.<b>',)\n",
    "\n",
    "# subplot settings\n",
    "rows, cols = 1, 4\n",
    "leg_mergin = 200\n",
    "fig_height, fig_width = 350, 350 * 4 + leg_mergin\n",
    "column_widths, row_heights = [1,1,1,1],[1]\n",
    "sb_specs = [[{},{},{},{}]]\n",
    "fig = make_subplots(rows=rows, cols=cols, print_grid=False, vertical_spacing=0.2, horizontal_spacing=0.04, \n",
    "                    column_widths=column_widths, row_heights=row_heights, subplot_titles=subplot_titles)\n",
    "\n",
    "x_legend = 1.05\n",
    "y_legend_step = 0.08\n",
    "y_legend_sd = 0.97\n",
    "y_legend_mo = 0.36\n",
    "rad_leg = 0.04\n",
    "\n",
    "# Right / Left saccades\n",
    "# ---------------------\n",
    "for sd_num, sd in enumerate(sds):\n",
    "    # plot\n",
    "    fig.append_trace(go.Histogram(x=df_all.loc[(df_all.main_sac_trial == 1) & (df_all.ext_mot_pos == sd_num+1)]['sac_lat_trial'], name=sd, marker_color=sd_cols[sd_num], xbins_size = 20),row=1, col=1)\n",
    "    fig.append_trace(go.Histogram(x=df_all.loc[(df_all.main_sac_trial == 1) & (df_all.ext_mot_pos == sd_num+1)]['sac_amp_trial'], name=sd, marker_color=sd_cols[sd_num], xbins_size = 0.25),row=1, col=2)\n",
    "    fig.append_trace(go.Histogram(x=df_all.loc[(df_all.main_sac_trial == 1) & (df_all.ext_mot_pos == sd_num+1)]['sac_vpeak_trial'], name=sd, marker_color=sd_cols[sd_num], xbins_size = 25),row=1, col=3)\n",
    "    fig.append_trace(go.Scatter(x=df_all.loc[(df_all.main_sac_trial == 1) & (df_all.ext_mot_pos == sd_num+1)]['sac_amp_trial'],\n",
    "                                y=df_all.loc[(df_all.main_sac_trial == 1) & (df_all.ext_mot_pos == sd_num+1)]['sac_vpeak_trial'],name=sd, mode='markers',marker_color=sd_cols[sd_num],\n",
    "                                line_width=0, opacity=0.5\n",
    "                               ),row=1, col=4)\n",
    "    \n",
    "    # legend\n",
    "    fig.add_annotation(xref='paper', yref='paper', x=x_legend, y=y_legend_sd-y_legend_step*sd_num, \n",
    "                       text=sd, showarrow=False, font_size = template_specs['axes_font_size'],xanchor = 'left', yanchor='middle')\n",
    "    fig.add_shape(type='rect',xref='paper', yref='paper', fillcolor=sd_cols[sd_num],line_width=0,\n",
    "                  x0=x_legend-0.01-rad_leg/6, y0=y_legend_sd-y_legend_step*sd_num-rad_leg/2, \n",
    "                  x1=x_legend-0.01+rad_leg/6, y1=y_legend_sd-y_legend_step*sd_num+rad_leg/2)\n",
    "\n",
    "\n",
    "# axes settings\n",
    "for row in np.arange(rows):\n",
    "    for col in np.arange(cols):\n",
    "        fig.update_xaxes(visible=True, ticklen=8, linewidth=template_specs['axes_width'], row=row+1, col=col+1)\n",
    "        fig.update_yaxes(visible=True, ticklen=8, linewidth=template_specs['axes_width'], range=[0, 60], title='Trials',row=row+1, col=col+1)\n",
    "\n",
    "fig.layout.update(xaxis_range =[0, 600],\n",
    "                  xaxis2_range=[8, 14], \n",
    "                  xaxis3_range=[200, 800], \n",
    "                  xaxis4_range=[8, 14], \n",
    "                  yaxis4_range=[200, 800], \n",
    "                  xaxis_title ='Latency (msec)', \n",
    "                  xaxis2_title='Amplitude (dva)',\n",
    "                  xaxis3_title='Velocity peak (dva/s)',\n",
    "                  xaxis4_title='Amplitude (dva)',\n",
    "                  yaxis4_title='Velocity peak (dva/s)',\n",
    "                 )\n",
    "\n",
    "# Save figure\n",
    "fig.layout.update(template=fig_template, width=fig_width, height=fig_height, margin_l=50, \n",
    "                  margin_r=leg_mergin, margin_t=50, margin_b=50, barmode='stack', showlegend=False)\n",
    "fig.show()\n",
    "if not os.path.exists(fig_dir):os.mkdir(fig_dir)    \n",
    "fig.write_image('{}/{}_saccade_dist.pdf'.format(fig_dir, subject))"
   ]
  },
  {
   "cell_type": "code",
   "execution_count": null,
   "id": "914b1125-a966-449f-9afe-6759cb637bda",
   "metadata": {},
   "outputs": [],
   "source": [
    "# figure specific settings\n",
    "subplot_titles = ('<b>Sac. onset per direction<b>', '<b>Sac. offset per direction<b>')\n",
    "\n",
    "# subplot settings\n",
    "rows, cols = 1, 2\n",
    "leg_mergin = 200\n",
    "fig_height, fig_width = 350, 300*2+leg_mergin\n",
    "column_widths,row_heights = [1,1],[1]\n",
    "sb_specs = [[{},{}]]\n",
    "fig = make_subplots(rows=rows, cols=cols, print_grid=False, vertical_spacing=0.2, horizontal_spacing=0.15, \n",
    "                    column_widths=column_widths, row_heights=row_heights, subplot_titles=subplot_titles)\n",
    "\n",
    "x_legend = 1.13\n",
    "y_legend_step = 0.08\n",
    "y_legend_sd = 0.97\n",
    "y_legend_ts = 0.36\n",
    "rad_leg = 0.04\n",
    "\n",
    "# Right / Left saccades\n",
    "# ---------------------\n",
    "for sd_num, sd in enumerate(sds):\n",
    "    \n",
    "    # plot\n",
    "    df_cond = df_all.loc[(df_all.main_sac_trial == 1) & (df_all.ext_mot_pos == sd_num+1)]\n",
    "    fig.append_trace(go.Scatter(x=df_cond['sac_x_onset_trial'],\n",
    "                                y=df_cond['sac_y_onset_trial'],\n",
    "                                name=sd, mode='markers', marker_color=sd_cols[sd_num], \n",
    "                                marker_size=8, marker_opacity=0.3,\n",
    "                                marker_line_width=0, marker_symbol='circle'), row=1, col=1)\n",
    "    \n",
    "    fig.append_trace(go.Scatter(x=df_cond['sac_x_offset_trial'],\n",
    "                                y=df_cond['sac_y_offset_trial'],\n",
    "                                name=sd, mode='markers', marker_color=sd_cols[sd_num],\n",
    "                                marker_size=8, marker_opacity=0.3,\n",
    "                                marker_line_width=0, marker_symbol='circle'), row=1, col=2)\n",
    "    \n",
    "    # legend\n",
    "    fig.add_annotation(xref='paper', yref='paper', x=x_legend, y=y_legend_sd - y_legend_step * sd_num, \n",
    "                       text=sd, showarrow=False, font_size = template_specs['axes_font_size'],xanchor = 'left', yanchor='middle')\n",
    "    fig.add_shape(type='circle',xref='paper', yref='paper', fillcolor=sd_cols[sd_num], line_width=0, opacity=0.3,\n",
    "                  x0=x_legend - 0.03-  rad_leg / 4.5, y0=y_legend_sd - y_legend_step * sd_num - rad_leg / 2, \n",
    "                  x1=x_legend - 0.03 + rad_leg / 4.5, y1=y_legend_sd - y_legend_step * sd_num + rad_leg / 2)\n",
    "\n",
    "# ref lines\n",
    "fig.add_hline(y=0, opacity=0.25, row=1, col=1)\n",
    "fig.add_vline(x=0, opacity=0.25, row=1, col=1)\n",
    "fig.add_vline(x=-10, opacity=0.25, row=1, col=2)\n",
    "fig.add_vline(x=10, opacity=0.25, row=1, col=2)\n",
    "fig.add_hline(y=0,  opacity=0.25, row=1, col=2)\n",
    "fig.add_hline(y=0,opacity=0.25, row=1, col=2)\n",
    "        \n",
    "# axes settings\n",
    "for row in np.arange(rows):\n",
    "    for col in np.arange(cols):\n",
    "        fig.update_xaxes(visible=True, ticklen=8, linewidth=template_specs['axes_width'], range=[-20,20], title='X coordinates (dva)', row=row+1, col=col+1)\n",
    "        fig.update_yaxes(visible=True, ticklen=8, linewidth=template_specs['axes_width'], range=[-20,20], title='Y coordinates (dva)',row=row+1, col=col+1)\n",
    "    \n",
    "fig.layout.update(template=fig_template, width=fig_width, height=fig_height, margin_l=50, \n",
    "                  margin_r=leg_mergin, margin_t=50, margin_b=50, showlegend=False)\n",
    "fig.show()\n",
    "if not os.path.exists(fig_dir):os.mkdir(fig_dir)\n",
    "fig.write_image('{}/{}_saccade_landing.pdf'.format(fig_dir, subject))"
   ]
  },
  {
   "cell_type": "code",
   "execution_count": null,
   "id": "f79cea6f-fb27-4c22-98d9-d988cc486438",
   "metadata": {},
   "outputs": [],
   "source": [
    "# figure specific settings\n",
    "subplot_titles = ('<b>Control leftward trials<b>', '<b>Control rightward trials<b>', '<b>Control all trials<b>', \n",
    "                  '<b>Double drift leftward trials<b>', '<b>Double drift rightward trials<b>', '<b>Double drift all trials<b>',\n",
    "                 )\n",
    "\n",
    "# subplot settings\n",
    "rows, cols = 2, 3\n",
    "leg_mergin = 200\n",
    "fig_height, fig_width = 350*rows, 350*cols+leg_mergin\n",
    "column_widths,row_heights = [1,1,1],[1,1]\n",
    "sb_specs = [[{},{},{}], [{},{},{}]]\n",
    "fig = make_subplots(rows=rows, cols=cols, print_grid=False, vertical_spacing=0.2, horizontal_spacing=0.15, \n",
    "                    column_widths=column_widths, row_heights=row_heights, subplot_titles=subplot_titles)\n",
    "\n",
    "sds = ['Left saccades', 'Right saccades', 'All saccades']\n",
    "sd_cols = [colors_panel[1], colors_panel[7], colors_panel[4]]\n",
    "\n",
    "x_legend = 1.05\n",
    "y_legend_step = 0.04\n",
    "y_legend_sd = 0.97\n",
    "rad_leg = 0.02\n",
    "\n",
    "# Perceived path\n",
    "gabor_path, gabor_steps = 4, 10\n",
    "df_cond = df_all.loc[(df_all.main_sac_trial == 1)]\n",
    "for col in np.arange(cols):\n",
    "    if col == 0: ctr_ext_motion = [-10, 0]\n",
    "    elif col == 1: ctr_ext_motion = [10, 0]\n",
    "    for row in np.arange(rows):\n",
    "        if row == 0: ext_motion_ori = 0\n",
    "        if row == 1: ext_motion_ori = df_cond.exp_mot_ori.mean()\n",
    "        amp_from_ctr = np.linspace(-gabor_path/2, gabor_path/2, gabor_steps);\n",
    "        gabor_ctrs = [ctr_ext_motion[0] + amp_from_ctr * np.cos(np.deg2rad(ext_motion_ori+90)), \n",
    "                      ctr_ext_motion[1] + amp_from_ctr * np.sin(np.deg2rad(ext_motion_ori+90))]\n",
    "        fig.append_trace(go.Scatter(x=gabor_ctrs[0], y=gabor_ctrs[1], mode='lines', marker_color='rgba(100, 100, 100, 0.8)', \n",
    "                                    line_width=6, line_dash='dot'), row=row+1, col=col+1)\n",
    "     \n",
    "# # Show gabor path\n",
    "for col in np.arange(cols):\n",
    "    if col == 0: ctr_ext_motion = [-10, 0]\n",
    "    elif col == 1: ctr_ext_motion = [10, 0]\n",
    "    for row in np.arange(rows):\n",
    "        amp_from_ctr = np.linspace(-gabor_path/2, gabor_path/2, gabor_steps);\n",
    "        gabor_ctrs = [ctr_ext_motion[0] + amp_from_ctr * np.cos(np.deg2rad(ext_motion_ori+90)), \n",
    "                      ctr_ext_motion[1] + amp_from_ctr * np.sin(np.deg2rad(ext_motion_ori+90))]\n",
    "\n",
    "        fig.append_trace(go.Scatter(x=gabor_ctrs[0], y=gabor_ctrs[1], mode='lines', marker_color='rgba(155, 155, 155, 0.5)', \n",
    "                                    line_width=12), row=row+1, col=col+1)\n",
    "\n",
    "# Right / Left saccades\n",
    "# ---------------------\n",
    "ang_reg_all = np.zeros((2,3))\n",
    "for row in np.arange(rows):\n",
    "    if row == 0: trial_type = 1\n",
    "    if row == 1: trial_type = 2\n",
    "        \n",
    "    for sd_num, sd in enumerate(sds):\n",
    "        \n",
    "        # plot\n",
    "        if sd_num == 2:\n",
    "            df_cond_left = df_all.loc[(df_all.main_sac_trial == 1) & (df_all.ext_mot_pos == 1) & (df_all.trial_type == trial_type)]\n",
    "            df_cond_right = df_all.loc[(df_all.main_sac_trial == 1) & (df_all.ext_mot_pos == 2) & (df_all.trial_type == trial_type)]\n",
    "            x = np.hstack((df_cond_left['sac_x_offset_trial']+20 , \n",
    "                           df_cond_right['sac_x_offset_trial']))\n",
    "            y = np.hstack((df_cond_left['sac_y_offset_trial'],\n",
    "                           df_cond_right['sac_y_offset_trial']))\n",
    "        else:\n",
    "            df_cond = df_all.loc[(df_all.main_sac_trial == 1) & (df_all.ext_mot_pos == sd_num+1) & (df_all.trial_type == trial_type)]\n",
    "            x = df_cond['sac_x_offset_trial'] - df_cond['sac_x_onset_trial']\n",
    "            y = df_cond['sac_y_offset_trial'] - df_cond['sac_x_onset_trial']\n",
    "            \n",
    "        fig.append_trace(go.Scatter(x=x, y=y,\n",
    "                                    name=sd, mode='markers', marker_line_color=sd_cols[sd_num], \n",
    "                                    marker_size=8, marker_opacity=1, marker_color='white',\n",
    "                                    marker_line_width=2, marker_symbol='circle'), row=row+1, col=sd_num+1)\n",
    "    \n",
    "        # Regression line\n",
    "        if sd_num == 0:  x_reg, x_text = np.linspace(-8,-12,10), [-8.8] \n",
    "        else: x_reg, x_text = np.linspace(8,12,10), [11.2] \n",
    "        a,b = np.polyfit(x, y, 1)\n",
    "        y_reg = a*x_reg+b\n",
    "        fig.append_trace(go.Scatter(x=x_reg, y=y_reg, mode='lines', marker_color=sd_cols[sd_num], \n",
    "                                    line_width=5), row=row+1, col=sd_num+1)\n",
    "    \n",
    "        ang_reg = np.rad2deg(np.arctan((x_reg[0]-x_reg[-1])/(y_reg[0]-y_reg[-1])))\n",
    "        ang_reg_all[row, sd_num] = ang_reg\n",
    "        fig.append_trace(go.Scatter(x=x_text, y=[-1.8], mode=\"text\", text=\"{:2.1f} deg\".format(ang_reg),\n",
    "                         textfont_color=sd_cols[sd_num], textfont_size=15), row=row+1, col=sd_num+1)\n",
    "        \n",
    "        # legend\n",
    "        fig.add_annotation(xref='paper', yref='paper', x=x_legend, y=y_legend_sd - y_legend_step * sd_num, \n",
    "                           text=sd, showarrow=False, font_size = template_specs['axes_font_size'],xanchor = 'left', yanchor='middle')\n",
    "        fig.add_shape(type='circle',xref='paper', yref='paper', line_color=sd_cols[sd_num], line_width=2, \n",
    "                      x0=x_legend - 0.03-  rad_leg / 3.5, y0=y_legend_sd - y_legend_step * sd_num - rad_leg / 2, \n",
    "                      x1=x_legend - 0.03 + rad_leg / 3.5, y1=y_legend_sd - y_legend_step * sd_num + rad_leg / 2)\n",
    "\n",
    "# axes settings\n",
    "for row in np.arange(rows):\n",
    "    for col in np.arange(cols):\n",
    "        if col==0: x_range = [-12,-8]\n",
    "        else: x_range = [8,12]\n",
    "        fig.update_xaxes(visible=True, ticklen=8, linewidth=template_specs['axes_width'], range=x_range, title='X coordinates (dva)', row=row+1, col=col+1)\n",
    "        fig.update_yaxes(visible=True, ticklen=8, linewidth=template_specs['axes_width'], range=[-2,2], title='Y coordinates (dva)',row=row+1, col=col+1)\n",
    "    \n",
    "fig.layout.update(template=fig_template, width=fig_width, height=fig_height, margin_l=50, \n",
    "                  margin_r=leg_mergin, margin_t=50, margin_b=50, showlegend=False)\n",
    "fig.show()\n",
    "if not os.path.exists(fig_dir):os.mkdir(fig_dir)\n",
    "fig.write_image('{}/{}_saccade_correlation.pdf'.format(fig_dir, subject))"
   ]
  },
  {
   "cell_type": "code",
   "execution_count": null,
   "id": "f372aa1f-32e2-46af-9ef6-c2f237ee7c35",
   "metadata": {},
   "outputs": [],
   "source": [
    "# figure specific settings\n",
    "subplot_titles = ('<b>Leftward trials<b>', '<b>Rightward trials<b>', '<b>All trials<b>')\n",
    "\n",
    "# subplot settings\n",
    "rows, cols = 1, 3\n",
    "leg_mergin = 200\n",
    "fig_height, fig_width = 350*rows, 350*cols+leg_mergin\n",
    "column_widths,row_heights = [1,1,1],[1]\n",
    "sb_specs = [[{},{},{}]]\n",
    "fig = make_subplots(rows=rows, cols=cols, print_grid=False, vertical_spacing=0.2, horizontal_spacing=0.15, \n",
    "                    column_widths=column_widths, row_heights=row_heights, subplot_titles=subplot_titles)\n",
    "\n",
    "x_legend = 1.05\n",
    "y_legend_step = 0.08\n",
    "y_legend_sd = 0.97\n",
    "rad_leg = 0.04\n",
    "x_txt = ['Control', 'Double drift', 'Difference']\n",
    "x = [1,2,3]\n",
    "y = [-69.1, -72.3, -72.3 -(-69.1)]\n",
    "\n",
    "for sd_num, sd in enumerate(sds):\n",
    "\n",
    "    # plot data\n",
    "    y = [ang_reg_all[0, sd_num], \n",
    "         ang_reg_all[1, sd_num], \n",
    "         ang_reg_all[1, sd_num] - ang_reg_all[0, sd_num]]\n",
    "    \n",
    "    fig.append_trace(go.Bar(x=x, y=y, width=[0.8,0.8,0.8], name=sd, \n",
    "                          marker_color=sd_cols[sd_num]), row=1, col=sd_num+1)\n",
    "\n",
    "    # legend\n",
    "    fig.add_annotation(xref='paper', yref='paper', x=x_legend, y=y_legend_sd - y_legend_step * sd_num, \n",
    "                       text=sd, showarrow=False, font_size = template_specs['axes_font_size'],xanchor = 'left', yanchor='middle')\n",
    "    fig.add_shape(type='rect',xref='paper', yref='paper', fillcolor = sd_cols[sd_num], line_width=0,\n",
    "                  x0=x_legend - 0.03-  rad_leg / 3.5, y0=y_legend_sd - y_legend_step * sd_num - rad_leg / 2, \n",
    "                  x1=x_legend - 0.03 + rad_leg / 3.5, y1=y_legend_sd - y_legend_step * sd_num + rad_leg / 2)\n",
    "    \n",
    "# axes settings\n",
    "for row in np.arange(rows):\n",
    "    for col in np.arange(cols):\n",
    "        fig.update_xaxes(visible=True, ticklen=8, linewidth=template_specs['axes_width'], range=[0.5,3.5], row=row+1, col=col+1)\n",
    "        fig.update_yaxes(visible=True, ticklen=8, linewidth=template_specs['axes_width'], range=[-100,20], zeroline=True, title='Path orientation (deg)', row=row+1, col=col+1)\n",
    "    \n",
    "fig.layout.update(template=fig_template, width=fig_width, height=fig_height, margin_l=50, bargap=0, \n",
    "                  xaxis_tickvals=x, xaxis_ticktext=x_txt,\n",
    "                  xaxis2_tickvals=x, xaxis2_ticktext=x_txt,\n",
    "                  xaxis3_tickvals=x, xaxis3_ticktext=x_txt,\n",
    "                  margin_r=leg_mergin, margin_t=50, margin_b=50, showlegend=False)\n",
    "fig.show()\n",
    "if not os.path.exists(fig_dir):os.mkdir(fig_dir)\n",
    "fig.write_image('{}/{}_main_output.pdf'.format(fig_dir, subject))"
   ]
  },
  {
   "cell_type": "code",
   "execution_count": null,
   "id": "e3e54849-2896-4752-abf9-640df8f09f50",
   "metadata": {},
   "outputs": [],
   "source": []
  }
 ],
 "metadata": {
  "kernelspec": {
   "display_name": "mszinte",
   "language": "python",
   "name": "mszinte"
  },
  "language_info": {
   "codemirror_mode": {
    "name": "ipython",
    "version": 3
   },
   "file_extension": ".py",
   "mimetype": "text/x-python",
   "name": "python",
   "nbconvert_exporter": "python",
   "pygments_lexer": "ipython3",
   "version": "3.9.13"
  }
 },
 "nbformat": 4,
 "nbformat_minor": 5
}
